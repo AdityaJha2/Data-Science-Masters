{
 "cells": [
  {
   "cell_type": "markdown",
   "id": "8340b4d7-7d53-4e7f-832f-dd2a3caedb94",
   "metadata": {},
   "source": [
    "## TUPLES"
   ]
  },
  {
   "cell_type": "code",
   "execution_count": 1,
   "id": "a9244fd1-677d-4ab7-b7fe-837dbe8b64dd",
   "metadata": {},
   "outputs": [],
   "source": [
    "t=()"
   ]
  },
  {
   "cell_type": "code",
   "execution_count": 2,
   "id": "68668726-d815-42a2-be0f-9fa662b40f1d",
   "metadata": {},
   "outputs": [
    {
     "data": {
      "text/plain": [
       "tuple"
      ]
     },
     "execution_count": 2,
     "metadata": {},
     "output_type": "execute_result"
    }
   ],
   "source": [
    "type(t)"
   ]
  },
  {
   "cell_type": "code",
   "execution_count": 45,
   "id": "a56b2ab0-dccb-4120-91d7-5ef2835c8f73",
   "metadata": {},
   "outputs": [],
   "source": [
    "t1=(1,2,3,\"Aditya\",True)"
   ]
  },
  {
   "cell_type": "code",
   "execution_count": 46,
   "id": "fa40bb35-d546-457e-8292-24e4b0c0096a",
   "metadata": {},
   "outputs": [
    {
     "data": {
      "text/plain": [
       "(1, 2, 3, 'Aditya', True)"
      ]
     },
     "execution_count": 46,
     "metadata": {},
     "output_type": "execute_result"
    }
   ],
   "source": [
    "t1"
   ]
  },
  {
   "cell_type": "code",
   "execution_count": 47,
   "id": "a0273d96-db8f-4471-aa17-56e60dc03346",
   "metadata": {},
   "outputs": [
    {
     "data": {
      "text/plain": [
       "True"
      ]
     },
     "execution_count": 47,
     "metadata": {},
     "output_type": "execute_result"
    }
   ],
   "source": [
    "t1[4]"
   ]
  },
  {
   "cell_type": "code",
   "execution_count": 48,
   "id": "3d1064a7-b9f4-4d07-bd93-95ebc9a62128",
   "metadata": {},
   "outputs": [],
   "source": [
    "t1=t1[::-1]\n"
   ]
  },
  {
   "cell_type": "code",
   "execution_count": 16,
   "id": "91927050-c96a-4010-9faa-b4e97c8ab17c",
   "metadata": {},
   "outputs": [
    {
     "data": {
      "text/plain": [
       "(True, 'Aditya', 3, 2, 1)"
      ]
     },
     "execution_count": 16,
     "metadata": {},
     "output_type": "execute_result"
    }
   ],
   "source": [
    "t1"
   ]
  },
  {
   "cell_type": "code",
   "execution_count": 18,
   "id": "12f4826b-d8f6-4d2a-8e4b-edaf16a08769",
   "metadata": {},
   "outputs": [
    {
     "data": {
      "text/plain": [
       "(True, 'Aditya', 3)"
      ]
     },
     "execution_count": 18,
     "metadata": {},
     "output_type": "execute_result"
    }
   ],
   "source": [
    "t1[0:3]"
   ]
  },
  {
   "cell_type": "code",
   "execution_count": 19,
   "id": "34081dc7-7af8-4195-a2e6-de5424970a21",
   "metadata": {},
   "outputs": [
    {
     "data": {
      "text/plain": [
       "0"
      ]
     },
     "execution_count": 19,
     "metadata": {},
     "output_type": "execute_result"
    }
   ],
   "source": [
    "t1.count('a')"
   ]
  },
  {
   "cell_type": "code",
   "execution_count": 21,
   "id": "813badea-8b81-4a9c-b101-889f501f4745",
   "metadata": {},
   "outputs": [
    {
     "data": {
      "text/plain": [
       "1"
      ]
     },
     "execution_count": 21,
     "metadata": {},
     "output_type": "execute_result"
    }
   ],
   "source": [
    "t1.count(3)"
   ]
  },
  {
   "cell_type": "code",
   "execution_count": 23,
   "id": "fba4b693-7c88-45b3-ba14-cb56a3acdec2",
   "metadata": {},
   "outputs": [
    {
     "data": {
      "text/plain": [
       "1"
      ]
     },
     "execution_count": 23,
     "metadata": {},
     "output_type": "execute_result"
    }
   ],
   "source": [
    "t1.index('Aditya')"
   ]
  },
  {
   "cell_type": "code",
   "execution_count": 24,
   "id": "b1a49c86-3c6f-42dc-ae9e-1fab59957635",
   "metadata": {},
   "outputs": [
    {
     "data": {
      "text/plain": [
       "2"
      ]
     },
     "execution_count": 24,
     "metadata": {},
     "output_type": "execute_result"
    }
   ],
   "source": [
    "t1.index(3)"
   ]
  },
  {
   "cell_type": "code",
   "execution_count": 26,
   "id": "5f38015f-4d9f-4c2b-84f5-9e162abac498",
   "metadata": {},
   "outputs": [
    {
     "data": {
      "text/plain": [
       "3"
      ]
     },
     "execution_count": 26,
     "metadata": {},
     "output_type": "execute_result"
    }
   ],
   "source": [
    "t1.index(2)"
   ]
  },
  {
   "cell_type": "code",
   "execution_count": 28,
   "id": "5c10c8c7-3eee-4410-9497-3b13fba0a01f",
   "metadata": {},
   "outputs": [
    {
     "ename": "TypeError",
     "evalue": "'tuple' object does not support item assignment",
     "output_type": "error",
     "traceback": [
      "\u001b[0;31m---------------------------------------------------------------------------\u001b[0m",
      "\u001b[0;31mTypeError\u001b[0m                                 Traceback (most recent call last)",
      "Cell \u001b[0;32mIn[28], line 2\u001b[0m\n\u001b[1;32m      1\u001b[0m \u001b[38;5;66;03m## Tuples are immutable\u001b[39;00m\n\u001b[0;32m----> 2\u001b[0m \u001b[43mt1\u001b[49m\u001b[43m[\u001b[49m\u001b[38;5;241;43m0\u001b[39;49m\u001b[43m]\u001b[49m\u001b[38;5;241m=\u001b[39m\u001b[38;5;28;01mFalse\u001b[39;00m\n",
      "\u001b[0;31mTypeError\u001b[0m: 'tuple' object does not support item assignment"
     ]
    }
   ],
   "source": [
    "## Tuples are immutable\n",
    "t1[0]=False"
   ]
  },
  {
   "cell_type": "code",
   "execution_count": 29,
   "id": "7268153d-a0ff-4fda-8edb-0e0d2135dc9b",
   "metadata": {},
   "outputs": [
    {
     "name": "stdout",
     "output_type": "stream",
     "text": [
      "True - <class 'bool'>\n",
      "Aditya - <class 'str'>\n",
      "3 - <class 'int'>\n",
      "2 - <class 'int'>\n",
      "1 - <class 'int'>\n"
     ]
    }
   ],
   "source": [
    "for i in t1:\n",
    "    print(i,\"-\",type(i))"
   ]
  },
  {
   "cell_type": "code",
   "execution_count": 30,
   "id": "6227b1bc-66a5-4c4f-a786-93c80d7d8b6b",
   "metadata": {},
   "outputs": [
    {
     "data": {
      "text/plain": [
       "(1, 2, 3, 4, 5, 1, 2, 3, 4, 5, 1, 2, 3, 4, 5)"
      ]
     },
     "execution_count": 30,
     "metadata": {},
     "output_type": "execute_result"
    }
   ],
   "source": [
    "t2=(1,2,3,4,5)\n",
    "t2*3"
   ]
  },
  {
   "cell_type": "code",
   "execution_count": 31,
   "id": "181a5aff-ab15-4c8d-8a48-bc09d2e3535a",
   "metadata": {},
   "outputs": [
    {
     "data": {
      "text/plain": [
       "5"
      ]
     },
     "execution_count": 31,
     "metadata": {},
     "output_type": "execute_result"
    }
   ],
   "source": [
    "max(t2)"
   ]
  },
  {
   "cell_type": "code",
   "execution_count": 32,
   "id": "52da9f1f-6e1b-4887-b599-d4af5f2126fe",
   "metadata": {},
   "outputs": [
    {
     "data": {
      "text/plain": [
       "1"
      ]
     },
     "execution_count": 32,
     "metadata": {},
     "output_type": "execute_result"
    }
   ],
   "source": [
    "min(t2)"
   ]
  },
  {
   "cell_type": "code",
   "execution_count": 33,
   "id": "7455d2f5-4043-4059-9924-0aafb8ce8479",
   "metadata": {},
   "outputs": [],
   "source": [
    "t3=(t1,t2)"
   ]
  },
  {
   "cell_type": "code",
   "execution_count": 35,
   "id": "2dcdaf4d-e098-4263-b23b-3065548f4306",
   "metadata": {},
   "outputs": [
    {
     "data": {
      "text/plain": [
       "((True, 'Aditya', 3, 2, 1), (1, 2, 3, 4, 5))"
      ]
     },
     "execution_count": 35,
     "metadata": {},
     "output_type": "execute_result"
    }
   ],
   "source": [
    "## Nested tuple.\n",
    "t3"
   ]
  },
  {
   "cell_type": "code",
   "execution_count": 49,
   "id": "43108c91-0013-433a-bfee-f3008436a1f3",
   "metadata": {},
   "outputs": [],
   "source": [
    "## deleting a tuple\n",
    "del t1"
   ]
  },
  {
   "cell_type": "code",
   "execution_count": 50,
   "id": "60d42ca3-a510-430f-b405-713b3c6fff00",
   "metadata": {},
   "outputs": [
    {
     "data": {
      "text/plain": [
       "False"
      ]
     },
     "execution_count": 50,
     "metadata": {},
     "output_type": "execute_result"
    }
   ],
   "source": [
    "'Aditya' in t3"
   ]
  },
  {
   "cell_type": "markdown",
   "id": "19be8607-160a-4f19-b292-5c8de5853669",
   "metadata": {},
   "source": [
    "## SETS"
   ]
  },
  {
   "cell_type": "code",
   "execution_count": 51,
   "id": "a819ec20-89fc-43a5-b1cf-b661f46c9847",
   "metadata": {},
   "outputs": [
    {
     "data": {
      "text/plain": [
       "dict"
      ]
     },
     "execution_count": 51,
     "metadata": {},
     "output_type": "execute_result"
    }
   ],
   "source": [
    "s={}\n",
    "type(s)"
   ]
  },
  {
   "cell_type": "code",
   "execution_count": 52,
   "id": "46061783-d9fe-4502-ad60-a8412cd66134",
   "metadata": {},
   "outputs": [
    {
     "data": {
      "text/plain": [
       "set"
      ]
     },
     "execution_count": 52,
     "metadata": {},
     "output_type": "execute_result"
    }
   ],
   "source": [
    "s1={1,2,3,4,5}\n",
    "type(s1)"
   ]
  },
  {
   "cell_type": "code",
   "execution_count": 53,
   "id": "b994e299-5a1a-4e69-a284-21fefc49c322",
   "metadata": {},
   "outputs": [
    {
     "data": {
      "text/plain": [
       "{1, 2, 3, 5, 6}"
      ]
     },
     "execution_count": 53,
     "metadata": {},
     "output_type": "execute_result"
    }
   ],
   "source": [
    "s2={1,1,2,3,5,6}\n",
    "s2"
   ]
  },
  {
   "cell_type": "code",
   "execution_count": 57,
   "id": "ca9a6587-913c-4a5f-ba95-888fce808928",
   "metadata": {},
   "outputs": [
    {
     "data": {
      "text/plain": [
       "[1, 2, 3, 5, 6]"
      ]
     },
     "execution_count": 57,
     "metadata": {},
     "output_type": "execute_result"
    }
   ],
   "source": [
    "## Type conversion\n",
    "l=list(s2)\n",
    "l"
   ]
  },
  {
   "cell_type": "code",
   "execution_count": 58,
   "id": "b7062d75-0d18-43ce-a3db-eed7c5f4b280",
   "metadata": {},
   "outputs": [],
   "source": [
    "s=set(l)"
   ]
  },
  {
   "cell_type": "code",
   "execution_count": 59,
   "id": "6118b2e5-f135-4a07-a4d3-e95e56edccaa",
   "metadata": {},
   "outputs": [
    {
     "data": {
      "text/plain": [
       "{1, 2, 3, 5, 6}"
      ]
     },
     "execution_count": 59,
     "metadata": {},
     "output_type": "execute_result"
    }
   ],
   "source": [
    "s"
   ]
  },
  {
   "cell_type": "code",
   "execution_count": 61,
   "id": "3096ea0f-f3aa-474b-ac55-8eadc426660b",
   "metadata": {},
   "outputs": [
    {
     "ename": "TypeError",
     "evalue": "unhashable type: 'list'",
     "output_type": "error",
     "traceback": [
      "\u001b[0;31m---------------------------------------------------------------------------\u001b[0m",
      "\u001b[0;31mTypeError\u001b[0m                                 Traceback (most recent call last)",
      "Cell \u001b[0;32mIn[61], line 2\u001b[0m\n\u001b[1;32m      1\u001b[0m \u001b[38;5;66;03m## Cannot store a list in a set\u001b[39;00m\n\u001b[0;32m----> 2\u001b[0m s\u001b[38;5;241m=\u001b[39m{\u001b[38;5;241m1\u001b[39m,\u001b[38;5;241m2\u001b[39m,\u001b[38;5;241m5\u001b[39m,[\u001b[38;5;241m1\u001b[39m,\u001b[38;5;241m5\u001b[39m,\u001b[38;5;241m6\u001b[39m],\u001b[38;5;124m\"\u001b[39m\u001b[38;5;124mAman\u001b[39m\u001b[38;5;124m\"\u001b[39m}\n\u001b[1;32m      3\u001b[0m s\n",
      "\u001b[0;31mTypeError\u001b[0m: unhashable type: 'list'"
     ]
    }
   ],
   "source": [
    "## Cannot store a list in a set\n",
    "s={1,2,5,[1,5,6],\"Aman\"}\n",
    "s"
   ]
  },
  {
   "cell_type": "code",
   "execution_count": 63,
   "id": "c9552018-d1da-40f4-b9b8-4af285340a92",
   "metadata": {},
   "outputs": [],
   "source": [
    "s={1,5,(5,8,9),\"ABHI\"}"
   ]
  },
  {
   "cell_type": "code",
   "execution_count": 64,
   "id": "616d8cc9-b7ba-4f06-9f71-9383eb096a82",
   "metadata": {},
   "outputs": [
    {
     "data": {
      "text/plain": [
       "{(5, 8, 9), 1, 5, 'ABHI'}"
      ]
     },
     "execution_count": 64,
     "metadata": {},
     "output_type": "execute_result"
    }
   ],
   "source": [
    "s"
   ]
  },
  {
   "cell_type": "code",
   "execution_count": 67,
   "id": "ff99ee67-04c2-446d-b000-c9d6cd62c6a6",
   "metadata": {},
   "outputs": [],
   "source": [
    "# CAse sensitive\n",
    "ss={1,5,\"Aditya\",\"aditya\"}"
   ]
  },
  {
   "cell_type": "code",
   "execution_count": 68,
   "id": "6f0fb6b8-8c18-4c70-aaba-79cbb4a0e935",
   "metadata": {},
   "outputs": [
    {
     "data": {
      "text/plain": [
       "{1, 5, 'Aditya', 'aditya'}"
      ]
     },
     "execution_count": 68,
     "metadata": {},
     "output_type": "execute_result"
    }
   ],
   "source": [
    "ss"
   ]
  },
  {
   "cell_type": "code",
   "execution_count": 69,
   "id": "b2b696de-4a30-454b-9427-3ea2e3e148f5",
   "metadata": {},
   "outputs": [
    {
     "ename": "TypeError",
     "evalue": "'set' object is not subscriptable",
     "output_type": "error",
     "traceback": [
      "\u001b[0;31m---------------------------------------------------------------------------\u001b[0m",
      "\u001b[0;31mTypeError\u001b[0m                                 Traceback (most recent call last)",
      "Cell \u001b[0;32mIn[69], line 1\u001b[0m\n\u001b[0;32m----> 1\u001b[0m \u001b[43mss\u001b[49m\u001b[43m[\u001b[49m\u001b[38;5;241;43m0\u001b[39;49m\u001b[43m]\u001b[49m\n",
      "\u001b[0;31mTypeError\u001b[0m: 'set' object is not subscriptable"
     ]
    }
   ],
   "source": [
    "ss[0]"
   ]
  },
  {
   "cell_type": "code",
   "execution_count": 70,
   "id": "273c4186-2047-4539-a67d-765b9ae57448",
   "metadata": {},
   "outputs": [],
   "source": [
    "ss.add(7)"
   ]
  },
  {
   "cell_type": "code",
   "execution_count": 71,
   "id": "8682d3b1-3f8c-41a5-9bef-04aef4abeac6",
   "metadata": {},
   "outputs": [
    {
     "data": {
      "text/plain": [
       "{1, 5, 7, 'Aditya', 'aditya'}"
      ]
     },
     "execution_count": 71,
     "metadata": {},
     "output_type": "execute_result"
    }
   ],
   "source": [
    "ss"
   ]
  },
  {
   "cell_type": "code",
   "execution_count": 72,
   "id": "16f8f7eb-1302-428c-b22d-61d9a9c5726e",
   "metadata": {},
   "outputs": [],
   "source": [
    "ss.add(2)"
   ]
  },
  {
   "cell_type": "code",
   "execution_count": 73,
   "id": "92ab1323-56e4-4c6f-ba3a-85721a44c027",
   "metadata": {},
   "outputs": [
    {
     "data": {
      "text/plain": [
       "{1, 2, 5, 7, 'Aditya', 'aditya'}"
      ]
     },
     "execution_count": 73,
     "metadata": {},
     "output_type": "execute_result"
    }
   ],
   "source": [
    "ss"
   ]
  },
  {
   "cell_type": "code",
   "execution_count": 74,
   "id": "02c14b1b-aa6d-40b5-a95b-f37bca7a5823",
   "metadata": {},
   "outputs": [
    {
     "data": {
      "text/plain": [
       "1"
      ]
     },
     "execution_count": 74,
     "metadata": {},
     "output_type": "execute_result"
    }
   ],
   "source": [
    "ss.pop()"
   ]
  },
  {
   "cell_type": "code",
   "execution_count": 75,
   "id": "4a49c8fd-7deb-4798-85cd-0f1559621cd4",
   "metadata": {},
   "outputs": [
    {
     "data": {
      "text/plain": [
       "{2, 5, 7, 'Aditya', 'aditya'}"
      ]
     },
     "execution_count": 75,
     "metadata": {},
     "output_type": "execute_result"
    }
   ],
   "source": [
    "ss"
   ]
  },
  {
   "cell_type": "code",
   "execution_count": 76,
   "id": "c4444d1a-b8af-49c4-97fc-4b77316971b4",
   "metadata": {},
   "outputs": [],
   "source": [
    "ss.remove(7)"
   ]
  },
  {
   "cell_type": "code",
   "execution_count": 77,
   "id": "c8b8df38-5f1d-439d-94f1-9559929cdad8",
   "metadata": {},
   "outputs": [
    {
     "data": {
      "text/plain": [
       "{2, 5, 'Aditya', 'aditya'}"
      ]
     },
     "execution_count": 77,
     "metadata": {},
     "output_type": "execute_result"
    }
   ],
   "source": [
    "ss"
   ]
  },
  {
   "cell_type": "code",
   "execution_count": 78,
   "id": "3569fd0c-002f-4ae1-9cfc-5a1b6a4f5d59",
   "metadata": {},
   "outputs": [],
   "source": [
    "ss.clear()"
   ]
  },
  {
   "cell_type": "code",
   "execution_count": 79,
   "id": "8ac7c926-b072-4b8d-ac4f-549251f4b320",
   "metadata": {},
   "outputs": [
    {
     "data": {
      "text/plain": [
       "set()"
      ]
     },
     "execution_count": 79,
     "metadata": {},
     "output_type": "execute_result"
    }
   ],
   "source": [
    "ss"
   ]
  },
  {
   "cell_type": "code",
   "execution_count": 83,
   "id": "098ae4f9-4596-495c-bb84-b9b78e23ed7c",
   "metadata": {},
   "outputs": [
    {
     "data": {
      "text/plain": [
       "{5}"
      ]
     },
     "execution_count": 83,
     "metadata": {},
     "output_type": "execute_result"
    }
   ],
   "source": [
    "s3={1,2,3,4,5}\n",
    "s4={1,2,3,4,10}\n",
    "s3.difference(s4)"
   ]
  },
  {
   "cell_type": "code",
   "execution_count": 82,
   "id": "dcdd705a-e8f2-4901-9029-649631ddeaa8",
   "metadata": {},
   "outputs": [
    {
     "data": {
      "text/plain": [
       "{10}"
      ]
     },
     "execution_count": 82,
     "metadata": {},
     "output_type": "execute_result"
    }
   ],
   "source": [
    "s3={1,2,3,4,5}\n",
    "s4={1,2,3,4,10}\n",
    "s4.difference(s3)"
   ]
  },
  {
   "cell_type": "markdown",
   "id": "a5b3f3e6-f709-4260-96f5-259e58c3fc86",
   "metadata": {},
   "source": [
    "## DICTIONARY"
   ]
  },
  {
   "cell_type": "code",
   "execution_count": 1,
   "id": "d670c8f9-e869-498d-b8c6-17810a5cf62a",
   "metadata": {},
   "outputs": [],
   "source": [
    "d={}"
   ]
  },
  {
   "cell_type": "code",
   "execution_count": 2,
   "id": "fa602f00-b388-47f2-abc8-69ccf6763e88",
   "metadata": {},
   "outputs": [
    {
     "data": {
      "text/plain": [
       "dict"
      ]
     },
     "execution_count": 2,
     "metadata": {},
     "output_type": "execute_result"
    }
   ],
   "source": [
    "type(d)"
   ]
  },
  {
   "cell_type": "code",
   "execution_count": 5,
   "id": "25c863cd-953b-4d64-af9f-a321e8fc8fd3",
   "metadata": {},
   "outputs": [
    {
     "data": {
      "text/plain": [
       "{'Name': 'Aditya', 'City': 'Delhi', 'Pin': 110030}"
      ]
     },
     "execution_count": 5,
     "metadata": {},
     "output_type": "execute_result"
    }
   ],
   "source": [
    "d1={\"Name\":\"Aditya\", \"City\":\"Delhi\", \"Pin\":110030 }\n",
    "d1"
   ]
  },
  {
   "cell_type": "code",
   "execution_count": 16,
   "id": "8ee7aeb5-40ca-434a-bae2-a4d44ca271d0",
   "metadata": {},
   "outputs": [
    {
     "data": {
      "text/plain": [
       "{1: 'int', 1.5: 'float'}"
      ]
     },
     "execution_count": 16,
     "metadata": {},
     "output_type": "execute_result"
    }
   ],
   "source": [
    "d2={1:\"int\", 1.5:\"float\"}\n",
    "d2"
   ]
  },
  {
   "cell_type": "code",
   "execution_count": 18,
   "id": "490e494b-f440-4d5a-b6d7-23afbeadba71",
   "metadata": {},
   "outputs": [
    {
     "data": {
      "text/plain": [
       "{True: 'Bool'}"
      ]
     },
     "execution_count": 18,
     "metadata": {},
     "output_type": "execute_result"
    }
   ],
   "source": [
    "d3={True:\"Bool\"}\n",
    "d3"
   ]
  },
  {
   "cell_type": "code",
   "execution_count": 19,
   "id": "2f4b932a-4187-437a-a92c-8e3b7b5510b1",
   "metadata": {},
   "outputs": [],
   "source": [
    "d4={(1,2,5):\"tuple\"}"
   ]
  },
  {
   "cell_type": "code",
   "execution_count": 20,
   "id": "c0a0e55f-3614-40a8-a2b7-b11b7744b428",
   "metadata": {},
   "outputs": [
    {
     "data": {
      "text/plain": [
       "{(1, 2, 5): 'tuple'}"
      ]
     },
     "execution_count": 20,
     "metadata": {},
     "output_type": "execute_result"
    }
   ],
   "source": [
    "d4"
   ]
  },
  {
   "cell_type": "code",
   "execution_count": 23,
   "id": "d7bda62e-f35d-4fa2-9100-ba98019add61",
   "metadata": {},
   "outputs": [
    {
     "data": {
      "text/plain": [
       "{'Course_name': ['Data Science Masters', 'C++ full course']}"
      ]
     },
     "execution_count": 23,
     "metadata": {},
     "output_type": "execute_result"
    }
   ],
   "source": [
    "d5={\"Course_name\":[\"Data Science Masters\", \"C++ full course\"]}\n",
    "d5"
   ]
  },
  {
   "cell_type": "code",
   "execution_count": 24,
   "id": "efca7e89-9a9a-4d49-9732-a898e7bd6df0",
   "metadata": {},
   "outputs": [],
   "source": [
    "d6={\"Dict\":{\"Name\":\"Aditya\", \"Age\":20}}"
   ]
  },
  {
   "cell_type": "code",
   "execution_count": 25,
   "id": "9f75f732-eceb-4c30-b616-0e1c7a889e17",
   "metadata": {},
   "outputs": [
    {
     "data": {
      "text/plain": [
       "{'Dict': {'Name': 'Aditya', 'Age': 20}}"
      ]
     },
     "execution_count": 25,
     "metadata": {},
     "output_type": "execute_result"
    }
   ],
   "source": [
    "d6"
   ]
  },
  {
   "cell_type": "code",
   "execution_count": 29,
   "id": "fa31a5e8-a4be-4dbb-8364-05ac2c5cd8f2",
   "metadata": {},
   "outputs": [],
   "source": [
    "d7={\"Batch_name\":[\"DATA Science\", \"WEB-DEV\", \"JAVA with DSA\"], \"Start_date\":(28,14,21), \"Mentor_Name\":{\"Krish\",\"Sudhanshu\",\"Navin\"}}"
   ]
  },
  {
   "cell_type": "code",
   "execution_count": 30,
   "id": "94b33b67-fafa-40ab-97f8-800f4881fb4a",
   "metadata": {},
   "outputs": [
    {
     "data": {
      "text/plain": [
       "{'Batch_name': ['DATA Science', 'WEB-DEV', 'JAVA with DSA'],\n",
       " 'Start_date': (28, 14, 21),\n",
       " 'Mentor_Name': {'Krish', 'Navin', 'Sudhanshu'}}"
      ]
     },
     "execution_count": 30,
     "metadata": {},
     "output_type": "execute_result"
    }
   ],
   "source": [
    "d7"
   ]
  },
  {
   "cell_type": "code",
   "execution_count": 33,
   "id": "8bea1953-886a-45fe-8eb8-1f8bf585abf9",
   "metadata": {},
   "outputs": [
    {
     "data": {
      "text/plain": [
       "{'Batch_name': ['DATA Science', 'WEB-DEV', 'JAVA with DSA'],\n",
       " 'Start_date': (28, 14, 21),\n",
       " 'Mentor_Name': {'Krish', 'Navin', 'Sudhanshu'},\n",
       " 'Timing': (8, 8, 8)}"
      ]
     },
     "execution_count": 33,
     "metadata": {},
     "output_type": "execute_result"
    }
   ],
   "source": [
    "d7[\"Timing\"]=(8,8,8)\n",
    "d7"
   ]
  },
  {
   "cell_type": "code",
   "execution_count": 35,
   "id": "101b4ad9-7aa0-40b5-9799-a26458b28bc4",
   "metadata": {},
   "outputs": [
    {
     "data": {
      "text/plain": [
       "['DATA Science', 'WEB-DEV', 'JAVA with DSA']"
      ]
     },
     "execution_count": 35,
     "metadata": {},
     "output_type": "execute_result"
    }
   ],
   "source": [
    "d7[\"Batch_name\"]"
   ]
  },
  {
   "cell_type": "code",
   "execution_count": 36,
   "id": "5a52968c-7ecb-4edf-92eb-3ef2a4a62ab9",
   "metadata": {},
   "outputs": [
    {
     "data": {
      "text/plain": [
       "{'Krish', 'Navin', 'Sudhanshu'}"
      ]
     },
     "execution_count": 36,
     "metadata": {},
     "output_type": "execute_result"
    }
   ],
   "source": [
    "d7[\"Mentor_Name\"]"
   ]
  },
  {
   "cell_type": "code",
   "execution_count": 41,
   "id": "b75bd2ab-d5d6-4536-9fbd-d926a4bef578",
   "metadata": {},
   "outputs": [
    {
     "data": {
      "text/plain": [
       "'Aditya'"
      ]
     },
     "execution_count": 41,
     "metadata": {},
     "output_type": "execute_result"
    }
   ],
   "source": [
    "d6[\"Dict\"][\"Name\"]"
   ]
  },
  {
   "cell_type": "code",
   "execution_count": 42,
   "id": "437901f1-acfa-40a4-a8e2-296d54391a82",
   "metadata": {},
   "outputs": [
    {
     "data": {
      "text/plain": [
       "20"
      ]
     },
     "execution_count": 42,
     "metadata": {},
     "output_type": "execute_result"
    }
   ],
   "source": [
    "d6[\"Dict\"][\"Age\"]"
   ]
  },
  {
   "cell_type": "code",
   "execution_count": 56,
   "id": "9ab0e54d-d9b3-41d4-ba01-33d746372b88",
   "metadata": {},
   "outputs": [
    {
     "data": {
      "text/plain": [
       "{}"
      ]
     },
     "execution_count": 56,
     "metadata": {},
     "output_type": "execute_result"
    }
   ],
   "source": [
    "d1.clear()\n",
    "d1"
   ]
  },
  {
   "cell_type": "code",
   "execution_count": 57,
   "id": "1466b538-49ed-43bd-92c7-37cfc71f67f6",
   "metadata": {},
   "outputs": [
    {
     "data": {
      "text/plain": [
       "4"
      ]
     },
     "execution_count": 57,
     "metadata": {},
     "output_type": "execute_result"
    }
   ],
   "source": [
    "len(d7)"
   ]
  },
  {
   "cell_type": "code",
   "execution_count": 58,
   "id": "8d8cbd66-a0fb-4bc8-8fbe-83c9e8004672",
   "metadata": {},
   "outputs": [
    {
     "data": {
      "text/plain": [
       "dict_keys(['Batch_name', 'Start_date', 'Mentor_Name', 'Timing'])"
      ]
     },
     "execution_count": 58,
     "metadata": {},
     "output_type": "execute_result"
    }
   ],
   "source": [
    "d7.keys()"
   ]
  },
  {
   "cell_type": "code",
   "execution_count": 60,
   "id": "60d6053d-de3e-4d88-a6a8-3d6ffdc44fb1",
   "metadata": {},
   "outputs": [
    {
     "data": {
      "text/plain": [
       "[['DATA Science', 'WEB-DEV', 'JAVA with DSA'],\n",
       " (28, 14, 21),\n",
       " {'Krish', 'Navin', 'Sudhanshu'},\n",
       " (8, 8, 8)]"
      ]
     },
     "execution_count": 60,
     "metadata": {},
     "output_type": "execute_result"
    }
   ],
   "source": [
    "d8=d7.values()\n",
    "list(d8)"
   ]
  },
  {
   "cell_type": "code",
   "execution_count": 62,
   "id": "11797cfa-97f9-43d9-a304-a7f1bb6bd2df",
   "metadata": {},
   "outputs": [
    {
     "data": {
      "text/plain": [
       "[('Batch_name', ['DATA Science', 'WEB-DEV', 'JAVA with DSA']),\n",
       " ('Start_date', (28, 14, 21)),\n",
       " ('Mentor_Name', {'Krish', 'Navin', 'Sudhanshu'}),\n",
       " ('Timing', (8, 8, 8))]"
      ]
     },
     "execution_count": 62,
     "metadata": {},
     "output_type": "execute_result"
    }
   ],
   "source": [
    "d9=d7.items()\n",
    "list(d9)"
   ]
  },
  {
   "cell_type": "code",
   "execution_count": 63,
   "id": "481c270c-2ca4-4763-8964-8c912a1ba738",
   "metadata": {},
   "outputs": [],
   "source": [
    "d10=d7.copy()"
   ]
  },
  {
   "cell_type": "code",
   "execution_count": 64,
   "id": "da0bac86-0a90-4e96-a318-6a80a72052ff",
   "metadata": {},
   "outputs": [
    {
     "data": {
      "text/plain": [
       "{'Batch_name': ['DATA Science', 'WEB-DEV', 'JAVA with DSA'],\n",
       " 'Start_date': (28, 14, 21),\n",
       " 'Mentor_Name': {'Krish', 'Navin', 'Sudhanshu'},\n",
       " 'Timing': (8, 8, 8)}"
      ]
     },
     "execution_count": 64,
     "metadata": {},
     "output_type": "execute_result"
    }
   ],
   "source": [
    "d10"
   ]
  },
  {
   "cell_type": "code",
   "execution_count": 65,
   "id": "7e1e8491-3b13-473b-afc1-92ff955a3599",
   "metadata": {},
   "outputs": [],
   "source": [
    "del d10[\"Timing\"]"
   ]
  },
  {
   "cell_type": "code",
   "execution_count": 66,
   "id": "d13dcb7a-921f-4121-a709-4b1f20ca0254",
   "metadata": {},
   "outputs": [
    {
     "data": {
      "text/plain": [
       "{'Batch_name': ['DATA Science', 'WEB-DEV', 'JAVA with DSA'],\n",
       " 'Start_date': (28, 14, 21),\n",
       " 'Mentor_Name': {'Krish', 'Navin', 'Sudhanshu'}}"
      ]
     },
     "execution_count": 66,
     "metadata": {},
     "output_type": "execute_result"
    }
   ],
   "source": [
    "d10"
   ]
  },
  {
   "cell_type": "code",
   "execution_count": 67,
   "id": "b9f1a4ea-564e-4e2d-a166-18489e44fcc2",
   "metadata": {},
   "outputs": [
    {
     "data": {
      "text/plain": [
       "{'Batch_name': ['DATA Science', 'WEB-DEV', 'JAVA with DSA'],\n",
       " 'Start_date': (28, 14, 21),\n",
       " 'Mentor_Name': {'Krish', 'Navin', 'Sudhanshu'},\n",
       " 'Timing': (8, 8, 8)}"
      ]
     },
     "execution_count": 67,
     "metadata": {},
     "output_type": "execute_result"
    }
   ],
   "source": [
    "d7"
   ]
  },
  {
   "cell_type": "code",
   "execution_count": 69,
   "id": "8e88c976-6887-4ea3-9aa5-443d828334d0",
   "metadata": {},
   "outputs": [
    {
     "data": {
      "text/plain": [
       "{'Krish', 'Navin', 'Sudhanshu'}"
      ]
     },
     "execution_count": 69,
     "metadata": {},
     "output_type": "execute_result"
    }
   ],
   "source": [
    "d10.pop(\"Mentor_Name\")"
   ]
  },
  {
   "cell_type": "code",
   "execution_count": 70,
   "id": "33291a1d-ee3e-4a51-bfde-79d1c55d86d6",
   "metadata": {},
   "outputs": [
    {
     "data": {
      "text/plain": [
       "{'Batch_name': ['DATA Science', 'WEB-DEV', 'JAVA with DSA'],\n",
       " 'Start_date': (28, 14, 21)}"
      ]
     },
     "execution_count": 70,
     "metadata": {},
     "output_type": "execute_result"
    }
   ],
   "source": [
    "d10"
   ]
  },
  {
   "cell_type": "code",
   "execution_count": 72,
   "id": "c787440b-7aef-40c5-92f7-edaef22f8d93",
   "metadata": {},
   "outputs": [
    {
     "data": {
      "text/plain": [
       "{1: ('a', 'b', 'c'), 2: ('a', 'b', 'c'), 3: ('a', 'b', 'c')}"
      ]
     },
     "execution_count": 72,
     "metadata": {},
     "output_type": "execute_result"
    }
   ],
   "source": [
    "d.fromkeys((1,2,3),('a','b','c'))"
   ]
  },
  {
   "cell_type": "code",
   "execution_count": 73,
   "id": "3c3c95b5-7144-404c-877f-811be46ada8a",
   "metadata": {},
   "outputs": [],
   "source": [
    "d11={\"k1\":1,\"k2\":2,\"k3\":3}\n",
    "d12={\"k4\":4,\"k5\":5,\"k6\":6}\n"
   ]
  },
  {
   "cell_type": "code",
   "execution_count": 74,
   "id": "13dd74f8-c724-4bd6-8600-01cb855cbaf1",
   "metadata": {},
   "outputs": [
    {
     "data": {
      "text/plain": [
       "({'k1': 1, 'k2': 2, 'k3': 3}, {'k4': 4, 'k5': 5, 'k6': 6})"
      ]
     },
     "execution_count": 74,
     "metadata": {},
     "output_type": "execute_result"
    }
   ],
   "source": [
    "(d11,d12)"
   ]
  },
  {
   "cell_type": "code",
   "execution_count": 75,
   "id": "6c346acd-74ad-4084-aea3-3f49667e4ba3",
   "metadata": {},
   "outputs": [],
   "source": [
    "d11.update(d12)"
   ]
  },
  {
   "cell_type": "code",
   "execution_count": 76,
   "id": "468cf929-ed8a-4f88-82d3-f6e47300db35",
   "metadata": {},
   "outputs": [
    {
     "data": {
      "text/plain": [
       "{'k1': 1, 'k2': 2, 'k3': 3, 'k4': 4, 'k5': 5, 'k6': 6}"
      ]
     },
     "execution_count": 76,
     "metadata": {},
     "output_type": "execute_result"
    }
   ],
   "source": [
    "d11"
   ]
  },
  {
   "cell_type": "code",
   "execution_count": 79,
   "id": "ff8e091e-b30d-4191-95f4-756819c010ea",
   "metadata": {},
   "outputs": [
    {
     "data": {
      "text/plain": [
       "{'k1': 1, 'k2': 2, 'k3': 3, 'k4': 4, 'k5': 5, 'k6': 6, 'k7': 7}"
      ]
     },
     "execution_count": 79,
     "metadata": {},
     "output_type": "execute_result"
    }
   ],
   "source": [
    "d11.update({\"k7\":7})\n",
    "d11"
   ]
  },
  {
   "cell_type": "code",
   "execution_count": 80,
   "id": "2d9597bf-1c31-462f-ad62-1c6d4cf47847",
   "metadata": {},
   "outputs": [
    {
     "data": {
      "text/plain": [
       "7"
      ]
     },
     "execution_count": 80,
     "metadata": {},
     "output_type": "execute_result"
    }
   ],
   "source": [
    "d11.get(\"k7\")"
   ]
  },
  {
   "cell_type": "markdown",
   "id": "bd2d16f6-1395-4078-ada2-04424b3d3702",
   "metadata": {},
   "source": [
    "## Dictionary Comprehension"
   ]
  },
  {
   "cell_type": "code",
   "execution_count": 81,
   "id": "1cc63c36-4c76-49ba-986a-d73b9b4a060f",
   "metadata": {},
   "outputs": [
    {
     "data": {
      "text/plain": [
       "{1: 1, 2: 4, 3: 9, 4: 16, 5: 25, 6: 36, 7: 49, 8: 64, 9: 81, 10: 100}"
      ]
     },
     "execution_count": 81,
     "metadata": {},
     "output_type": "execute_result"
    }
   ],
   "source": [
    "{i:i**2 for i in range(1,11) }"
   ]
  },
  {
   "cell_type": "code",
   "execution_count": 85,
   "id": "594ce576-c260-4d27-ab5f-c55ce647cd72",
   "metadata": {},
   "outputs": [
    {
     "data": {
      "text/plain": [
       "{1: 0.0,\n",
       " 2: 0.3010299956639812,\n",
       " 3: 0.47712125471966244,\n",
       " 4: 0.6020599913279624,\n",
       " 5: 0.6989700043360189,\n",
       " 6: 0.7781512503836436,\n",
       " 7: 0.8450980400142568,\n",
       " 8: 0.9030899869919435,\n",
       " 9: 0.9542425094393249,\n",
       " 10: 1.0}"
      ]
     },
     "execution_count": 85,
     "metadata": {},
     "output_type": "execute_result"
    }
   ],
   "source": [
    "import math\n",
    "d14={i:math.log10(i) for i in range(1,11)}\n",
    "d14"
   ]
  },
  {
   "cell_type": "code",
   "execution_count": 83,
   "id": "d13089f2-66c5-4b22-807e-126add1ae225",
   "metadata": {},
   "outputs": [
    {
     "data": {
      "text/plain": [
       "True"
      ]
     },
     "execution_count": 83,
     "metadata": {},
     "output_type": "execute_result"
    }
   ],
   "source": [
    "\"Batch_name\" in d10"
   ]
  },
  {
   "cell_type": "code",
   "execution_count": 91,
   "id": "e266f4ce-6371-4537-8d9c-86871e4b4feb",
   "metadata": {},
   "outputs": [
    {
     "data": {
      "text/plain": [
       "[0.3010299956639812,\n",
       " 0.6020599913279624,\n",
       " 0.7781512503836436,\n",
       " 1.0,\n",
       " 0.9030899869919435]"
      ]
     },
     "execution_count": 91,
     "metadata": {},
     "output_type": "execute_result"
    }
   ],
   "source": [
    "d15={d14[i] for i in d14.keys() if i%2==0}\n",
    "list(d15)"
   ]
  },
  {
   "cell_type": "code",
   "execution_count": null,
   "id": "5a3bf685-4778-4009-b214-9e44673abe9f",
   "metadata": {},
   "outputs": [],
   "source": []
  }
 ],
 "metadata": {
  "kernelspec": {
   "display_name": "Python 3 (ipykernel)",
   "language": "python",
   "name": "python3"
  },
  "language_info": {
   "codemirror_mode": {
    "name": "ipython",
    "version": 3
   },
   "file_extension": ".py",
   "mimetype": "text/x-python",
   "name": "python",
   "nbconvert_exporter": "python",
   "pygments_lexer": "ipython3",
   "version": "3.10.8"
  }
 },
 "nbformat": 4,
 "nbformat_minor": 5
}
