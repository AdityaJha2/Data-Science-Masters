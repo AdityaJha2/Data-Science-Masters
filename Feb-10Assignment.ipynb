{
 "cells": [
  {
   "cell_type": "code",
   "execution_count": 11,
   "id": "5b33726d-db63-4590-bd05-67915569defa",
   "metadata": {},
   "outputs": [
    {
     "name": "stdout",
     "output_type": "stream",
     "text": [
      "open() is used to open a file\n",
      "\n",
      "The different modes of opening a file are-\n",
      "Read Only (‘r’): Open text file for reading.\n",
      "If the file does not exist, raises an I/O error.\n",
      "\n",
      "Read and Write (‘r+’): Open the file for reading and writing.\n",
      "Raises I/O error if the file does not exist.\n",
      "\n",
      "Write Only (‘w’): Open the file for writing. For the existing files, the data is truncated and over-written.\n",
      "Creates the file if the file does not exist.\n",
      "\n",
      "Write and Read (‘w+’): Open the file for reading and writing. For existing files, data is truncated and over-written.\n",
      "\n",
      "Append Only (‘a’): Open the file for writing. The file is created if it does not exist.\n",
      "\n",
      "Append and Read (‘a+’): Open the file for reading and writing.\n",
      "The file is created if it does not exist.\n",
      "Read Only in Binary format(‘rb’):  It lets the user open the file for reading in binary format.\n",
      "\n",
      "Read and Write in Binary Format(‘rb+’): It lets the user open the file for reading and writing in binary format.\n",
      "\n",
      "Write Only in Binary Format(‘wb’): It lets the user open the file for writing in binary format.\n",
      "When a file gets opened in this mode, there are two things that can happen mostly.\n",
      "A new file gets created if the file does not exist.\n",
      "The content within the file will get overwritten if the file exists and has some data stored in it.\n",
      "\n",
      "Write and Read in Binary Format(‘wb+’):  It lets the user open the file for reading as well as writing in binary format.\n",
      "When a file gets opened in this mode, there are two things that can mostly happen.\n",
      "A new file gets created for writing and reading if the file does not exist.\n",
      "The content within the file will get overwritten if the file exists and has some data stored in it.\n"
     ]
    }
   ],
   "source": [
    "#Q1-'''Which function is used to open a file? What are the different modes of opening a file?\n",
    "#Explain each mode of file opening.\n",
    "\n",
    "\n",
    "print('open() is used to open a file\\n')\n",
    "print('''The different modes of opening a file are-\n",
    "Read Only (‘r’): Open text file for reading.\n",
    "If the file does not exist, raises an I/O error.\n",
    "\n",
    "Read and Write (‘r+’): Open the file for reading and writing.\n",
    "Raises I/O error if the file does not exist.\n",
    "\n",
    "Write Only (‘w’): Open the file for writing. For the existing files, the data is truncated and over-written.\n",
    "Creates the file if the file does not exist.\n",
    "\n",
    "Write and Read (‘w+’): Open the file for reading and writing. For existing files, data is truncated and over-written.\n",
    "\n",
    "Append Only (‘a’): Open the file for writing. The file is created if it does not exist.\n",
    "\n",
    "Append and Read (‘a+’): Open the file for reading and writing.\n",
    "The file is created if it does not exist.\n",
    "Read Only in Binary format(‘rb’):  It lets the user open the file for reading in binary format.\n",
    "\n",
    "Read and Write in Binary Format(‘rb+’): It lets the user open the file for reading and writing in binary format.\n",
    "\n",
    "Write Only in Binary Format(‘wb’): It lets the user open the file for writing in binary format.\n",
    "When a file gets opened in this mode, there are two things that can happen mostly.\n",
    "A new file gets created if the file does not exist.\n",
    "The content within the file will get overwritten if the file exists and has some data stored in it.\n",
    "\n",
    "Write and Read in Binary Format(‘wb+’):  It lets the user open the file for reading as well as writing in binary format.\n",
    "When a file gets opened in this mode, there are two things that can mostly happen.\n",
    "A new file gets created for writing and reading if the file does not exist.\n",
    "The content within the file will get overwritten if the file exists and has some data stored in it.''')\n"
   ]
  },
  {
   "cell_type": "code",
   "execution_count": 7,
   "id": "5e86531d-afb6-440c-acf1-1058255a55e4",
   "metadata": {},
   "outputs": [
    {
     "name": "stdout",
     "output_type": "stream",
     "text": [
      "close() is used to close a file.\n",
      "\n",
      "It is important to close a file as it reduces the risk of being unwarrantedly modified or read.\n"
     ]
    }
   ],
   "source": [
    "#Q2-Why close() function is used? Why is it important to close a file?\n",
    "\n",
    "print('close() is used to close a file.\\n')\n",
    "print('It is important to close a file as it reduces the risk of being unwarrantedly modified or read.')"
   ]
  },
  {
   "cell_type": "code",
   "execution_count": 27,
   "id": "fa3a9a87-f897-482d-a09d-f9dafe342fce",
   "metadata": {},
   "outputs": [],
   "source": [
    "#Q3-Write a python program to create a text file. Write ‘I want to become a Data Scientist’ in that file. Then\n",
    "#close the file. Open this file and read the content of the file.\n",
    "\n",
    "f=open('data.txt', 'w') \n",
    "f.write('I want to become a Data Scientist')\n",
    "f.close()"
   ]
  },
  {
   "cell_type": "code",
   "execution_count": 28,
   "id": "1155d62d-831b-49da-b98b-76c99f551e23",
   "metadata": {},
   "outputs": [
    {
     "name": "stdout",
     "output_type": "stream",
     "text": [
      "I want to become a Data Scientist\n"
     ]
    }
   ],
   "source": [
    "with open('data.txt', 'r') as f:\n",
    "    content=f.read()\n",
    "    print(content)"
   ]
  },
  {
   "cell_type": "code",
   "execution_count": 21,
   "id": "c0bfe77b-2eb0-4722-8383-03a63be3f301",
   "metadata": {},
   "outputs": [
    {
     "name": "stdout",
     "output_type": "stream",
     "text": [
      "1.read()-The Python file read() function allows us to read an entire file at once and store it in a string.\n",
      "for example-\n",
      "I want to become a Data Scientist \n",
      "\n",
      "2.readlines()-reads all of the lines and returns a list of strings\n",
      " for example-\n",
      "['I want to become a Data Scientist\\n', 'I am currently as college student\\n', 'I live in delhi'] \n",
      "\n",
      "3.readline()-reads just one line from a file\n",
      " for example-\n",
      "I want to become a Data Scientist\n",
      "\n",
      "I am currently as college student\n",
      "\n",
      "I live in delhi\n"
     ]
    }
   ],
   "source": [
    "#Q4-Explain the following with python code: read(), readline() and readlines().\n",
    "print('''1.read()-The Python file read() function allows us to read an entire file at once and store it in a string.\n",
    "for example-''')\n",
    "\n",
    "with open('data.txt', 'r') as f:\n",
    "    content=f.read()\n",
    "    print(content,'\\n')\n",
    "    \n",
    "print('2.readlines()-reads all of the lines and returns a list of strings\\n for example-')\n",
    "\n",
    "with open('new.txt', 'w') as f:\n",
    "    f.write('I want to become a Data Scientist\\n')\n",
    "    f.write('I am currently as college student\\n')\n",
    "    f.write('I live in delhi')\n",
    "    f.close()\n",
    "    \n",
    "with open('new.txt', 'r') as f:\n",
    "    content=f.readlines()\n",
    "    print(content,'\\n')\n",
    "    \n",
    "print('3.readline()-reads just one line from a file\\n for example-')\n",
    "with open('new.txt', 'r') as f:\n",
    "    First=f.readline()\n",
    "    Second=f.readline()\n",
    "    Third=f.readline()\n",
    "    print(First)\n",
    "    print(Second)\n",
    "    print(Third)\n",
    "    "
   ]
  },
  {
   "cell_type": "code",
   "execution_count": 32,
   "id": "9140b5f3-f6bc-404e-bfd1-d5a746c049a9",
   "metadata": {},
   "outputs": [
    {
     "name": "stdout",
     "output_type": "stream",
     "text": [
      "When you call the open () function using the with statement, the file closes automatically after you’ve processed the file\n",
      "\n",
      "\"with\"-statement creates an execution block and object created in the with statement will be destroyed or gracefully closed\n",
      " when this execution block ends\n"
     ]
    }
   ],
   "source": [
    "#Explain why with statement is used with open(). What is the advantage of using with statement and\n",
    "#open() together?\n",
    "\n",
    "print('When you call the open () function using the with statement, the file closes automatically after you’ve processed the file\\n')\n",
    "print('''\"with\"-statement creates an execution block and object created in the with statement will be destroyed or gracefully closed\n",
    " when this execution block ends''')\n"
   ]
  },
  {
   "cell_type": "code",
   "execution_count": 50,
   "id": "f06aa7f3-0fea-4e41-aeae-d425a56efe04",
   "metadata": {},
   "outputs": [
    {
     "name": "stdout",
     "output_type": "stream",
     "text": [
      "The write() function will write the content in the file without adding any extra characters.\n",
      "for exmaple-\n",
      "with open('wr.txt','w') as f:\n",
      "    f.write('Hello! How are you?')\n",
      "\n",
      "writelines()-This function writes the content of a list to a file.\n",
      "for example\n",
      "with open('ws.txt','w') as f:\n",
      "    lst=['Hello', 'I want to become a Data Scientist']\n",
      "    f.writelines(lst)\n",
      "\n"
     ]
    }
   ],
   "source": [
    "#Q6. Explain the write() and writelines() functions. Give a suitable example.\n",
    "\n",
    "print('The write() function will write the content in the file without adding any extra characters.\\nfor exmaple-')\n",
    "print('''with open('wr.txt','w') as f:\n",
    "    f.write('Hello! How are you?')\\n''')\n",
    "\n",
    "print('writelines()-This function writes the content of a list to a file.\\nfor example')\n",
    "print('''with open('ws.txt','w') as f:\n",
    "    lst=['Hello', 'I want to become a Data Scientist']\n",
    "    f.writelines(lst)\\n''')"
   ]
  },
  {
   "cell_type": "code",
   "execution_count": null,
   "id": "6ec935fa-0eb6-476e-92c6-e3ea127f0cb6",
   "metadata": {},
   "outputs": [],
   "source": []
  }
 ],
 "metadata": {
  "kernelspec": {
   "display_name": "Python 3 (ipykernel)",
   "language": "python",
   "name": "python3"
  },
  "language_info": {
   "codemirror_mode": {
    "name": "ipython",
    "version": 3
   },
   "file_extension": ".py",
   "mimetype": "text/x-python",
   "name": "python",
   "nbconvert_exporter": "python",
   "pygments_lexer": "ipython3",
   "version": "3.10.8"
  }
 },
 "nbformat": 4,
 "nbformat_minor": 5
}
