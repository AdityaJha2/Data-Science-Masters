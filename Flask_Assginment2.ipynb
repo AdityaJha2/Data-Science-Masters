{
 "cells": [
  {
   "cell_type": "code",
   "execution_count": 4,
   "id": "465b1df0-c111-440f-9053-f4f0bb73ffda",
   "metadata": {},
   "outputs": [
    {
     "name": "stdout",
     "output_type": "stream",
     "text": [
      "GET()-This method is used to retrieve data from the server and also to send data over the server.\n",
      "This request is used when the data is not sensitive.\n",
      "It displays the keyword in the end of the url.\n",
      "\n",
      "POST()-This method makes enables users to send data over to the server. \n",
      "Whenever we enter Information and submit the data get transferred over to the POST request.\n",
      "Unlike get request there is no information will be ever displayed in the URL.\n",
      "\n"
     ]
    }
   ],
   "source": [
    "#1.Explain GET and POST methods.\n",
    "\n",
    "print('''GET()-This method is used to retrieve data from the server and also to send data over the server.\n",
    "This request is used when the data is not sensitive.\n",
    "It displays the keyword in the end of the url.\n",
    "\n",
    "POST()-This method makes enables users to send data over to the server. \n",
    "Whenever we enter Information and submit the data get transferred over to the POST request.\n",
    "Unlike get request there is no information will be ever displayed in the URL.\n",
    "''')"
   ]
  },
  {
   "cell_type": "code",
   "execution_count": 5,
   "id": "5e8d13cf-1e02-4e3b-9fa9-a2a7e1294768",
   "metadata": {},
   "outputs": [
    {
     "name": "stdout",
     "output_type": "stream",
     "text": [
      "The Flask Request Object is used to perform both sending and\n",
      "receiving operations from a user's browser to the server and process the request data from the server\n"
     ]
    }
   ],
   "source": [
    "#2.Why is request used in Flask?\n",
    "print('''The Flask Request Object is used to perform both sending and\n",
    "receiving operations from a user's browser to the server and process the request data from the server''')"
   ]
  },
  {
   "cell_type": "code",
   "execution_count": 6,
   "id": "0a1b8d2a-907a-4b12-9efe-198bdcc9226f",
   "metadata": {},
   "outputs": [
    {
     "name": "stdout",
     "output_type": "stream",
     "text": [
      "The redirect() function in the Flask class redirects the user to a specified \n",
      "URL(Uniform Resource locator) with the provided status code. \n"
     ]
    }
   ],
   "source": [
    "#3.Why is redirect() used in Flask?\n",
    "print('''The redirect() function in the Flask class redirects the user to a specified \n",
    "URL(Uniform Resource locator) with the provided status code. ''')"
   ]
  },
  {
   "cell_type": "code",
   "execution_count": 9,
   "id": "96eafd2f-df86-461b-815f-6eadff5ba9bc",
   "metadata": {},
   "outputs": [
    {
     "name": "stdout",
     "output_type": "stream",
     "text": [
      "Templates are files that contain static data as well as placeholders for dynamic data.\n",
      "A template is rendered with specific data to produce a final document.\n",
      "\n",
      "render_template() is a function used for rendering HTML templates in our custom applications or scripts.It allows us to generate HTML content dynamically by merging data with an HTML template. \n",
      "This function is often used in the context of web routing to display dynamic web pages.\n"
     ]
    }
   ],
   "source": [
    "#4.What are templates in Flask? Why is the render_template() function used?\n",
    "print('''Templates are files that contain static data as well as placeholders for dynamic data.\n",
    "A template is rendered with specific data to produce a final document.\n",
    "\n",
    "render_template() is a function used for rendering HTML templates in our custom applications or scripts.It allows us to generate HTML content dynamically by merging data with an HTML template. \n",
    "This function is often used in the context of web routing to display dynamic web pages.''')"
   ]
  },
  {
   "cell_type": "code",
   "execution_count": 10,
   "id": "07bec07c-b39e-4aad-9aad-6e69f61e8890",
   "metadata": {},
   "outputs": [],
   "source": [
    "#5.Create a simple API. Use Postman to test it. Attach the screenshot of the output in the Jupyter Notebook."
   ]
  },
  {
   "cell_type": "markdown",
   "id": "e16cf254-b7ea-4099-aec0-e9bb43efa0b3",
   "metadata": {},
   "source": [
    "<img src=\"Flask_app.png\" style=\"width:400px; height:250px\">\n",
    "\n",
    "<img src=\"postman_ss.png\" style=\"width:400px; height:250px\">\n"
   ]
  },
  {
   "cell_type": "code",
   "execution_count": null,
   "id": "fdc2d987-d169-4c8d-8b25-75ffc80733cc",
   "metadata": {},
   "outputs": [],
   "source": []
  }
 ],
 "metadata": {
  "kernelspec": {
   "display_name": "Python 3 (ipykernel)",
   "language": "python",
   "name": "python3"
  },
  "language_info": {
   "codemirror_mode": {
    "name": "ipython",
    "version": 3
   },
   "file_extension": ".py",
   "mimetype": "text/x-python",
   "name": "python",
   "nbconvert_exporter": "python",
   "pygments_lexer": "ipython3",
   "version": "3.10.8"
  }
 },
 "nbformat": 4,
 "nbformat_minor": 5
}
