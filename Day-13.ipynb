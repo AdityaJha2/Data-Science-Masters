{
 "cells": [
  {
   "cell_type": "markdown",
   "id": "6400444e-5833-4717-bce3-9ce56e3b7827",
   "metadata": {},
   "source": [
    "## Exceptions Handling with try except"
   ]
  },
  {
   "cell_type": "code",
   "execution_count": 3,
   "id": "b5e1e6f8-bb0b-4c7c-b949-dafde6f03550",
   "metadata": {},
   "outputs": [
    {
     "name": "stdout",
     "output_type": "stream",
     "text": [
      "Please re-check your code\n",
      " [Errno 2] No such file or directory: 'H.txt'\n",
      "Nice to meet you\n"
     ]
    }
   ],
   "source": [
    "try:\n",
    "    f=open('H.txt','r')\n",
    "except Exception as e:\n",
    "    print('Please re-check your code\\n',e)\n",
    "    \n",
    "print('Nice to meet you')"
   ]
  },
  {
   "cell_type": "code",
   "execution_count": 6,
   "id": "48febdb2-db46-4915-bdb7-29584d2e2cec",
   "metadata": {},
   "outputs": [
    {
     "name": "stdout",
     "output_type": "stream",
     "text": [
      "Try statement is executed without any exception\n"
     ]
    }
   ],
   "source": [
    "try:\n",
    "    f=open('try.txt','w')\n",
    "    f.write('India Won the Border Gavaskar Trophy by 4-0')\n",
    "except Exception as e:\n",
    "    print('Sorry! but they won by 3-1')\n",
    "else:\n",
    "    f.close()\n",
    "    print('Try statement is executed without any exception')"
   ]
  },
  {
   "cell_type": "code",
   "execution_count": 8,
   "id": "21ea44c0-eb9d-472f-8b76-3952f5605d3a",
   "metadata": {},
   "outputs": [
    {
     "name": "stdout",
     "output_type": "stream",
     "text": [
      "Please re-check your code! [Errno 2] No such file or directory: 'tr.txt'\n"
     ]
    }
   ],
   "source": [
    "try:\n",
    "    f=open('tr.txt','r')\n",
    "    f.read()\n",
    "except Exception as e:\n",
    "    print('Please re-check your code!',e)\n",
    "else:\n",
    "    f.close()\n",
    "    print('Try statement is executed without any exception')"
   ]
  },
  {
   "cell_type": "code",
   "execution_count": 10,
   "id": "a9768b37-d76f-491d-8c93-366baeac1a60",
   "metadata": {},
   "outputs": [
    {
     "name": "stdout",
     "output_type": "stream",
     "text": [
      "India is qualified for WTC FInal\n"
     ]
    },
    {
     "ename": "FileNotFoundError",
     "evalue": "[Errno 2] No such file or directory: 'n.txt'",
     "output_type": "error",
     "traceback": [
      "\u001b[0;31m---------------------------------------------------------------------------\u001b[0m",
      "\u001b[0;31mFileNotFoundError\u001b[0m                         Traceback (most recent call last)",
      "Cell \u001b[0;32mIn[10], line 2\u001b[0m\n\u001b[1;32m      1\u001b[0m \u001b[38;5;28;01mtry\u001b[39;00m:\n\u001b[0;32m----> 2\u001b[0m     f\u001b[38;5;241m=\u001b[39m\u001b[38;5;28;43mopen\u001b[39;49m\u001b[43m(\u001b[49m\u001b[38;5;124;43m'\u001b[39;49m\u001b[38;5;124;43mn.txt\u001b[39;49m\u001b[38;5;124;43m'\u001b[39;49m\u001b[43m,\u001b[49m\u001b[38;5;124;43m'\u001b[39;49m\u001b[38;5;124;43mr\u001b[39;49m\u001b[38;5;124;43m'\u001b[39;49m\u001b[43m)\u001b[49m\n\u001b[1;32m      3\u001b[0m     f\u001b[38;5;241m.\u001b[39mread()\n\u001b[1;32m      4\u001b[0m \u001b[38;5;28;01mfinally\u001b[39;00m:\n",
      "File \u001b[0;32m/opt/conda/lib/python3.10/site-packages/IPython/core/interactiveshell.py:282\u001b[0m, in \u001b[0;36m_modified_open\u001b[0;34m(file, *args, **kwargs)\u001b[0m\n\u001b[1;32m    275\u001b[0m \u001b[38;5;28;01mif\u001b[39;00m file \u001b[38;5;129;01min\u001b[39;00m {\u001b[38;5;241m0\u001b[39m, \u001b[38;5;241m1\u001b[39m, \u001b[38;5;241m2\u001b[39m}:\n\u001b[1;32m    276\u001b[0m     \u001b[38;5;28;01mraise\u001b[39;00m \u001b[38;5;167;01mValueError\u001b[39;00m(\n\u001b[1;32m    277\u001b[0m         \u001b[38;5;124mf\u001b[39m\u001b[38;5;124m\"\u001b[39m\u001b[38;5;124mIPython won\u001b[39m\u001b[38;5;124m'\u001b[39m\u001b[38;5;124mt let you open fd=\u001b[39m\u001b[38;5;132;01m{\u001b[39;00mfile\u001b[38;5;132;01m}\u001b[39;00m\u001b[38;5;124m by default \u001b[39m\u001b[38;5;124m\"\u001b[39m\n\u001b[1;32m    278\u001b[0m         \u001b[38;5;124m\"\u001b[39m\u001b[38;5;124mas it is likely to crash IPython. If you know what you are doing, \u001b[39m\u001b[38;5;124m\"\u001b[39m\n\u001b[1;32m    279\u001b[0m         \u001b[38;5;124m\"\u001b[39m\u001b[38;5;124myou can use builtins\u001b[39m\u001b[38;5;124m'\u001b[39m\u001b[38;5;124m open.\u001b[39m\u001b[38;5;124m\"\u001b[39m\n\u001b[1;32m    280\u001b[0m     )\n\u001b[0;32m--> 282\u001b[0m \u001b[38;5;28;01mreturn\u001b[39;00m \u001b[43mio_open\u001b[49m\u001b[43m(\u001b[49m\u001b[43mfile\u001b[49m\u001b[43m,\u001b[49m\u001b[43m \u001b[49m\u001b[38;5;241;43m*\u001b[39;49m\u001b[43margs\u001b[49m\u001b[43m,\u001b[49m\u001b[43m \u001b[49m\u001b[38;5;241;43m*\u001b[39;49m\u001b[38;5;241;43m*\u001b[39;49m\u001b[43mkwargs\u001b[49m\u001b[43m)\u001b[49m\n",
      "\u001b[0;31mFileNotFoundError\u001b[0m: [Errno 2] No such file or directory: 'n.txt'"
     ]
    }
   ],
   "source": [
    "try:\n",
    "    f=open('n.txt','r')\n",
    "    f.read()\n",
    "finally:\n",
    "    print('India is qualified for WTC FInal')"
   ]
  },
  {
   "cell_type": "markdown",
   "id": "afb527c7-accb-4b27-84a5-720bc7f8dd01",
   "metadata": {},
   "source": [
    "## Custom Exception Handling"
   ]
  },
  {
   "cell_type": "code",
   "execution_count": 11,
   "id": "2b0d9f5a-d2b0-4816-852d-0bb4e50dc331",
   "metadata": {},
   "outputs": [],
   "source": [
    "class validateage(Exception): #Inheriting Exception class\n",
    "    def __init__(self, msg):\n",
    "        self.msg=msg"
   ]
  },
  {
   "cell_type": "code",
   "execution_count": 18,
   "id": "68a2c9a2-b30c-47ce-971a-06a0b517fdf6",
   "metadata": {},
   "outputs": [],
   "source": [
    "def validate_age(age):\n",
    "    if(age)<0:\n",
    "        raise validateage('Age should be greater tha zero')\n",
    "    elif(age)>200:\n",
    "        raise validateage('Age is too large')\n",
    "    else:\n",
    "        print('Your Age',age,'years is a valid age')"
   ]
  },
  {
   "cell_type": "code",
   "execution_count": 19,
   "id": "37ac5023-3c27-468d-89ed-7bf4f8c67b58",
   "metadata": {},
   "outputs": [
    {
     "name": "stdin",
     "output_type": "stream",
     "text": [
      "Please enter your age- 20\n"
     ]
    },
    {
     "name": "stdout",
     "output_type": "stream",
     "text": [
      "Your Age 20 years is a valid age\n"
     ]
    }
   ],
   "source": [
    "try:\n",
    "    age=int(input(\"Please enter your age-\"))\n",
    "    validate_age(age)\n",
    "except validateage as e:\n",
    "    print(e)"
   ]
  },
  {
   "cell_type": "code",
   "execution_count": null,
   "id": "006b6714-df61-484d-92d7-b1f4a68cac3f",
   "metadata": {},
   "outputs": [],
   "source": []
  }
 ],
 "metadata": {
  "kernelspec": {
   "display_name": "Python 3 (ipykernel)",
   "language": "python",
   "name": "python3"
  },
  "language_info": {
   "codemirror_mode": {
    "name": "ipython",
    "version": 3
   },
   "file_extension": ".py",
   "mimetype": "text/x-python",
   "name": "python",
   "nbconvert_exporter": "python",
   "pygments_lexer": "ipython3",
   "version": "3.10.8"
  }
 },
 "nbformat": 4,
 "nbformat_minor": 5
}
