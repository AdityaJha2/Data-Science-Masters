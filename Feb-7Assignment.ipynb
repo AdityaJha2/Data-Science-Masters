{
 "cells": [
  {
   "cell_type": "code",
   "execution_count": 9,
   "id": "9e7bee13-1026-4639-81d5-e695de9e508c",
   "metadata": {},
   "outputs": [],
   "source": [
    "##Question1\n",
    "\n",
    "def check_password(p):\n",
    "    upper_count=0\n",
    "    lower_count=0\n",
    "    number_count=0 \n",
    "    special_count=0\n",
    "    \n",
    "    for chr in p:\n",
    "        if chr.isupper():\n",
    "            upper_count+=1\n",
    "        elif chr.islower():\n",
    "            lower_count+=1\n",
    "        elif chr.isdigit():\n",
    "            number_count+=1\n",
    "        elif chr in '!@#$%^&*':\n",
    "            special_count+=1\n",
    "            \n",
    "    if upper_count>=2 and lower_count>=2 and number_count>=1 and special_count>=3 and len(p)==10:\n",
    "        print(\"Valid Password\")\n",
    "    else:\n",
    "        print(\"Invalid Password\")\n",
    "    "
   ]
  },
  {
   "cell_type": "code",
   "execution_count": 7,
   "id": "01a6c51a-e133-46c7-b29a-d969c144978c",
   "metadata": {},
   "outputs": [
    {
     "name": "stdin",
     "output_type": "stream",
     "text": [
      "Enter your password AdiJh!@*33\n"
     ]
    },
    {
     "name": "stdout",
     "output_type": "stream",
     "text": [
      "Entered password is- AdiJh!@*33\n",
      "Valid Password\n"
     ]
    }
   ],
   "source": [
    "password=input(\"Enter your password\")\n",
    "print(\"Entered password is-\",password)\n",
    "check_password(password)"
   ]
  },
  {
   "cell_type": "code",
   "execution_count": 8,
   "id": "3b1798c9-2c75-4a21-8c07-b68d2f693db8",
   "metadata": {},
   "outputs": [
    {
     "name": "stdin",
     "output_type": "stream",
     "text": [
      "Enter your password Adit@678\n"
     ]
    },
    {
     "name": "stdout",
     "output_type": "stream",
     "text": [
      "Entered password is- Adit@678\n",
      "Invalid Password\n"
     ]
    }
   ],
   "source": [
    "password=input(\"Enter your password\")\n",
    "print(\"Entered password is-\",password)\n",
    "check_password(password)"
   ]
  },
  {
   "cell_type": "code",
   "execution_count": 68,
   "id": "3ff04cfe-38da-4bb2-9aaf-b71cc2634d0d",
   "metadata": {},
   "outputs": [
    {
     "name": "stdin",
     "output_type": "stream",
     "text": [
      "Enter the string Aman\n"
     ]
    },
    {
     "name": "stdout",
     "output_type": "stream",
     "text": [
      "True\n"
     ]
    }
   ],
   "source": [
    "##Question2\n",
    "\n",
    "#1-Check if the string starts with a particular letter\n",
    "st=input(\"Enter the string\")\n",
    "out=[print('True') if st.startswith('A') else print('False')]"
   ]
  },
  {
   "cell_type": "code",
   "execution_count": 62,
   "id": "2851e881-5a19-4e26-a8b7-addc4cf21dc9",
   "metadata": {},
   "outputs": [
    {
     "name": "stdin",
     "output_type": "stream",
     "text": [
      "Enter the string 457\n"
     ]
    },
    {
     "name": "stdout",
     "output_type": "stream",
     "text": [
      "457 is numeric\n"
     ]
    }
   ],
   "source": [
    "#2-Check if the string is numeric\n",
    "x=input(\"Enter the string\")\n",
    "check_num=[print(x,\"is numeric\") if x.isdigit() else print(x,\"is not numeric\")]"
   ]
  },
  {
   "cell_type": "code",
   "execution_count": 63,
   "id": "c93a0ce1-1486-4d04-89ac-8fca50b81aa5",
   "metadata": {},
   "outputs": [
    {
     "name": "stdin",
     "output_type": "stream",
     "text": [
      "Enter the string Aditya\n"
     ]
    },
    {
     "name": "stdout",
     "output_type": "stream",
     "text": [
      "Aditya is not numeric\n"
     ]
    }
   ],
   "source": [
    "x=input(\"Enter the string\")\n",
    "check_num=[print(x,\"is numeric\") if x.isdigit() else print(x,\"is not numeric\")]"
   ]
  },
  {
   "cell_type": "code",
   "execution_count": 31,
   "id": "58d321f8-ce25-461b-a728-66748c65870f",
   "metadata": {},
   "outputs": [
    {
     "name": "stdout",
     "output_type": "stream",
     "text": [
      "Sorted list of tuples- [('orange', 80), ('mango', 99), ('grapes', 1000)]"
     ]
    }
   ],
   "source": [
    "#3-Sort a list of tuples having fruit names and their quantity. [(\"mango\",99),(\"orange\",80), (\"grapes\", 1000)]\n",
    "\n",
    "l= [(\"mango\",99),(\"orange\",80), (\"grapes\", 1000)]\n",
    "l.sort(key = lambda x: x[1])\n",
    "print(\"Sorted list of tuples-\",l,end=\"\")\n"
   ]
  },
  {
   "cell_type": "code",
   "execution_count": 32,
   "id": "e4ca7016-119b-462d-a6ac-1185ed40d98a",
   "metadata": {},
   "outputs": [
    {
     "data": {
      "text/plain": [
       "[1, 4, 9, 16, 25, 36, 49, 64, 81, 100]"
      ]
     },
     "execution_count": 32,
     "metadata": {},
     "output_type": "execute_result"
    }
   ],
   "source": [
    "#4-Find the squares of numbers from 1 to 10\n",
    "sq=[x**2 for x in range(1,11)]\n",
    "sq"
   ]
  },
  {
   "cell_type": "code",
   "execution_count": 37,
   "id": "07498958-6e9b-42f7-b771-6dff6d07af75",
   "metadata": {},
   "outputs": [
    {
     "data": {
      "text/plain": [
       "[1, 8, 27, 64, 125, 216, 343, 512, 729, 1000]"
      ]
     },
     "execution_count": 37,
     "metadata": {},
     "output_type": "execute_result"
    }
   ],
   "source": [
    "#5-Find the cube root of numbers from 1 to 10\n",
    "cube=list(map(lambda x:x**3, range(1,11)))\n",
    "cube"
   ]
  },
  {
   "cell_type": "code",
   "execution_count": 47,
   "id": "7f7201ea-fc76-4221-8438-84ce0fabb182",
   "metadata": {},
   "outputs": [
    {
     "name": "stdin",
     "output_type": "stream",
     "text": [
      "Enter a number 45\n"
     ]
    },
    {
     "name": "stdout",
     "output_type": "stream",
     "text": [
      "Not an even number\n"
     ]
    }
   ],
   "source": [
    "#6-Check if a given number is even.\n",
    "x=int(input(\"Enter a number\"))\n",
    "check_even=[print(x, \"is an even number\") if x%2==0 else print(\"Not an even number\")]"
   ]
  },
  {
   "cell_type": "code",
   "execution_count": 48,
   "id": "288931f4-53d0-40cc-b954-bab367d1d412",
   "metadata": {},
   "outputs": [
    {
     "name": "stdin",
     "output_type": "stream",
     "text": [
      "Enter a number 98\n"
     ]
    },
    {
     "name": "stdout",
     "output_type": "stream",
     "text": [
      "98 is an even number\n"
     ]
    }
   ],
   "source": [
    "x=int(input(\"Enter a number\"))\n",
    "check_even=[print(x, \"is an even number\") if x%2==0 else print(\"Not an even number\")]"
   ]
  },
  {
   "cell_type": "code",
   "execution_count": 49,
   "id": "891ac1df-599a-4894-b837-50623faf8791",
   "metadata": {},
   "outputs": [],
   "source": [
    "#7-Filter odd numbers from the given list.\n",
    "l=[1,2,3,4,5,6,7,8,9,10]\n",
    "odd_num=list(filter(lambda x:x%2!=0,l))"
   ]
  },
  {
   "cell_type": "code",
   "execution_count": 50,
   "id": "a2dcbd98-953d-42b4-8ec9-8d4319654b12",
   "metadata": {},
   "outputs": [
    {
     "data": {
      "text/plain": [
       "[1, 3, 5, 7, 9]"
      ]
     },
     "execution_count": 50,
     "metadata": {},
     "output_type": "execute_result"
    }
   ],
   "source": [
    "odd_num"
   ]
  },
  {
   "cell_type": "code",
   "execution_count": 57,
   "id": "07d46fd1-ac73-4d9b-90b6-18125608861e",
   "metadata": {},
   "outputs": [
    {
     "name": "stdout",
     "output_type": "stream",
     "text": [
      "Positive integers of list are- [1, 2, 3, 4, 5, 6, 0]\n",
      "Negative integers of list are- [-1, -2, -3, -4, -5]\n"
     ]
    }
   ],
   "source": [
    "#8-Sort a list of integers into positive and negative integers lists.\n",
    "lst=[1,2,3,4,5,6,-1,-2,-3,-4,-5,0]\n",
    "pos=list(filter(lambda x: x>=0,lst))\n",
    "neg=list(filter(lambda x: x<0,lst))\n",
    "print(\"Positive integers of list are-\",pos)\n",
    "print(\"Negative integers of list are-\",neg)"
   ]
  }
 ],
 "metadata": {
  "kernelspec": {
   "display_name": "Python 3 (ipykernel)",
   "language": "python",
   "name": "python3"
  },
  "language_info": {
   "codemirror_mode": {
    "name": "ipython",
    "version": 3
   },
   "file_extension": ".py",
   "mimetype": "text/x-python",
   "name": "python",
   "nbconvert_exporter": "python",
   "pygments_lexer": "ipython3",
   "version": "3.10.8"
  }
 },
 "nbformat": 4,
 "nbformat_minor": 5
}
