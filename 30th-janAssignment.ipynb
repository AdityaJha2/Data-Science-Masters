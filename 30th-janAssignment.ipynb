{
 "cells": [
  {
   "cell_type": "code",
   "execution_count": 2,
   "id": "fec042f2-ac45-4dc8-9651-fc46c964da0b",
   "metadata": {},
   "outputs": [
    {
     "name": "stdin",
     "output_type": "stream",
     "text": [
      "Please enter your percentage- 90.5\n"
     ]
    },
    {
     "name": "stdout",
     "output_type": "stream",
     "text": [
      "Your Grade is- A\n"
     ]
    }
   ],
   "source": [
    "# Question1\n",
    "\n",
    "percentage=float(input(\"Please enter your percentage-\"))\n",
    "if(percentage>90):\n",
    "    print(\"Your Grade is- A\")\n",
    "elif(percentage>80 and percentage<=90):\n",
    "    print(\"Your Grade is- B\")\n",
    "elif(percentage>=60 and percentage<=80):\n",
    "    print(\"Your Grade is- C\")\n",
    "elif(percentage<60):\n",
    "    print(\"Your Grade is- D\")\n",
    "else:\n",
    "    print(\"Please study Hard!\")\n",
    "    \n",
    "    "
   ]
  },
  {
   "cell_type": "code",
   "execution_count": 3,
   "id": "3233aaab-e7cf-4fc1-bb7e-63018f658b88",
   "metadata": {},
   "outputs": [
    {
     "name": "stdin",
     "output_type": "stream",
     "text": [
      "Enter the price of bike: 75000\n"
     ]
    },
    {
     "name": "stdout",
     "output_type": "stream",
     "text": [
      "You have to pay 10% Tax\n"
     ]
    }
   ],
   "source": [
    "## Question2\n",
    "\n",
    "bike_price=int(input(\"Enter the price of bike:\"))\n",
    "if(bike_price>100000):\n",
    "    print(\"You have to pay 15% Tax\")\n",
    "elif(bike_price>50000 and bike_price<=100000):\n",
    "    print(\"You have to pay 10% Tax\")\n",
    "elif(bike_price<=50000):\n",
    "    print(\"You have to pay 5% Tax\")\n",
    "else:\n",
    "    print(\"Please enter valid information\")\n",
    "    "
   ]
  },
  {
   "cell_type": "code",
   "execution_count": 4,
   "id": "064f3f93-8d9e-4963-bc70-372f6d5d8aec",
   "metadata": {},
   "outputs": [
    {
     "name": "stdin",
     "output_type": "stream",
     "text": [
      "Enter the name of city: Jaipur\n"
     ]
    },
    {
     "name": "stdout",
     "output_type": "stream",
     "text": [
      "Monument in Jaipur is Jal Mahal\n"
     ]
    }
   ],
   "source": [
    "## Question3\n",
    "\n",
    "city=input(\"Enter the name of city:\")\n",
    "if(city==\"Delhi\" or city==\"delhi\"):\n",
    "    print(\"Monument in \"+city+\" is Red Fort\")\n",
    "elif(city==\"Agra\" or city==\"agra\"):\n",
    "    print(\"Monument in \"+city+\" is Taj Mahal\")\n",
    "elif(city==\"Jaipur\" or city==\"jaipur\"):\n",
    "    print(\"Monument in \"+city+\" is Jal Mahal\")\n",
    "else:\n",
    "    print(\"Please enter city from Delhi, Agra and Jaipur\")"
   ]
  },
  {
   "cell_type": "code",
   "execution_count": 16,
   "id": "dc865d41-3039-45f3-920f-40f866c8fee7",
   "metadata": {},
   "outputs": [
    {
     "data": {
      "text/plain": [
       "3"
      ]
     },
     "execution_count": 16,
     "metadata": {},
     "output_type": "execute_result"
    }
   ],
   "source": [
    "## question4\n",
    "\n",
    "def divisible_by_3(num):\n",
    "    count = 0\n",
    "    while num >=10:\n",
    "        num = num / 3\n",
    "        count += 1\n",
    "    return count\n",
    "\n",
    "divisible_by_3(90)"
   ]
  },
  {
   "cell_type": "code",
   "execution_count": 6,
   "id": "c313f2b0-ea12-49e6-88e5-c86b9bbf9f9d",
   "metadata": {},
   "outputs": [
    {
     "name": "stdout",
     "output_type": "stream",
     "text": [
      "0 2 4 6 8 10 "
     ]
    }
   ],
   "source": [
    "## question5\n",
    "\n",
    "'''while loops are used when we don't know how long it will take.\n",
    "With the while loop we can execute a set of statements as long as a condition is true.\n",
    "For example we use while loop to print even numbers from 1 to 10 '''\n",
    "\n",
    "num=0\n",
    "while num<=10:\n",
    "    if(num%2==0):\n",
    "        print(num,end=\" \")\n",
    "    num+=1\n",
    "        "
   ]
  },
  {
   "cell_type": "code",
   "execution_count": 7,
   "id": "a86ba33c-0e46-4f6a-813a-d5fda25aba98",
   "metadata": {},
   "outputs": [
    {
     "name": "stdin",
     "output_type": "stream",
     "text": [
      "Enter number of rows :  5\n"
     ]
    },
    {
     "name": "stdout",
     "output_type": "stream",
     "text": [
      "* \n",
      "* * \n",
      "* * * \n",
      "* * * * \n",
      "* * * * * \n"
     ]
    }
   ],
   "source": [
    "##question6-a\n",
    "n = int(input('Enter number of rows : '))\n",
    " \n",
    "i = 1\n",
    "while i <= n :\n",
    "    j = 1\n",
    "    while j <= i:\n",
    "        print(\"*\", end = \" \")\n",
    "        j += 1\n",
    "    print()\n",
    "    i += 1"
   ]
  },
  {
   "cell_type": "code",
   "execution_count": 8,
   "id": "c4b24a46-88c0-4dab-8ef2-4c2f518ff396",
   "metadata": {},
   "outputs": [
    {
     "name": "stdin",
     "output_type": "stream",
     "text": [
      "Enter number of rows :  4\n"
     ]
    },
    {
     "name": "stdout",
     "output_type": "stream",
     "text": [
      "* * * * \n",
      "* * * \n",
      "* * \n",
      "* \n"
     ]
    }
   ],
   "source": [
    "##question6-b\n",
    "n = int(input('Enter number of rows : '))\n",
    " \n",
    "i = 1\n",
    "while i <= n :\n",
    "    j = n\n",
    "    while j >= i:\n",
    "        print(\"*\", end = \" \")\n",
    "        j -= 1\n",
    "    print()\n",
    "    i += 1"
   ]
  },
  {
   "cell_type": "code",
   "execution_count": 9,
   "id": "f761e656-c646-4ccd-9588-8e327b97d288",
   "metadata": {},
   "outputs": [
    {
     "name": "stdin",
     "output_type": "stream",
     "text": [
      "Enter number of rows :  4\n"
     ]
    },
    {
     "name": "stdout",
     "output_type": "stream",
     "text": [
      "  1 \n",
      "  2   3 \n",
      "  4   5   6 \n",
      "  7   8   9  10 \n"
     ]
    }
   ],
   "source": [
    "##question6-c\n",
    "\n",
    "n = int(input('Enter number of rows : '))\n",
    " \n",
    "k = 1\n",
    "i = 1\n",
    "while i <= n :\n",
    "    j = 1\n",
    "    while j <= i:\n",
    "        print(\"{:3d}\".format(k), end = \" \")\n",
    "        j += 1\n",
    "        k += 1\n",
    "    print()\n",
    "    i += 1"
   ]
  },
  {
   "cell_type": "code",
   "execution_count": 11,
   "id": "adf5f2d1-1958-4a0a-afce-0e1cec1dcb6b",
   "metadata": {},
   "outputs": [
    {
     "name": "stdout",
     "output_type": "stream",
     "text": [
      "10 9 8 7 6 5 4 3 2 1 "
     ]
    }
   ],
   "source": [
    "## question7\n",
    "i=10\n",
    "while i>=1:\n",
    "    print(i,end=\" \")\n",
    "    i-=1"
   ]
  },
  {
   "cell_type": "code",
   "execution_count": null,
   "id": "7e2989f0-b80f-45b9-a67e-9c5ef9997219",
   "metadata": {},
   "outputs": [],
   "source": []
  }
 ],
 "metadata": {
  "kernelspec": {
   "display_name": "Python 3 (ipykernel)",
   "language": "python",
   "name": "python3"
  },
  "language_info": {
   "codemirror_mode": {
    "name": "ipython",
    "version": 3
   },
   "file_extension": ".py",
   "mimetype": "text/x-python",
   "name": "python",
   "nbconvert_exporter": "python",
   "pygments_lexer": "ipython3",
   "version": "3.10.8"
  }
 },
 "nbformat": 4,
 "nbformat_minor": 5
}
