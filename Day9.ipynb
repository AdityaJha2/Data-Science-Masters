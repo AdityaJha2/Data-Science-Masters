{
 "cells": [
  {
   "cell_type": "markdown",
   "id": "a735fe61-dcbb-4994-ae08-e53c963baf27",
   "metadata": {},
   "source": [
    "## Polymorphism"
   ]
  },
  {
   "cell_type": "code",
   "execution_count": 1,
   "id": "140827f8-2a57-4ee1-be74-cb411fa6338f",
   "metadata": {},
   "outputs": [],
   "source": [
    "class data_science:\n",
    "    def syllabus(self):\n",
    "        print(\"It has a vast syllabus\")"
   ]
  },
  {
   "cell_type": "code",
   "execution_count": 2,
   "id": "eadd16fd-976c-4951-bc5e-33b536a33cf8",
   "metadata": {},
   "outputs": [],
   "source": [
    "class web_dev:\n",
    "    def syllabus(self):\n",
    "        print(\"It has a short and easy syllabus\")"
   ]
  },
  {
   "cell_type": "code",
   "execution_count": 3,
   "id": "c6853ae3-f5f2-4f50-9646-440d0e5706cf",
   "metadata": {},
   "outputs": [],
   "source": [
    "def func(obj):\n",
    "    for i in obj:\n",
    "        i.syllabus()\n",
    "        "
   ]
  },
  {
   "cell_type": "code",
   "execution_count": 4,
   "id": "8a00c53e-0961-4e85-b5bd-498d5d7e231f",
   "metadata": {},
   "outputs": [],
   "source": [
    "obj1=data_science()"
   ]
  },
  {
   "cell_type": "code",
   "execution_count": 5,
   "id": "d401fb4c-fd03-4d71-9b22-72e49782e2cc",
   "metadata": {},
   "outputs": [],
   "source": [
    "obj2=web_dev()"
   ]
  },
  {
   "cell_type": "code",
   "execution_count": 6,
   "id": "318f9ee7-cbdd-4178-9538-db465a090686",
   "metadata": {},
   "outputs": [],
   "source": [
    "obj=[obj1,obj2]"
   ]
  },
  {
   "cell_type": "code",
   "execution_count": 7,
   "id": "fe5dd76b-28b3-4d9c-8130-a379b13768ff",
   "metadata": {},
   "outputs": [
    {
     "name": "stdout",
     "output_type": "stream",
     "text": [
      "It has a vast syllabus\n",
      "It has a short and easy syllabus\n"
     ]
    }
   ],
   "source": [
    "func(obj)"
   ]
  },
  {
   "cell_type": "markdown",
   "id": "86ac5e2e-8267-479f-b68f-5c13d2ad30b4",
   "metadata": {},
   "source": [
    "## Encapsulation"
   ]
  },
  {
   "cell_type": "code",
   "execution_count": 12,
   "id": "ff300e2e-09e0-401d-8768-bf62c7bb0c70",
   "metadata": {},
   "outputs": [],
   "source": [
    "class test:\n",
    "    def __init__(self, a,b):\n",
    "        self.a=a\n",
    "        self.b=b\n",
    "        \n",
    "ob=test(b=9,a=7)"
   ]
  },
  {
   "cell_type": "code",
   "execution_count": 13,
   "id": "5ce27b06-8d3f-4064-9208-03aadbd76c9c",
   "metadata": {},
   "outputs": [
    {
     "data": {
      "text/plain": [
       "7"
      ]
     },
     "execution_count": 13,
     "metadata": {},
     "output_type": "execute_result"
    }
   ],
   "source": [
    "ob.a"
   ]
  },
  {
   "cell_type": "code",
   "execution_count": 17,
   "id": "deba706b-a695-4ca6-bfd5-0efa380a30a7",
   "metadata": {},
   "outputs": [
    {
     "data": {
      "text/plain": [
       "9"
      ]
     },
     "execution_count": 17,
     "metadata": {},
     "output_type": "execute_result"
    }
   ],
   "source": [
    "ob.b"
   ]
  },
  {
   "cell_type": "code",
   "execution_count": 27,
   "id": "773616b4-3a73-4ef5-91dc-dd4ec4155f13",
   "metadata": {},
   "outputs": [],
   "source": [
    "class bike:\n",
    "    def __init__(self, name,company,year,model):\n",
    "        self.__Name=name # Private variables\n",
    "        self.__Company=company\n",
    "        self.__year=year\n",
    "        self.__model=model\n",
    "        \n",
    "    def set_speed(self,speed):\n",
    "        self.__speed=0 if speed<0 else speed\n",
    "        \n",
    "    def get_speed(self):\n",
    "        return self.__speed\n"
   ]
  },
  {
   "cell_type": "code",
   "execution_count": 28,
   "id": "fc5d3967-e235-408c-aeb2-0b8c57aacbb1",
   "metadata": {},
   "outputs": [],
   "source": [
    "obj_bike=bike('Bullet','Royal Enfield',2022,'classic-500cc')"
   ]
  },
  {
   "cell_type": "code",
   "execution_count": 29,
   "id": "d7930916-d3bb-4fdd-9962-039e49e93759",
   "metadata": {},
   "outputs": [
    {
     "data": {
      "text/plain": [
       "'Bullet'"
      ]
     },
     "execution_count": 29,
     "metadata": {},
     "output_type": "execute_result"
    }
   ],
   "source": [
    "obj_bike._bike__Name"
   ]
  },
  {
   "cell_type": "code",
   "execution_count": 30,
   "id": "e894b200-e199-4afb-813f-5036c849185e",
   "metadata": {},
   "outputs": [],
   "source": [
    "obj_bike.set_speed(220)"
   ]
  },
  {
   "cell_type": "code",
   "execution_count": 31,
   "id": "317b22e3-81e7-4151-8f32-d6c829ddd880",
   "metadata": {},
   "outputs": [
    {
     "data": {
      "text/plain": [
       "220"
      ]
     },
     "execution_count": 31,
     "metadata": {},
     "output_type": "execute_result"
    }
   ],
   "source": [
    "obj_bike.get_speed()"
   ]
  },
  {
   "cell_type": "code",
   "execution_count": 32,
   "id": "07ffa91d-4dab-49a1-9525-baa3fb6800f1",
   "metadata": {},
   "outputs": [],
   "source": [
    "obj_bike.set_speed(-220)"
   ]
  },
  {
   "cell_type": "code",
   "execution_count": 33,
   "id": "84e44a35-aa56-493f-981b-a52b7f1036a6",
   "metadata": {},
   "outputs": [
    {
     "data": {
      "text/plain": [
       "0"
      ]
     },
     "execution_count": 33,
     "metadata": {},
     "output_type": "execute_result"
    }
   ],
   "source": [
    "obj_bike.get_speed()"
   ]
  },
  {
   "cell_type": "code",
   "execution_count": 50,
   "id": "7f1cca7b-a920-4496-908d-103bf29ada1e",
   "metadata": {},
   "outputs": [],
   "source": [
    "class bank:\n",
    "    def __init__(self, balance):\n",
    "        self.__balance=balance\n",
    "        \n",
    "    def deposit(self, amount):\n",
    "        self.__balance+=amount\n",
    "        \n",
    "    def withdrawl(self, amount):\n",
    "        if(self.__balance>=amount):\n",
    "            self.__balance-=amount\n",
    "            return \"Transaction Successful!\"\n",
    "        else:\n",
    "            print(\"Insufficient Balance\")\n",
    "            \n",
    "    def check_balance(self):\n",
    "        return self.__balance\n",
    "        "
   ]
  },
  {
   "cell_type": "code",
   "execution_count": 51,
   "id": "ee0d0d63-043d-4972-aff2-f7efcdd8b61b",
   "metadata": {},
   "outputs": [],
   "source": [
    "b=bank(50000)"
   ]
  },
  {
   "cell_type": "code",
   "execution_count": 52,
   "id": "35d02c49-98f3-473b-ab8c-0c0feca311e7",
   "metadata": {},
   "outputs": [
    {
     "data": {
      "text/plain": [
       "50000"
      ]
     },
     "execution_count": 52,
     "metadata": {},
     "output_type": "execute_result"
    }
   ],
   "source": [
    "b.check_balance()\n"
   ]
  },
  {
   "cell_type": "markdown",
   "id": "70c0c95f-633a-41c5-ae9e-3aed57aea20f",
   "metadata": {},
   "source": [
    "b.deposit(85000)"
   ]
  },
  {
   "cell_type": "code",
   "execution_count": 54,
   "id": "4f8212cf-a10b-4c16-8f89-087f364a00ed",
   "metadata": {},
   "outputs": [
    {
     "data": {
      "text/plain": [
       "'Transaction Successful!'"
      ]
     },
     "execution_count": 54,
     "metadata": {},
     "output_type": "execute_result"
    }
   ],
   "source": [
    "b.withdrawl(20000)"
   ]
  },
  {
   "cell_type": "code",
   "execution_count": 55,
   "id": "829ae7ee-bdf8-4a95-ac8d-e1d5d1fbc18a",
   "metadata": {},
   "outputs": [
    {
     "data": {
      "text/plain": [
       "115000"
      ]
     },
     "execution_count": 55,
     "metadata": {},
     "output_type": "execute_result"
    }
   ],
   "source": [
    "b.check_balance()"
   ]
  },
  {
   "cell_type": "code",
   "execution_count": 56,
   "id": "16f1d3e7-605c-40c0-b1b6-76572230ffef",
   "metadata": {},
   "outputs": [],
   "source": [
    "b.deposit(85000)"
   ]
  },
  {
   "cell_type": "code",
   "execution_count": 57,
   "id": "44d24cea-4f45-4e1f-9be3-ea95417389c2",
   "metadata": {},
   "outputs": [
    {
     "data": {
      "text/plain": [
       "200000"
      ]
     },
     "execution_count": 57,
     "metadata": {},
     "output_type": "execute_result"
    }
   ],
   "source": [
    "b.check_balance()"
   ]
  },
  {
   "cell_type": "markdown",
   "id": "5b79d9af-f561-498f-8abd-0e4ae3654fd1",
   "metadata": {},
   "source": [
    "## Inheritance"
   ]
  },
  {
   "cell_type": "code",
   "execution_count": 27,
   "id": "d0b32fb6-f66e-44e9-b6cb-fb9dd2f6f91d",
   "metadata": {},
   "outputs": [],
   "source": [
    "class Father:\n",
    "    def __init__(self, fathername):\n",
    "        self.fathername=fathername\n",
    "    def name(self):\n",
    "        print(\"Name of father -\",self.fathername)\n",
    "    "
   ]
  },
  {
   "cell_type": "code",
   "execution_count": 28,
   "id": "9ef86543-a6cd-4f39-b792-d720f6bd9656",
   "metadata": {},
   "outputs": [],
   "source": [
    "#Inherit Father class.\n",
    "class child(Father):\n",
    "    pass"
   ]
  },
  {
   "cell_type": "code",
   "execution_count": 29,
   "id": "e0c332b7-4721-4ab7-a10c-fddaa9a4b781",
   "metadata": {},
   "outputs": [
    {
     "name": "stdout",
     "output_type": "stream",
     "text": [
      "Name of father - Ajay\n"
     ]
    }
   ],
   "source": [
    "obj_child=child('Ajay')\n",
    "obj_child.name()\n"
   ]
  },
  {
   "cell_type": "markdown",
   "id": "dab2f878-17b6-4d24-989f-7eace6de7101",
   "metadata": {},
   "source": [
    "## Multi-level Inheritence"
   ]
  },
  {
   "cell_type": "code",
   "execution_count": 105,
   "id": "6824b5d6-37a8-45ac-9224-d08a65254dc2",
   "metadata": {},
   "outputs": [],
   "source": [
    "class c1:\n",
    "    def t1(self):\n",
    "        print('This is class 1')"
   ]
  },
  {
   "cell_type": "code",
   "execution_count": 106,
   "id": "0ded9b89-0004-46b3-b8bd-b558090cb441",
   "metadata": {},
   "outputs": [],
   "source": [
    "class c2(c1):\n",
    "    def t2(self):\n",
    "        print('This is class 2')\n",
    "    "
   ]
  },
  {
   "cell_type": "code",
   "execution_count": 107,
   "id": "5731d09d-6982-48eb-aed3-a2681cd050a5",
   "metadata": {},
   "outputs": [],
   "source": [
    "class c3(c2):\n",
    "    def t3(self):\n",
    "        print('This is class 2')\n",
    "    "
   ]
  },
  {
   "cell_type": "code",
   "execution_count": 108,
   "id": "b746437e-8d01-4555-a10b-5be5911e9a1c",
   "metadata": {},
   "outputs": [],
   "source": [
    "obj=c3()"
   ]
  },
  {
   "cell_type": "code",
   "execution_count": 109,
   "id": "6a3e01b5-e319-4974-b115-a0ef1efc9b00",
   "metadata": {},
   "outputs": [
    {
     "name": "stdout",
     "output_type": "stream",
     "text": [
      "This is class 1\n"
     ]
    }
   ],
   "source": [
    "obj.t1()"
   ]
  },
  {
   "cell_type": "code",
   "execution_count": 110,
   "id": "ed96055f-6fc5-4d01-9b5c-2bdbd66e03d7",
   "metadata": {},
   "outputs": [
    {
     "name": "stdout",
     "output_type": "stream",
     "text": [
      "This is class 2\n"
     ]
    }
   ],
   "source": [
    "obj.t2()"
   ]
  },
  {
   "cell_type": "markdown",
   "id": "25b4b7c1-fec8-48a3-bfc5-b4159f8d8b48",
   "metadata": {},
   "source": [
    "## Multiple Inheritance"
   ]
  },
  {
   "cell_type": "code",
   "execution_count": 125,
   "id": "a6d01ddd-2b7f-4eef-b520-3d32487c1be2",
   "metadata": {},
   "outputs": [],
   "source": [
    "class Father:\n",
    "    def fname(self, fathername):\n",
    "        self.fathername=fathername\n",
    "        print('Father name-',self.fathername)"
   ]
  },
  {
   "cell_type": "code",
   "execution_count": 126,
   "id": "1e421c16-41c4-44a5-8fa7-496c9d9d0b19",
   "metadata": {},
   "outputs": [],
   "source": [
    "class Mother:\n",
    "    def mname(self,mothername):\n",
    "        self.mothername=mothername\n",
    "        print('Mother name-',self.mothername)"
   ]
  },
  {
   "cell_type": "code",
   "execution_count": 127,
   "id": "d1d1d1cd-0ea6-463f-8e6b-6b55048f1af6",
   "metadata": {},
   "outputs": [],
   "source": [
    "class child(Father, Mother):\n",
    "    pass\n",
    "  \n",
    "        "
   ]
  },
  {
   "cell_type": "code",
   "execution_count": 128,
   "id": "c48a947c-98a4-4987-8756-16045ce6f17d",
   "metadata": {},
   "outputs": [],
   "source": [
    "obj_child=child()"
   ]
  },
  {
   "cell_type": "code",
   "execution_count": 129,
   "id": "19dc5f86-be72-48ef-866d-94b0fec2feea",
   "metadata": {},
   "outputs": [
    {
     "name": "stdout",
     "output_type": "stream",
     "text": [
      "Father name- Ajay\n"
     ]
    }
   ],
   "source": [
    "obj_child.fname('Ajay')"
   ]
  },
  {
   "cell_type": "code",
   "execution_count": 130,
   "id": "7d21e9f3-8c86-4dd6-90a8-f9e13653c1e0",
   "metadata": {},
   "outputs": [
    {
     "name": "stdout",
     "output_type": "stream",
     "text": [
      "Mother name- Arti\n"
     ]
    }
   ],
   "source": [
    "obj_child.mname('Arti')"
   ]
  },
  {
   "cell_type": "code",
   "execution_count": null,
   "id": "b9d036be-0a28-42b7-be05-4a595bcbbcdb",
   "metadata": {},
   "outputs": [],
   "source": []
  }
 ],
 "metadata": {
  "kernelspec": {
   "display_name": "Python 3 (ipykernel)",
   "language": "python",
   "name": "python3"
  },
  "language_info": {
   "codemirror_mode": {
    "name": "ipython",
    "version": 3
   },
   "file_extension": ".py",
   "mimetype": "text/x-python",
   "name": "python",
   "nbconvert_exporter": "python",
   "pygments_lexer": "ipython3",
   "version": "3.10.8"
  }
 },
 "nbformat": 4,
 "nbformat_minor": 5
}
