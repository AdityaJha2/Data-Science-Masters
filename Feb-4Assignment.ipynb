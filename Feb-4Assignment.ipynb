{
 "cells": [
  {
   "cell_type": "code",
   "execution_count": 14,
   "id": "68481c50-b5a1-45ff-853b-15b9703bfb1c",
   "metadata": {},
   "outputs": [
    {
     "name": "stdout",
     "output_type": "stream",
     "text": [
      "Sorted list of tuples- [('Virat Kohli', 24936), ('Jack Kallis', 25534), ('Ricky Ponting', 27483), ('Sachin Tendulkar', 34357)]"
     ]
    }
   ],
   "source": [
    "#Question1\n",
    "'''Create a python program to sort the given list of tuples based on integer value using a\n",
    "lambda function.'''\n",
    "\n",
    "l=[('Sachin Tendulkar', 34357), ('Ricky Ponting', 27483), ('Jack Kallis', 25534), ('Virat Kohli', 24936)]\n",
    "l.sort(key = lambda x: x[1])\n",
    "print(\"Sorted list of tuples-\",l,end=\"\")"
   ]
  },
  {
   "cell_type": "code",
   "execution_count": 16,
   "id": "cf3554f3-2d32-4067-846f-30466394e027",
   "metadata": {},
   "outputs": [
    {
     "data": {
      "text/plain": [
       "[1, 4, 9, 16, 25, 36, 49, 64, 81, 100]"
      ]
     },
     "execution_count": 16,
     "metadata": {},
     "output_type": "execute_result"
    }
   ],
   "source": [
    "#Question2\n",
    "'''Write a Python Program to find the squares of all the numbers in the given list of integers using\n",
    "lambda and map functions.\n",
    "[1, 2, 3, 4, 5, 6, 7, 8, 9, 10]'''\n",
    "\n",
    "lst=[1, 2, 3, 4, 5, 6, 7, 8, 9, 10]\n",
    "sq=list(map(lambda x : x**2, lst))\n",
    "sq"
   ]
  },
  {
   "cell_type": "code",
   "execution_count": 19,
   "id": "5c8f96f8-1c91-4f4d-b932-b7659d9094de",
   "metadata": {},
   "outputs": [
    {
     "data": {
      "text/plain": [
       "('1', '2', '3', '4', '5', '6', '7', '8', '9', '10')"
      ]
     },
     "execution_count": 19,
     "metadata": {},
     "output_type": "execute_result"
    }
   ],
   "source": [
    "#Question3\n",
    "'''Write a python program to convert the given list of integers into a tuple of strings. Use map and\n",
    "lambda functions\n",
    "Given String: [1, 2, 3, 4, 5, 6, 7, 8, 9, 10]\n",
    "Expected output: ('1', '2', '3', '4', '5', '6', '7', '8', '9', '10')'''\n",
    "\n",
    "s=[1, 2, 3, 4, 5, 6, 7, 8, 9, 10]\n",
    "tup=tuple(map(lambda x: str(x), s))\n",
    "tup"
   ]
  },
  {
   "cell_type": "code",
   "execution_count": 24,
   "id": "9c28f303-c51c-49bd-b1dc-5eb261377bce",
   "metadata": {},
   "outputs": [
    {
     "name": "stdout",
     "output_type": "stream",
     "text": [
      "Given list is- [1, 2, 3, 4, 5, 6, 7, 8, 9, 10, 11, 12, 13, 14, 15, 16, 17, 18, 19, 20, 21, 22, 23, 24, 25]"
     ]
    }
   ],
   "source": [
    "#Question4\n",
    "'''Write a python program using reduce function to compute the product of a list containing numbers\n",
    "from 1 to 25.'''\n",
    "l=[]\n",
    "for i in range(1,26):\n",
    "    l.append(i)\n",
    "print(\"Given list is-\",l,end=\"\")\n",
    "\n"
   ]
  },
  {
   "cell_type": "code",
   "execution_count": 29,
   "id": "c155d730-d4a8-4539-97e1-18d3a409c6ae",
   "metadata": {},
   "outputs": [
    {
     "name": "stdout",
     "output_type": "stream",
     "text": [
      "Product of a list- 15511210043330985984000000"
     ]
    }
   ],
   "source": [
    "from functools import reduce\n",
    "pdt=reduce(lambda x,y: x*y, l)\n",
    "print(\"Product of a list-\",pdt, end=\"\")"
   ]
  },
  {
   "cell_type": "code",
   "execution_count": 31,
   "id": "a677e774-314a-4236-a373-32ff6a2af57d",
   "metadata": {},
   "outputs": [
    {
     "name": "stdout",
     "output_type": "stream",
     "text": [
      "Numbers divisible by 2 are- [2, 6, 60, 90, 120, 46]\n",
      "Numbers divisible by 3 are- [3, 6, 9, 27, 60, 90, 120]\n"
     ]
    }
   ],
   "source": [
    "#Question5\n",
    "'''Write a python program to filter the numbers in a given list that are divisible by 2 and 3 using the\n",
    "filter function.\n",
    "[2, 3, 6, 9, 27, 60, 90, 120, 55, 46]'''\n",
    "\n",
    "l=[2, 3, 6, 9, 27, 60, 90, 120, 55, 46]\n",
    "div_2=list(filter(lambda x: x%2==0, l))\n",
    "print(\"Numbers divisible by 2 are-\", div_2)\n",
    "\n",
    "div_3=list(filter(lambda x: x%3==0, l))\n",
    "print(\"Numbers divisible by 3 are-\", div_3)\n"
   ]
  },
  {
   "cell_type": "code",
   "execution_count": 33,
   "id": "3c6413d6-f254-48a8-9f52-33a9f4c5a341",
   "metadata": {},
   "outputs": [
    {
     "data": {
      "text/plain": [
       "['php', 'aba', 'radar', 'level']"
      ]
     },
     "execution_count": 33,
     "metadata": {},
     "output_type": "execute_result"
    }
   ],
   "source": [
    "#Question6\n",
    "''' Write a python program to find palindromes in the given list of strings using lambda and filter\n",
    "function.\n",
    "['python', 'php', 'aba', 'radar', 'level']'''\n",
    "\n",
    "ss=['python', 'php', 'aba', 'radar', 'level']\n",
    "palindrome=list(filter(lambda x: x==x[::-1], ss))\n",
    "palindrome"
   ]
  },
  {
   "cell_type": "code",
   "execution_count": null,
   "id": "d14dd1bf-9ef2-41ae-9083-bea808eca40a",
   "metadata": {},
   "outputs": [],
   "source": []
  }
 ],
 "metadata": {
  "kernelspec": {
   "display_name": "Python 3 (ipykernel)",
   "language": "python",
   "name": "python3"
  },
  "language_info": {
   "codemirror_mode": {
    "name": "ipython",
    "version": 3
   },
   "file_extension": ".py",
   "mimetype": "text/x-python",
   "name": "python",
   "nbconvert_exporter": "python",
   "pygments_lexer": "ipython3",
   "version": "3.10.8"
  }
 },
 "nbformat": 4,
 "nbformat_minor": 5
}
