{
 "cells": [
  {
   "cell_type": "code",
   "execution_count": 15,
   "id": "60ff2e98-8837-40c1-a308-7dc3e41a74cb",
   "metadata": {},
   "outputs": [
    {
     "name": "stdout",
     "output_type": "stream",
     "text": [
      "Class- class is nothing but just a classification or blueprint of a real world entity.\n",
      "Object- object is refrence to a real world entity.\n",
      "The attributes or properties defined inside the class are accessed only by using objects of that class.\n",
      "Example-\n",
      "\n",
      "Name of a car is- Aston Martin\n",
      "Model of a car is- X-7\n"
     ]
    }
   ],
   "source": [
    "##Question1\n",
    "'''Explain Class and Object with respect to Object-Oriented Programming. Give a suitable example.'''\n",
    "\n",
    "print(\"Class- class is nothing but just a classification or blueprint of a real world entity.\") \n",
    "print('''Object- object is refrence to a real world entity.\n",
    "The attributes or properties defined inside the class are accessed only by using objects of that class.\n",
    "Example-\\n''') \n",
    "\n",
    "class car:\n",
    "    def __init__(self, name, model, year, color):\n",
    "        self.Name=name\n",
    "        self.Model=model\n",
    "        self.Year=year\n",
    "        self.Color=color\n",
    "obj=car(\"Aston Martin\", \"X-7\", 2022, \"White\")\n",
    "print(\"Name of a car is-\",obj.Name)\n",
    "print(\"Model of a car is-\",obj.Model)"
   ]
  },
  {
   "cell_type": "code",
   "execution_count": 17,
   "id": "46c50ed5-c718-4c04-acb9-c0585ad6ea09",
   "metadata": {},
   "outputs": [
    {
     "name": "stdout",
     "output_type": "stream",
     "text": [
      "Four pillars of oops are-\n",
      "1.Abstraction\n",
      "2.Encapsulation\n",
      "3.Inheritance\n",
      "4.Polymorphism\n"
     ]
    }
   ],
   "source": [
    "##Question2\n",
    "'''Name the four pillars of OOPs.'''\n",
    "\n",
    "print('''Four pillars of oops are-\n",
    "1.Abstraction\n",
    "2.Encapsulation\n",
    "3.Inheritance\n",
    "4.Polymorphism''')"
   ]
  },
  {
   "cell_type": "code",
   "execution_count": 26,
   "id": "cad7606d-cb45-4a41-ae83-25f73334b05a",
   "metadata": {},
   "outputs": [
    {
     "name": "stdout",
     "output_type": "stream",
     "text": [
      "__init__() is a inbuit function which is used as a constructor, which helps a class to input data.\n",
      "__init__() function isused  to assign values to object properties\n",
      "Example-\n"
     ]
    },
    {
     "data": {
      "text/plain": [
       "(95, 97, 98, 99)"
      ]
     },
     "execution_count": 26,
     "metadata": {},
     "output_type": "execute_result"
    }
   ],
   "source": [
    "##Question3\n",
    "'''Explain why the __init__() function is used. Give a suitable example.'''\n",
    "\n",
    "print('''__init__() is a inbuit function which is used as a constructor, which helps a class to input data.\n",
    "__init__() function isused  to assign values to object properties\\nExample-''')\n",
    "\n",
    "class Student_Marks:\n",
    "    def __init__(self, maths, science, english, hindi):\n",
    "        self.Maths=maths\n",
    "        self.Science=science\n",
    "        self.English=english\n",
    "        self.Hindi=hindi\n",
    "        \n",
    "    def details(self):\n",
    "        return  self.Maths,self.Science,self.English,self.Hindi\n",
    "\n",
    "Aditya=Student_Marks(95,97,98,99)\n",
    "Aditya.details()"
   ]
  },
  {
   "cell_type": "code",
   "execution_count": 29,
   "id": "d2b965b9-612f-4797-84ea-7a1c37266b11",
   "metadata": {},
   "outputs": [
    {
     "name": "stdout",
     "output_type": "stream",
     "text": [
      "self is used as a reference to a class , it is not a keyword\n"
     ]
    }
   ],
   "source": [
    "##Question4\n",
    "'''Why self is used in OOPs?'''\n",
    "\n",
    "print(\"self is used as a reference to a class , it is not a keyword\")"
   ]
  },
  {
   "cell_type": "code",
   "execution_count": 32,
   "id": "c3719473-bae4-4a98-823f-3ccac4dacef3",
   "metadata": {},
   "outputs": [
    {
     "name": "stdout",
     "output_type": "stream",
     "text": [
      "Inheritance is the ability of one class to inherit another class.\n",
      "Inheritance provides reusability of code and allows us to create complex and real-world-like relationships among objects.\n"
     ]
    }
   ],
   "source": [
    "##Question5\n",
    "'''What is inheritance? Give an example for each type of inheritance.'''\n",
    "\n",
    "print('''Inheritance is the ability of one class to inherit another class.\n",
    "Inheritance provides reusability of code and allows us to create complex and real-world-like relationships among objects.''')"
   ]
  },
  {
   "cell_type": "code",
   "execution_count": 40,
   "id": "b2fb8cc5-f66d-4736-bdb5-8bd211c0100c",
   "metadata": {},
   "outputs": [
    {
     "name": "stdout",
     "output_type": "stream",
     "text": [
      "Types of Inheritance\n",
      "\n",
      "1.Single Inheritance\n",
      "\n",
      "Single Inheritance: Single inheritance enables a derived class to inherit properties from a single parent class,\n",
      "thus enabling code reusability and the addition of new features to existing code.\n",
      "Example-\n",
      "This is a parent class\n",
      "This is a single inherited class\n"
     ]
    }
   ],
   "source": [
    "print(\"Types of Inheritance\\n\")\n",
    "print(\"1.Single Inheritance\\n\")\n",
    "print('''Single Inheritance: Single inheritance enables a derived class to inherit properties from a single parent class,\n",
    "thus enabling code reusability and the addition of new features to existing code.\\nExample-''')\n",
    "\n",
    "class Parent:\n",
    "    def f1(self):\n",
    "        print(\"This is a parent class\")\n",
    "\n",
    "class Child(Parent):\n",
    "    def f2(self):\n",
    "        print(\"This is a single inherited class\")\n",
    "        \n",
    "obj1=Child()\n",
    "obj1.f1()\n",
    "obj1.f2()"
   ]
  },
  {
   "cell_type": "code",
   "execution_count": 50,
   "id": "3c0c2666-9830-4c9b-9698-c883b20fa244",
   "metadata": {},
   "outputs": [
    {
     "name": "stdout",
     "output_type": "stream",
     "text": [
      "2.Multiple Inheritance\n",
      "\n",
      "Multiple Inheritance: When a class can be derived from more than one base class this type of inheritance is called multiple inheritances.In multiple inheritances, all the features of the base classes are inherited into the derived class.\n",
      "Example-\n",
      "Father Name- Ajay\n",
      "Mother Name- Arti\n"
     ]
    }
   ],
   "source": [
    "print(\"2.Multiple Inheritance\\n\")\n",
    "print('''Multiple Inheritance: When a class can be derived from more than one base class this type of inheritance is called multiple inheritances.In multiple inheritances, all the features of the base classes are inherited into the derived class.\\nExample-''')\n",
    "\n",
    "class Father:\n",
    "    def f1(self, fathername):\n",
    "        self.fathername=fathername\n",
    "\n",
    "class Mother():\n",
    "    def f2(self, mothername):\n",
    "        self.mothername=mothername\n",
    "\n",
    "\n",
    "class Child(Father,Mother):\n",
    "    def f3(self):\n",
    "        print(\"Father Name-\",self.fathername)\n",
    "        print(\"Mother Name-\",self.mothername)\n",
    "        \n",
    "\n",
    "obj1=Child()\n",
    "obj1.f1(\"Ajay\")\n",
    "obj1.f2(\"Arti\")\n",
    "obj1.f3()"
   ]
  },
  {
   "cell_type": "code",
   "execution_count": 4,
   "id": "5528cb90-c126-4bbf-a9a7-10becee6409d",
   "metadata": {},
   "outputs": [
    {
     "name": "stdout",
     "output_type": "stream",
     "text": [
      "3.Multi-level Inheritance\n",
      "\n",
      "Multi-level Inheritance: In multilevel inheritance, features of the base class and the derived class are further inherited into the new derived class.\n",
      "This is similar to a relationship representing a child and a grandfather.\n",
      "Example-\n",
      "Narendar\n",
      "Grandfather name : Narendar\n",
      "Father name : Ajay\n",
      "Son name : Aditya\n"
     ]
    }
   ],
   "source": [
    "print(\"3.Multi-level Inheritance\\n\")\n",
    "print('''Multi-level Inheritance: In multilevel inheritance, features of the base class and the derived class are further inherited into the new derived class.\n",
    "This is similar to a relationship representing a child and a grandfather.\\nExample-''' )\n",
    "\n",
    "class Grandfather:\n",
    " \n",
    "    def __init__(self, grandfathername):\n",
    "        self.grandfathername = grandfathername\n",
    " \n",
    "## Intermediate class\n",
    "\n",
    "class Father(Grandfather):\n",
    "    def __init__(self, fathername, grandfathername):\n",
    "        self.fathername = fathername\n",
    " \n",
    "        # invoking constructor of Grandfather class\n",
    "        Grandfather.__init__(self, grandfathername)\n",
    " \n",
    "# Derived class\n",
    " \n",
    "class Son(Father):\n",
    "    def __init__(self, sonname, fathername, grandfathername):\n",
    "        self.sonname = sonname\n",
    " \n",
    "        # invoking constructor of Father class\n",
    "        Father.__init__(self, fathername, grandfathername)\n",
    " \n",
    "    def print_name(self):\n",
    "        print('Grandfather name :', self.grandfathername)\n",
    "        print(\"Father name :\", self.fathername)\n",
    "        print(\"Son name :\", self.sonname)\n",
    " \n",
    " \n",
    "#  Driver code\n",
    "s1 = Son('Aditya', 'Ajay', 'Narendar')\n",
    "print(s1.grandfathername)\n",
    "s1.print_name()"
   ]
  },
  {
   "cell_type": "code",
   "execution_count": 6,
   "id": "65d2dc4a-094e-4f73-bf9f-0055baab6156",
   "metadata": {},
   "outputs": [
    {
     "name": "stdout",
     "output_type": "stream",
     "text": [
      "4.Hierarchical Inheritance\n",
      "\n",
      "Hierarchical Inheritance: When more than one derived class are created from a single base this type of inheritance is called hierarchical inheritance.\n",
      "In this program, we have a parent (base) class and two child (derived) classes.\n",
      "Example-\n",
      "This function is in parent class.\n",
      "This function is in child 1.\n",
      "This function is in parent class.\n",
      "This function is in child 2.\n"
     ]
    }
   ],
   "source": [
    "print(\"4.Hierarchical Inheritance\\n\")\n",
    "print('''Hierarchical Inheritance: When more than one derived class are created from a single base this type of inheritance is called hierarchical inheritance.\n",
    "In this program, we have a parent (base) class and two child (derived) classes.\\nExample-''')\n",
    "\n",
    "class Parent:\n",
    "    def func1(self):\n",
    "        print(\"This function is in parent class.\")\n",
    " \n",
    "# Derived class1\n",
    " \n",
    " \n",
    "class Child1(Parent):\n",
    "    def func2(self):\n",
    "        print(\"This function is in child 1.\")\n",
    " \n",
    "# Derivied class2\n",
    " \n",
    " \n",
    "class Child2(Parent):\n",
    "    def func3(self):\n",
    "        print(\"This function is in child 2.\")\n",
    "        \n",
    "object1 = Child1()\n",
    "object2 = Child2()\n",
    "object1.func1()\n",
    "object1.func2()\n",
    "object2.func1()\n",
    "object2.func3()"
   ]
  },
  {
   "cell_type": "code",
   "execution_count": null,
   "id": "70891ea4-3453-477c-ad9d-108a34b1fdc1",
   "metadata": {},
   "outputs": [],
   "source": []
  }
 ],
 "metadata": {
  "kernelspec": {
   "display_name": "Python 3 (ipykernel)",
   "language": "python",
   "name": "python3"
  },
  "language_info": {
   "codemirror_mode": {
    "name": "ipython",
    "version": 3
   },
   "file_extension": ".py",
   "mimetype": "text/x-python",
   "name": "python",
   "nbconvert_exporter": "python",
   "pygments_lexer": "ipython3",
   "version": "3.10.8"
  }
 },
 "nbformat": 4,
 "nbformat_minor": 5
}
