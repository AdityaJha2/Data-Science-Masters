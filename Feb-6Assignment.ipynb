{
 "cells": [
  {
   "cell_type": "code",
   "execution_count": 38,
   "id": "79c010f5-63ec-43ad-a80a-ff40e506d645",
   "metadata": {},
   "outputs": [
    {
     "name": "stdout",
     "output_type": "stream",
     "text": [
      "The product of integer values of the given list is- 121609171734914278789230624768000\n"
     ]
    }
   ],
   "source": [
    "##Question1\n",
    "'''Create a function which will take a list as an argument and return the product of all the numbers\n",
    "after creating a flat list.\n",
    "Use the below-given list as an argument for your function.\n",
    "list1 = [1,2,3,4, [44,55,66, True], False, (34,56,78,89,34), {1,2,3,3,2,1}, {1:34, \"key2\": [55, 67, 78, 89], 4: (45,\n",
    "22, 61, 34)}, [56, 'data science'], 'Machine Learning']'''\n",
    "\n",
    "from functools import reduce\n",
    "\n",
    "def prdt(n):\n",
    "    l=[]\n",
    "    for i in n:\n",
    "        if (type(i)==int):\n",
    "            l.append(i)\n",
    "        elif(type(i)==set):\n",
    "            for m in i:\n",
    "                l.append(m)\n",
    "        elif(type(i)==list or type(i)==tuple):\n",
    "            for j in i:\n",
    "                if(type(j)==int):\n",
    "                    l.append(j)\n",
    "        elif(type(i)==dict):\n",
    "            for t in i.keys():\n",
    "                if(type(t)==int):\n",
    "                    l.append(t)\n",
    "            for t in i.values():\n",
    "                 if(type(t)==list or type(t)==tuple):\n",
    "                        for k in t:\n",
    "                            if(type(k)==int):\n",
    "                                l.append(k)\n",
    "                               \n",
    "                        \n",
    "    return reduce(lambda x,y:x*y,l)\n",
    "\n",
    "n=[1,2,3,4, [44,55,66, True], False, (34,56,78,89,34), {1,2,3,3,2,1}, {1:34, \"key2\": [55, 67, 78, 89], 4: (45,\n",
    "22, 61, 34)}, [56, 'data science'], 'Machine Learning']\n",
    "print(\"The product of integer values of the given list is-\",prdt(n))"
   ]
  },
  {
   "cell_type": "code",
   "execution_count": 131,
   "id": "e4889411-bb71-4063-b7af-e13c25946b0f",
   "metadata": {},
   "outputs": [
    {
     "name": "stdin",
     "output_type": "stream",
     "text": [
      "Enter the message I want to become a Data Scientist.\n"
     ]
    },
    {
     "data": {
      "text/plain": [
       "'r$dzmg$gl$yvxlnv$z$wzgz$hxrvmgrhg.'"
      ]
     },
     "execution_count": 131,
     "metadata": {},
     "output_type": "execute_result"
    }
   ],
   "source": [
    "#Question2\n",
    "\n",
    "'''Write a python program for encrypting a message sent to you by your friend. The logic of encryption\n",
    "should be such that, for a the output should be z. For b, the output should be y. For c, the output should\n",
    "be x respectively. Also, the whitespace should be replaced with a dollar sign. Keep the punctuation\n",
    "marks unchanged.'''\n",
    "\n",
    "inp=input(\"Enter the message\")\n",
    "\n",
    "def encrypt_message(message):\n",
    "    message = message.lower()\n",
    "    encrypted_message = \"\"\n",
    "    for char in message:\n",
    "        if char == \" \":\n",
    "            encrypted_message += \"$\"\n",
    "        elif char.isalpha():\n",
    "            encrypted_message += chr(122 - ord(char) + 97)\n",
    "        else:\n",
    "            encrypted_message += char\n",
    "    return encrypted_message\n",
    "        \n",
    "encrypt_message(inp)\n",
    "        "
   ]
  },
  {
   "cell_type": "code",
   "execution_count": null,
   "id": "bcbecfdb-e979-47a9-a8ca-3002f8310f17",
   "metadata": {},
   "outputs": [],
   "source": []
  }
 ],
 "metadata": {
  "kernelspec": {
   "display_name": "Python 3 (ipykernel)",
   "language": "python",
   "name": "python3"
  },
  "language_info": {
   "codemirror_mode": {
    "name": "ipython",
    "version": 3
   },
   "file_extension": ".py",
   "mimetype": "text/x-python",
   "name": "python",
   "nbconvert_exporter": "python",
   "pygments_lexer": "ipython3",
   "version": "3.10.8"
  }
 },
 "nbformat": 4,
 "nbformat_minor": 5
}
