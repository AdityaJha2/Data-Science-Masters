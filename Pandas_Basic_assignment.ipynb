{
 "cells": [
  {
   "cell_type": "code",
   "execution_count": 1,
   "id": "b5fe462f-d7fd-48d0-9b86-0a070ce08d96",
   "metadata": {},
   "outputs": [],
   "source": [
    "# 1.Create a Pandas Series that contains the following data: 4, 8, 15, 16, 23, and 42. Then, print the series."
   ]
  },
  {
   "cell_type": "code",
   "execution_count": 2,
   "id": "c7b202b0-e4ac-4cf0-84e4-377197f0a42d",
   "metadata": {},
   "outputs": [],
   "source": [
    "import pandas as pd"
   ]
  },
  {
   "cell_type": "code",
   "execution_count": 7,
   "id": "83a6bf4c-df5d-47e4-8b36-8b561d32742c",
   "metadata": {},
   "outputs": [],
   "source": [
    "data = [4, 8, 15, 16, 23, 42]\n",
    "series = pd.Series(data)"
   ]
  },
  {
   "cell_type": "code",
   "execution_count": 8,
   "id": "e93d1678-2596-420a-8ddc-88d88f577427",
   "metadata": {},
   "outputs": [
    {
     "data": {
      "text/plain": [
       "0     4\n",
       "1     8\n",
       "2    15\n",
       "3    16\n",
       "4    23\n",
       "5    42\n",
       "dtype: int64"
      ]
     },
     "execution_count": 8,
     "metadata": {},
     "output_type": "execute_result"
    }
   ],
   "source": [
    "series"
   ]
  },
  {
   "cell_type": "code",
   "execution_count": 9,
   "id": "3079e99e-ba46-45eb-a922-4991ac9b157c",
   "metadata": {},
   "outputs": [],
   "source": [
    "# 2.Create a variable of list type containing 10 elements in it, and apply pandas.Series function on the\n",
    "# variable print it."
   ]
  },
  {
   "cell_type": "code",
   "execution_count": 10,
   "id": "c4c81dea-85cf-415f-b5c0-0ea38db6e258",
   "metadata": {},
   "outputs": [],
   "source": [
    "lst = [1, 2, \"Aditya\", \"Aman\", 3, True, False, 4.5, 9, 10]"
   ]
  },
  {
   "cell_type": "code",
   "execution_count": 11,
   "id": "b60bfe87-bbc0-49e2-b457-938549e96917",
   "metadata": {},
   "outputs": [
    {
     "data": {
      "text/plain": [
       "0         1\n",
       "1         2\n",
       "2    Aditya\n",
       "3      Aman\n",
       "4         3\n",
       "5      True\n",
       "6     False\n",
       "7       4.5\n",
       "8         9\n",
       "9        10\n",
       "dtype: object"
      ]
     },
     "execution_count": 11,
     "metadata": {},
     "output_type": "execute_result"
    }
   ],
   "source": [
    "pd.Series(lst)"
   ]
  },
  {
   "cell_type": "code",
   "execution_count": null,
   "id": "b658f353-61ba-47b2-a36b-6b208aec4584",
   "metadata": {},
   "outputs": [],
   "source": [
    "# 3.Create a Pandas DataFrame that contains the following data:"
   ]
  },
  {
   "cell_type": "code",
   "execution_count": 12,
   "id": "bbb9b77c-2d79-49ae-b4d4-d9a477656e27",
   "metadata": {},
   "outputs": [],
   "source": [
    "data = {'Name':[\"Alice\", \"Bob\", \"Clarie\"],\n",
    "       'Age':[25, 30, 27],\n",
    "       'Gender':['Female', 'Male', 'Female']}"
   ]
  },
  {
   "cell_type": "code",
   "execution_count": 13,
   "id": "556f22a5-a202-489a-ad10-8ff7a3655469",
   "metadata": {},
   "outputs": [],
   "source": [
    "df = pd.DataFrame(data)"
   ]
  },
  {
   "cell_type": "code",
   "execution_count": 14,
   "id": "bb83e81d-d0a9-40d3-80dd-bf4479fb512d",
   "metadata": {},
   "outputs": [
    {
     "data": {
      "text/html": [
       "<div>\n",
       "<style scoped>\n",
       "    .dataframe tbody tr th:only-of-type {\n",
       "        vertical-align: middle;\n",
       "    }\n",
       "\n",
       "    .dataframe tbody tr th {\n",
       "        vertical-align: top;\n",
       "    }\n",
       "\n",
       "    .dataframe thead th {\n",
       "        text-align: right;\n",
       "    }\n",
       "</style>\n",
       "<table border=\"1\" class=\"dataframe\">\n",
       "  <thead>\n",
       "    <tr style=\"text-align: right;\">\n",
       "      <th></th>\n",
       "      <th>Name</th>\n",
       "      <th>Age</th>\n",
       "      <th>Gender</th>\n",
       "    </tr>\n",
       "  </thead>\n",
       "  <tbody>\n",
       "    <tr>\n",
       "      <th>0</th>\n",
       "      <td>Alice</td>\n",
       "      <td>25</td>\n",
       "      <td>Female</td>\n",
       "    </tr>\n",
       "    <tr>\n",
       "      <th>1</th>\n",
       "      <td>Bob</td>\n",
       "      <td>30</td>\n",
       "      <td>Male</td>\n",
       "    </tr>\n",
       "    <tr>\n",
       "      <th>2</th>\n",
       "      <td>Clarie</td>\n",
       "      <td>27</td>\n",
       "      <td>Female</td>\n",
       "    </tr>\n",
       "  </tbody>\n",
       "</table>\n",
       "</div>"
      ],
      "text/plain": [
       "     Name  Age  Gender\n",
       "0   Alice   25  Female\n",
       "1     Bob   30    Male\n",
       "2  Clarie   27  Female"
      ]
     },
     "execution_count": 14,
     "metadata": {},
     "output_type": "execute_result"
    }
   ],
   "source": [
    "df"
   ]
  },
  {
   "cell_type": "code",
   "execution_count": 17,
   "id": "557588e7-9186-456e-8b96-48b1923a6224",
   "metadata": {},
   "outputs": [],
   "source": [
    "# 4.What is ‘DataFrame’ in pandas and how is it different from pandas.series? Explain with an example."
   ]
  },
  {
   "cell_type": "code",
   "execution_count": 22,
   "id": "1bfe8f20-414a-4da5-9390-5790eeac418f",
   "metadata": {},
   "outputs": [
    {
     "name": "stdout",
     "output_type": "stream",
     "text": [
      "A DataFrame can be consider as a table in a relational database or a spreadsheet in Excel. It's a two-dimensional data structure composed of rows and columns, where each column represents a variable or feature, and each row\n",
      "represents an observation or entry.\n",
      "Heterogeneous Data Types: In a DataFrame, columns can contain data of different types (e.g., integers, floats, strings, etc.).\n",
      "\n",
      "A Pandas Series, on the other hand, is a one-dimensional array-like object that can hold a single column of data \n",
      "and is often used for representing and manipulating a single variable or feature within a DataFrame.\n",
      "It can hold data types like integers, floats, strings, or even more specialized types like datetime, categorical, or boolean.\n",
      "It's a one dimensity, single column.\n"
     ]
    }
   ],
   "source": [
    "print('''A DataFrame can be consider as a table in a relational database or a spreadsheet in Excel. It's a two-dimensional data structure composed of rows and columns, where each column represents a variable or feature, and each row\n",
    "represents an observation or entry.\n",
    "Heterogeneous Data Types: In a DataFrame, columns can contain data of different types (e.g., integers, floats, strings, etc.).\\n\n",
    "A Pandas Series, on the other hand, is a one-dimensional array-like object that can hold a single column of data \n",
    "and is often used for representing and manipulating a single variable or feature within a DataFrame.\n",
    "It can hold data types like integers, floats, strings, or even more specialized types like datetime, categorical, or boolean.\n",
    "It's a one dimensity, single column.''')"
   ]
  },
  {
   "cell_type": "code",
   "execution_count": 23,
   "id": "1b544299-fd7f-463a-b95b-469863c78223",
   "metadata": {},
   "outputs": [],
   "source": [
    "# 5.What are some common functions you can use to manipulate data in a Pandas DataFrame? Can you give \n",
    "# an example of when you might use one of these functions?"
   ]
  },
  {
   "cell_type": "code",
   "execution_count": 24,
   "id": "7ff807b7-e93e-40ae-9e6a-2eb66915b7c9",
   "metadata": {},
   "outputs": [
    {
     "name": "stdout",
     "output_type": "stream",
     "text": [
      "\n",
      "read_csv() - 'Load data from csv files',\n",
      "fillna() - 'Replace missing values in DataFrame',\n",
      "mean() - 'To calculate mean of a dataframe',\n",
      "head() - 'To get first five data from dataframe'\n",
      "\n"
     ]
    }
   ],
   "source": [
    "print('''\n",
    "read_csv() - 'Load data from csv files',\n",
    "fillna() - 'Replace missing values in DataFrame',\n",
    "mean() - 'To calculate mean of a dataframe',\n",
    "head() - 'To get first five data from dataframe'\n",
    "''')"
   ]
  },
  {
   "cell_type": "code",
   "execution_count": 25,
   "id": "427794fc-bbd2-450f-bc51-13db81638f99",
   "metadata": {},
   "outputs": [],
   "source": [
    "# 6.Which of the following is mutable in nature Series, DataFrame, Panel?"
   ]
  },
  {
   "cell_type": "code",
   "execution_count": 26,
   "id": "0e7729ba-74aa-4345-8690-00d8848ef21f",
   "metadata": {},
   "outputs": [
    {
     "name": "stdout",
     "output_type": "stream",
     "text": [
      "All Pandas data structures are value mutable (can be changed) and except Series all are size mutable.\n"
     ]
    }
   ],
   "source": [
    "print(\"All Pandas data structures are value mutable (can be changed) and except Series all are size mutable.\")"
   ]
  },
  {
   "cell_type": "code",
   "execution_count": 27,
   "id": "6f8d6a32-3e08-4b1e-8fa0-980631b6cb25",
   "metadata": {},
   "outputs": [],
   "source": [
    "# 7.Create a DataFrame using multiple Series. Explain with an example."
   ]
  },
  {
   "cell_type": "code",
   "execution_count": 34,
   "id": "14dddc6a-b2ff-41ab-8145-5708617e7a0c",
   "metadata": {},
   "outputs": [],
   "source": [
    "d1 = [1, 2, 3, 4, 5]\n",
    "d2 = list(map(lambda x: x**2, d1))"
   ]
  },
  {
   "cell_type": "code",
   "execution_count": 35,
   "id": "9f3cc193-cb30-4436-ae10-c600de0c4a87",
   "metadata": {},
   "outputs": [],
   "source": [
    "s1 = pd.Series(d1)\n",
    "s2 = pd.Series(d2)"
   ]
  },
  {
   "cell_type": "code",
   "execution_count": 36,
   "id": "8fc91d5c-ee64-4be3-9667-19600149886c",
   "metadata": {},
   "outputs": [
    {
     "name": "stdout",
     "output_type": "stream",
     "text": [
      "0    1\n",
      "1    2\n",
      "2    3\n",
      "3    4\n",
      "4    5\n",
      "dtype: int64 \n",
      "\n",
      " 0     1\n",
      "1     4\n",
      "2     9\n",
      "3    16\n",
      "4    25\n",
      "dtype: int64\n"
     ]
    }
   ],
   "source": [
    "print(s1, \"\\n\\n\", s2)"
   ]
  },
  {
   "cell_type": "code",
   "execution_count": 37,
   "id": "620edb87-d647-4271-be24-2f957bf32a44",
   "metadata": {},
   "outputs": [
    {
     "data": {
      "text/html": [
       "<div>\n",
       "<style scoped>\n",
       "    .dataframe tbody tr th:only-of-type {\n",
       "        vertical-align: middle;\n",
       "    }\n",
       "\n",
       "    .dataframe tbody tr th {\n",
       "        vertical-align: top;\n",
       "    }\n",
       "\n",
       "    .dataframe thead th {\n",
       "        text-align: right;\n",
       "    }\n",
       "</style>\n",
       "<table border=\"1\" class=\"dataframe\">\n",
       "  <thead>\n",
       "    <tr style=\"text-align: right;\">\n",
       "      <th></th>\n",
       "      <th>Number</th>\n",
       "      <th>Square_Number</th>\n",
       "    </tr>\n",
       "  </thead>\n",
       "  <tbody>\n",
       "    <tr>\n",
       "      <th>0</th>\n",
       "      <td>1</td>\n",
       "      <td>1</td>\n",
       "    </tr>\n",
       "    <tr>\n",
       "      <th>1</th>\n",
       "      <td>2</td>\n",
       "      <td>4</td>\n",
       "    </tr>\n",
       "    <tr>\n",
       "      <th>2</th>\n",
       "      <td>3</td>\n",
       "      <td>9</td>\n",
       "    </tr>\n",
       "    <tr>\n",
       "      <th>3</th>\n",
       "      <td>4</td>\n",
       "      <td>16</td>\n",
       "    </tr>\n",
       "    <tr>\n",
       "      <th>4</th>\n",
       "      <td>5</td>\n",
       "      <td>25</td>\n",
       "    </tr>\n",
       "  </tbody>\n",
       "</table>\n",
       "</div>"
      ],
      "text/plain": [
       "   Number  Square_Number\n",
       "0       1              1\n",
       "1       2              4\n",
       "2       3              9\n",
       "3       4             16\n",
       "4       5             25"
      ]
     },
     "execution_count": 37,
     "metadata": {},
     "output_type": "execute_result"
    }
   ],
   "source": [
    "pd.DataFrame({'Number':s1, 'Square_Number':s2})"
   ]
  },
  {
   "cell_type": "code",
   "execution_count": null,
   "id": "2dac3a30-9426-4361-a463-a33230a37a5f",
   "metadata": {},
   "outputs": [],
   "source": []
  }
 ],
 "metadata": {
  "kernelspec": {
   "display_name": "Python 3 (ipykernel)",
   "language": "python",
   "name": "python3"
  },
  "language_info": {
   "codemirror_mode": {
    "name": "ipython",
    "version": 3
   },
   "file_extension": ".py",
   "mimetype": "text/x-python",
   "name": "python",
   "nbconvert_exporter": "python",
   "pygments_lexer": "ipython3",
   "version": "3.10.8"
  }
 },
 "nbformat": 4,
 "nbformat_minor": 5
}
