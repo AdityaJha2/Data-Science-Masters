{
 "cells": [
  {
   "cell_type": "code",
   "execution_count": null,
   "id": "84db5fe8-eabd-4cce-b9e0-2e622f01b7b1",
   "metadata": {},
   "outputs": [
    {
     "name": "stdout",
     "output_type": "stream",
     "text": [
      "Flask is a micro web framework written in Python.\n",
      "It is classified as a microframework because it does not require particular tools or libraries.\n",
      "It has no database abstraction layer, form validation,\n",
      "or any other components where pre-existing third-party libraries provide common functions.\n",
      "\n",
      "Advantages of Flask-\n",
      "\n",
      "-> It is a lightweight framework that offers hassle-free development.\n",
      "->Provide flexibility to the developer to experiment with their modules or architecture.\n",
      "->It is suitable for small projects.\n",
      "->Offers a built-in development server and fast debugger.\n"
     ]
    }
   ],
   "source": [
    "#Q1. What is Flask Framework? What are the advantages of Flask Framework?\n",
    "\n",
    "print('''Flask is a micro web framework written in Python.\n",
    "It is classified as a microframework because it does not require particular tools or libraries.\n",
    "It has no database abstraction layer, form validation,\n",
    "or any other components where pre-existing third-party libraries provide common functions.\n",
    "\n",
    "Advantages of Flask-\n",
    "\n",
    "-> It is a lightweight framework that offers hassle-free development.\n",
    "->Provide flexibility to the developer to experiment with their modules or architecture.\n",
    "->It is suitable for small projects.\n",
    "->Offers a built-in development server and fast debugger.''')\n",
    "\n"
   ]
  },
  {
   "cell_type": "markdown",
   "id": "767f49e9-e9f7-4a25-83df-b5ab771b6678",
   "metadata": {},
   "source": [
    "#Q2-Create a simple Flask application to display ‘Hello World!!’. Attach the screenshot of the output in\n",
    "#Jupyter Notebook.\n",
    "\n",
    "<img src=\"Hello_Ss.png\" style=\"width:400px; height:200px\">\n",
    "\n",
    "<img src=\"Hello_Code_ss.png\" style=\"width:400px; height:200px\">"
   ]
  },
  {
   "cell_type": "code",
   "execution_count": 6,
   "id": "2472cba2-0a12-4c6f-8d65-e8a03e1be868",
   "metadata": {},
   "outputs": [
    {
     "name": "stdout",
     "output_type": "stream",
     "text": [
      "App routing is the technique used to map the specific URL\n",
      "with the associated function intended to perform some task.\n",
      "\n",
      "App routes are used to help users remember application URLs.\n",
      "It is helpful to access the desired page directly without navigating from the home page\n"
     ]
    }
   ],
   "source": [
    "#Q3. What is App routing in Flask? Why do we use app routes?\n",
    "\n",
    "print('''App routing is the technique used to map the specific URL\n",
    "with the associated function intended to perform some task.\n",
    "\n",
    "App routes are used to help users remember application URLs.\n",
    "It is helpful to access the desired page directly without navigating from the home page''')\n"
   ]
  },
  {
   "cell_type": "markdown",
   "id": "4fc7e3ec-c7ad-4334-ba17-0b5641a3d77e",
   "metadata": {},
   "source": [
    "#Q4. Create a “/welcome” route to display the welcome message “Welcome to ABC Corporation” and a “/”\n",
    "#route to show the following details:\n",
    "#Company Name: ABC Corporation\n",
    "#Location: India\n",
    "#Contact Detail: 999-999-9999\n",
    "\n",
    "<img src=\"details-ss.png\" style=\"width:400px; height:250px\">\n",
    "\n",
    "<img src=\"welcome_ss.png\" style=\"width:400px; height:150px\">\n"
   ]
  },
  {
   "cell_type": "code",
   "execution_count": 7,
   "id": "2b0b205e-dba3-4452-a543-7c64a14e5277",
   "metadata": {},
   "outputs": [
    {
     "name": "stdout",
     "output_type": "stream",
     "text": [
      "The url_for() function is used to build a URL to the specific function dynamically.\n"
     ]
    }
   ],
   "source": [
    "#Q5. What function is used in Flask for URL Building? Write a Python code to demonstrate the working of the\n",
    "#url_for() function.\n",
    "\n",
    "print('''The url_for() function is used to build a URL to the specific function dynamically.''')"
   ]
  }
 ],
 "metadata": {
  "kernelspec": {
   "display_name": "Python 3 (ipykernel)",
   "language": "python",
   "name": "python3"
  },
  "language_info": {
   "codemirror_mode": {
    "name": "ipython",
    "version": 3
   },
   "file_extension": ".py",
   "mimetype": "text/x-python",
   "name": "python",
   "nbconvert_exporter": "python",
   "pygments_lexer": "ipython3",
   "version": "3.10.8"
  }
 },
 "nbformat": 4,
 "nbformat_minor": 5
}
