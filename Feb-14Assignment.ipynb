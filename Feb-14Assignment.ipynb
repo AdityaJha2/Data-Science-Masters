{
 "cells": [
  {
   "cell_type": "code",
   "execution_count": 5,
   "id": "4d3239bd-cae3-41c0-888f-a4dba7306f58",
   "metadata": {},
   "outputs": [
    {
     "name": "stdout",
     "output_type": "stream",
     "text": [
      "Multithreading is defined as the ability of a processor to execute multiple threads concurrently.\n",
      "In Python, a thread is used to execute a task where some waiting is expected.\n",
      "So that the main program does not wait for the task to complete, but the thread can take care of it simultaneously.\n",
      "Module that is used to handle threads in a python is-\"threading\"\n"
     ]
    }
   ],
   "source": [
    "#Q1-What is multithreading in python? Why is it used? Name the module used to handle threads in python.\n",
    "print('Multithreading is defined as the ability of a processor to execute multiple threads concurrently.')\n",
    "print('''In Python, a thread is used to execute a task where some waiting is expected.\n",
    "So that the main program does not wait for the task to complete, but the thread can take care of it simultaneously.''')\n",
    "\n",
    "print('Module that is used to handle threads in a python is-\"threading\"')"
   ]
  },
  {
   "cell_type": "code",
   "execution_count": 8,
   "id": "1c3d9fd6-98f8-4081-95fb-736786ab0655",
   "metadata": {},
   "outputs": [
    {
     "name": "stdout",
     "output_type": "stream",
     "text": [
      "threading module is used for creating, controlling and managing threads in python.\n",
      "\n",
      "1.activeCount()-This function returns the number of Thread objects currently alive.\n",
      "2.currentThread()-This function will return the current Thread object, corresponding to the caller's thread of control.\n",
      "3.enumerate()-This method returns a list of all Thread objects currently alive.\n",
      "The list includes daemonic threads, dummy thread objects created by the current thread, and the main thread.\n"
     ]
    }
   ],
   "source": [
    "#Q2-Why threading module used? Write the use of the following functions-\n",
    "#activeCount()\n",
    "#currentThread()\n",
    "#enumerate()\n",
    "\n",
    "print('threading module is used for creating, controlling and managing threads in python.\\n')\n",
    "print('''1.activeCount()-This function returns the number of Thread objects currently alive.\n",
    "2.currentThread()-This function will return the current Thread object, corresponding to the caller's thread of control.\n",
    "3.enumerate()-This method returns a list of all Thread objects currently alive.\n",
    "The list includes daemonic threads, dummy thread objects created by the current thread, and the main thread.''')"
   ]
  },
  {
   "cell_type": "code",
   "execution_count": 11,
   "id": "ac780416-656e-4b9e-84ed-52c3730fcc15",
   "metadata": {},
   "outputs": [
    {
     "name": "stdout",
     "output_type": "stream",
     "text": [
      "1.run()-The standard run() method invokes the callable object passed to the object’s constructor as the target argument,\n",
      "if any, with sequential and keyword arguments taken from the args and kwargs arguments, respectively.\n",
      "\n",
      "2.start()-To start a thread, we use start method of Thread class.\n",
      "\n",
      "3.join()-In order to stop execution of current program until a thread is complete, we use join method.\n",
      "\n",
      "4.isAlive()-It uses a Thread object, and checks whether that thread is alive or not, i.e, it is still running or not.\n"
     ]
    }
   ],
   "source": [
    "#Q3-Explain the following functions\n",
    "#run()\n",
    "#start()\n",
    "#join()\n",
    "#isAlive()\n",
    "\n",
    "print('''1.run()-The standard run() method invokes the callable object passed to the object’s constructor as the target argument,\n",
    "if any, with sequential and keyword arguments taken from the args and kwargs arguments, respectively.\\n\n",
    "2.start()-To start a thread, we use start method of Thread class.\\n\n",
    "3.join()-In order to stop execution of current program until a thread is complete, we use join method.\\n\n",
    "4.isAlive()-It uses a Thread object, and checks whether that thread is alive or not, i.e, it is still running or not.''')"
   ]
  },
  {
   "cell_type": "code",
   "execution_count": 15,
   "id": "0ccb0383-9648-40ba-b561-f0125e343151",
   "metadata": {},
   "outputs": [
    {
     "name": "stdout",
     "output_type": "stream",
     "text": [
      "Square of  1  is- 1\n",
      "Square of  2  is- 4\n",
      "Square of  3  is- 9\n",
      "Square of  4  is- 16\n",
      "Square of  5  is- 25\n",
      "Cube of  1  is- 1\n",
      "Cube of  2  is- 8\n",
      "Cube of  3  is- 27\n",
      "Cube of  4  is- 64\n",
      "Cube of  5  is- 125\n"
     ]
    }
   ],
   "source": [
    "#Q4-Write a python program to create two threads. Thread one must print the list of squares and thread\n",
    "#two must print the list of cubes.\n",
    "\n",
    "import threading\n",
    "\n",
    "def square(x):\n",
    "    print('Square of ',x,' is-', x*x)\n",
    "    \n",
    "def cube(y):\n",
    "    print('Cube of ', y,' is-', y*y*y)\n",
    "    \n",
    "thread1=[threading.Thread(target=square, args=(i,)) for i in [1,2,3,4,5]]\n",
    "thread2=[threading.Thread(target=cube, args=(i,)) for i in [1,2,3,4,5]]\n",
    "\n",
    "for j in thread1:\n",
    "    j.start()\n",
    "\n",
    "for k in thread2:\n",
    "    k.start()"
   ]
  },
  {
   "cell_type": "code",
   "execution_count": 19,
   "id": "c1364e50-ab76-4828-a06c-ad128855368c",
   "metadata": {},
   "outputs": [
    {
     "name": "stdout",
     "output_type": "stream",
     "text": [
      "Advantages of multithreading-\n",
      "-->Enhanced performance by decreased development time.\n",
      "-->Simplified and streamlined program coding.\n",
      "-->Improvised GUI responsiveness.\n",
      "-->Simultaneous and parallelized occurrence of tasks.\n",
      "-->Better use of cache storage by utilization of resources.\n",
      "-->Decreased cost of maintenance.\n",
      "-->Better use of CPU resource.\n",
      "\n",
      "Disadvantages of multithreading-\n",
      "-->Complex debugging and testing processes.\n",
      "-->Overhead switching of context.\n",
      "-->Increased potential for deadlock occurrence.\n",
      "-->Increased difficulty level in writing a program.\n",
      "-->Unpredictable results.\n"
     ]
    }
   ],
   "source": [
    "#Q5-State advantages and disadvantages of multithreading.\n",
    "\n",
    "print('''Advantages of multithreading-\n",
    "-->Enhanced performance by decreased development time.\n",
    "-->Simplified and streamlined program coding.\n",
    "-->Improvised GUI responsiveness.\n",
    "-->Simultaneous and parallelized occurrence of tasks.\n",
    "-->Better use of cache storage by utilization of resources.\n",
    "-->Decreased cost of maintenance.\n",
    "-->Better use of CPU resource.\\n''')\n",
    "\n",
    "\n",
    "print('''Disadvantages of multithreading-\n",
    "-->Complex debugging and testing processes.\n",
    "-->Overhead switching of context.\n",
    "-->Increased potential for deadlock occurrence.\n",
    "-->Increased difficulty level in writing a program.\n",
    "-->Unpredictable results.''')"
   ]
  },
  {
   "cell_type": "code",
   "execution_count": 20,
   "id": "81bc4bd0-0866-4b83-9256-b981af6cafe7",
   "metadata": {},
   "outputs": [
    {
     "name": "stdout",
     "output_type": "stream",
     "text": [
      "Race Condition-A race condition occurs when two threads \"race\" for access to a resource.\n",
      " \n",
      "Deadlocks-The opposite of a race condition is a deadlock. Whereas race conditions can cause your\n",
      "programs to do very strange things, deadlocks can cause them to just hang and do nothing for no apparent reason.\n",
      "A deadlock occurs when two threads lock each other’s resources.\n"
     ]
    }
   ],
   "source": [
    "#Q6-Explain deadlocks and race conditions.\n",
    "\n",
    "print('''Race Condition-A race condition occurs when two threads \"race\" for access to a resource.\\n \n",
    "Deadlocks-The opposite of a race condition is a deadlock. Whereas race conditions can cause your\n",
    "programs to do very strange things, deadlocks can cause them to just hang and do nothing for no apparent reason.\n",
    "A deadlock occurs when two threads lock each other’s resources.''')"
   ]
  },
  {
   "cell_type": "code",
   "execution_count": null,
   "id": "81080409-133e-4b63-b611-cacba51cd618",
   "metadata": {},
   "outputs": [],
   "source": []
  }
 ],
 "metadata": {
  "kernelspec": {
   "display_name": "Python 3 (ipykernel)",
   "language": "python",
   "name": "python3"
  },
  "language_info": {
   "codemirror_mode": {
    "name": "ipython",
    "version": 3
   },
   "file_extension": ".py",
   "mimetype": "text/x-python",
   "name": "python",
   "nbconvert_exporter": "python",
   "pygments_lexer": "ipython3",
   "version": "3.10.8"
  }
 },
 "nbformat": 4,
 "nbformat_minor": 5
}
