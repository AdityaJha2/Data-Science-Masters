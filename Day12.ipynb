{
 "cells": [
  {
   "cell_type": "code",
   "execution_count": 4,
   "id": "09e800c7-886d-4158-9de2-fd75f4d68743",
   "metadata": {},
   "outputs": [],
   "source": [
    "data={\n",
    "    'Name':'Aditya Jha',\n",
    "    'Age':20,\n",
    "    'Course':'Data Science',\n",
    "    'Education':['Kv Jnu','Dyal Singh'],\n",
    "    'Hobby':['Cricket','Singing','Cooking']\n",
    "}"
   ]
  },
  {
   "cell_type": "code",
   "execution_count": 6,
   "id": "74921946-1e9f-42bc-b997-ef18da161926",
   "metadata": {},
   "outputs": [],
   "source": [
    "import json"
   ]
  },
  {
   "cell_type": "code",
   "execution_count": 8,
   "id": "647cb84e-7dd1-4dcb-8574-6d88e675e67b",
   "metadata": {},
   "outputs": [],
   "source": [
    "with open('TextJson.json','w') as f:\n",
    "    json.dump(data,f)"
   ]
  },
  {
   "cell_type": "code",
   "execution_count": 9,
   "id": "cefc06f8-96ec-4030-b63f-683a1de8c8c0",
   "metadata": {},
   "outputs": [],
   "source": [
    "with open('TextJson.json','r') as f:\n",
    "    data1=json.load(f)"
   ]
  },
  {
   "cell_type": "code",
   "execution_count": 10,
   "id": "d5d1f6cc-d5f3-403d-a28c-18ec57260b13",
   "metadata": {},
   "outputs": [
    {
     "data": {
      "text/plain": [
       "{'Name': 'Aditya Jha',\n",
       " 'Age': 20,\n",
       " 'Course': 'Data Science',\n",
       " 'Education': ['Kv Jnu', 'Dyal Singh'],\n",
       " 'Hobby': ['Cricket', 'Singing', 'Cooking']}"
      ]
     },
     "execution_count": 10,
     "metadata": {},
     "output_type": "execute_result"
    }
   ],
   "source": [
    "data1"
   ]
  },
  {
   "cell_type": "code",
   "execution_count": 11,
   "id": "35d49ef8-34bf-46e3-8c59-a788a7280f97",
   "metadata": {},
   "outputs": [
    {
     "data": {
      "text/plain": [
       "'Cooking'"
      ]
     },
     "execution_count": 11,
     "metadata": {},
     "output_type": "execute_result"
    }
   ],
   "source": [
    "data1['Hobby'][2]"
   ]
  },
  {
   "cell_type": "code",
   "execution_count": 12,
   "id": "a4c550d4-0ff6-429b-bd7f-484543fbac70",
   "metadata": {},
   "outputs": [],
   "source": [
    "data=[['name','age','phone'],\n",
    "      ['Aditya',20,98743216],\n",
    "      ['Aman',21,965874120]\n",
    "     ]"
   ]
  },
  {
   "cell_type": "code",
   "execution_count": 13,
   "id": "d468b5dd-74c2-4440-b509-beb7a8164477",
   "metadata": {},
   "outputs": [],
   "source": [
    "import csv"
   ]
  },
  {
   "cell_type": "code",
   "execution_count": 16,
   "id": "c541748b-da0a-4adf-a710-26f91bd5269d",
   "metadata": {},
   "outputs": [],
   "source": [
    "with open('test.csv','w') as f:\n",
    "    w=csv.writer(f)\n",
    "    for i in data:\n",
    "        w.writerow(i)"
   ]
  },
  {
   "cell_type": "code",
   "execution_count": 17,
   "id": "1a90a23f-9b97-4cc5-bfb0-dcb922eb3950",
   "metadata": {},
   "outputs": [
    {
     "name": "stdout",
     "output_type": "stream",
     "text": [
      "['name', 'age', 'phone']\n",
      "['Aditya', '20', '98743216']\n",
      "['Aman', '21', '965874120']\n"
     ]
    }
   ],
   "source": [
    "with open('test.csv','r') as f:\n",
    "    read=csv.reader(f)\n",
    "    for i in read:\n",
    "        print(i)"
   ]
  },
  {
   "cell_type": "code",
   "execution_count": 2,
   "id": "41864801-f829-42fd-8b52-3afaf11b1926",
   "metadata": {},
   "outputs": [],
   "source": [
    "with open('binary.bin','wb') as f:\n",
    "    f.write(b'\\x01\\x02\\x03')"
   ]
  },
  {
   "cell_type": "code",
   "execution_count": 3,
   "id": "48b2f264-4d9e-4df9-a3d3-82adb346dcaf",
   "metadata": {},
   "outputs": [
    {
     "name": "stdout",
     "output_type": "stream",
     "text": [
      "b'\\x01\\x02\\x03'\n"
     ]
    }
   ],
   "source": [
    "with open('binary.bin','rb') as f:\n",
    "    print(f.read())"
   ]
  },
  {
   "cell_type": "markdown",
   "id": "1aa9ab1a-c163-48ce-b64d-796c6cb946f5",
   "metadata": {},
   "source": [
    "## Buffered read and write methods"
   ]
  },
  {
   "cell_type": "code",
   "execution_count": 1,
   "id": "45066ea5-63ce-4919-881e-7544afe5203e",
   "metadata": {},
   "outputs": [],
   "source": [
    "import io"
   ]
  },
  {
   "cell_type": "code",
   "execution_count": 2,
   "id": "e21d8d56-7af1-434b-9249-40e8f4ca6e6c",
   "metadata": {},
   "outputs": [],
   "source": [
    "with open(\"buffer.txt\",'wb') as f:\n",
    "    file=io.BufferedWriter(f)\n",
    "    file.write(b'This is my buffered file\\n')\n",
    "    file.write(b'Hey! How u doin?')\n",
    "    file.flush()"
   ]
  },
  {
   "cell_type": "code",
   "execution_count": 5,
   "id": "5f338be0-d30f-4b5e-9420-e627e3617fcf",
   "metadata": {},
   "outputs": [
    {
     "name": "stdout",
     "output_type": "stream",
     "text": [
      "b'This is my buffered file\\nHey! How u doin?'\n"
     ]
    }
   ],
   "source": [
    "with open(\"buffer.txt\",'rb') as f:\n",
    "    file=io.BufferedReader(f)\n",
    "    data=file.read()\n",
    "    print(data)"
   ]
  },
  {
   "cell_type": "markdown",
   "id": "f638c5ae-9313-4149-b860-35fa20e5245b",
   "metadata": {},
   "source": [
    "## Logging and Debugger"
   ]
  },
  {
   "cell_type": "raw",
   "id": "256216b3-98d3-4f52-b20b-c98d06fdeef1",
   "metadata": {},
   "source": [
    "## Levels hierarchy\n",
    "#1.Noset\n",
    "#2.Debug\n",
    "#3.Info\n",
    "#4.Warning\n",
    "#5.Error\n",
    "#6.Critical"
   ]
  },
  {
   "cell_type": "code",
   "execution_count": 1,
   "id": "c21ffca6-381a-4cd7-b2f1-ddfd6231066b",
   "metadata": {},
   "outputs": [],
   "source": [
    "import logging"
   ]
  },
  {
   "cell_type": "code",
   "execution_count": 12,
   "id": "1e077329-04cb-4180-9a57-125b19b48c6f",
   "metadata": {},
   "outputs": [],
   "source": [
    "logging.basicConfig(filename='base.log', level=logging.INFO)"
   ]
  },
  {
   "cell_type": "code",
   "execution_count": 13,
   "id": "e1bc40b5-56a6-4aa3-8a92-183cd6483e7d",
   "metadata": {},
   "outputs": [],
   "source": [
    "logging.info(\"This is a logging info\") "
   ]
  },
  {
   "cell_type": "code",
   "execution_count": 14,
   "id": "69610f47-011e-4dbe-af5b-814c488aafed",
   "metadata": {},
   "outputs": [],
   "source": [
    "logging.warning(\"This is a logging warning\")"
   ]
  },
  {
   "cell_type": "code",
   "execution_count": 15,
   "id": "d0a219b7-de36-4cd4-ae68-b52e082a8128",
   "metadata": {},
   "outputs": [],
   "source": [
    "logging.error(\"This is a logging error\")"
   ]
  },
  {
   "cell_type": "code",
   "execution_count": 16,
   "id": "373e0d7b-761f-4c96-904d-07a60ff41011",
   "metadata": {},
   "outputs": [],
   "source": [
    "logging.shutdown()"
   ]
  },
  {
   "cell_type": "code",
   "execution_count": 8,
   "id": "4372d843-50a7-466e-b623-a6f5822748c7",
   "metadata": {},
   "outputs": [],
   "source": [
    "logging.basicConfig(filename='base1.log', level=logging.DEBUG, format='%(asctime)s %(message)s')"
   ]
  },
  {
   "cell_type": "code",
   "execution_count": 3,
   "id": "42071979-5ab3-4dfd-8527-af02ec1324f2",
   "metadata": {},
   "outputs": [],
   "source": [
    "logging.info(\"This is a logging info\") "
   ]
  },
  {
   "cell_type": "code",
   "execution_count": 4,
   "id": "55ad4eee-f792-4d1b-9096-faa9bf10dbdb",
   "metadata": {},
   "outputs": [],
   "source": [
    "logging.debug(\"This is a logging debug\") "
   ]
  },
  {
   "cell_type": "code",
   "execution_count": 5,
   "id": "d3d799b6-5bf2-46da-887c-416ef6f746c3",
   "metadata": {},
   "outputs": [],
   "source": [
    "logging.warning(\"This is a logging warning\") "
   ]
  },
  {
   "cell_type": "code",
   "execution_count": 6,
   "id": "14d85372-d231-4233-b47e-558125b5a1f4",
   "metadata": {},
   "outputs": [],
   "source": [
    "logging.shutdown()"
   ]
  },
  {
   "cell_type": "code",
   "execution_count": 2,
   "id": "62907505-1682-40cd-af58-216cfe627204",
   "metadata": {},
   "outputs": [],
   "source": [
    "logging.basicConfig(filename='base3.log', level=logging.DEBUG, format='%(asctime)s %(name)s %(levelname)s %(message)s')"
   ]
  },
  {
   "cell_type": "code",
   "execution_count": 6,
   "id": "8bf374a8-de6b-4a85-9801-721c94fd6f3e",
   "metadata": {},
   "outputs": [],
   "source": [
    "logging.info(\"This is a logging info\") "
   ]
  },
  {
   "cell_type": "code",
   "execution_count": 3,
   "id": "f18122d6-97c2-4494-94b5-f0880b8fd42a",
   "metadata": {},
   "outputs": [],
   "source": [
    "l=[1,2,3,[4,5,6],\"Aditya\",\"Abhi\",\"Joy\"]\n",
    "l1=[]\n",
    "l2=[]\n",
    "for i in l:\n",
    "    logging.info(\"This is the start of my for loop {}\".format(l))\n",
    "    logging.info(\"This is the value of i {}\".format(i))\n",
    "    if type(i)==int or type(i)==float:\n",
    "        l1.append(i)\n",
    "    elif type(i)==list:\n",
    "        for j in i:\n",
    "            if(type(j)==int):\n",
    "                l1.append(j)\n",
    "    elif type(i)==str:\n",
    "        l2.append(i)\n",
    "    else:\n",
    "        print(\"Great!\")"
   ]
  },
  {
   "cell_type": "code",
   "execution_count": 4,
   "id": "383bbf91-1113-4f98-8d76-5c323e62474d",
   "metadata": {},
   "outputs": [
    {
     "data": {
      "text/plain": [
       "[1, 2, 3, 4, 5, 6]"
      ]
     },
     "execution_count": 4,
     "metadata": {},
     "output_type": "execute_result"
    }
   ],
   "source": [
    "l1"
   ]
  },
  {
   "cell_type": "code",
   "execution_count": 4,
   "id": "34ea3d92-58b9-44ea-9bce-baae5be7f420",
   "metadata": {},
   "outputs": [
    {
     "data": {
      "text/plain": [
       "['Aditya', 'Abhi', 'Joy']"
      ]
     },
     "execution_count": 4,
     "metadata": {},
     "output_type": "execute_result"
    }
   ],
   "source": [
    "l2"
   ]
  },
  {
   "cell_type": "code",
   "execution_count": null,
   "id": "d15f702e-d059-4dbb-ac2f-4db7661a7ab7",
   "metadata": {},
   "outputs": [],
   "source": []
  }
 ],
 "metadata": {
  "kernelspec": {
   "display_name": "Python 3 (ipykernel)",
   "language": "python",
   "name": "python3"
  },
  "language_info": {
   "codemirror_mode": {
    "name": "ipython",
    "version": 3
   },
   "file_extension": ".py",
   "mimetype": "text/x-python",
   "name": "python",
   "nbconvert_exporter": "python",
   "pygments_lexer": "ipython3",
   "version": "3.10.8"
  }
 },
 "nbformat": 4,
 "nbformat_minor": 5
}
