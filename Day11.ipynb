{
 "cells": [
  {
   "cell_type": "code",
   "execution_count": 13,
   "id": "de9ab323-802a-42c9-84f6-54c394bcfb24",
   "metadata": {},
   "outputs": [],
   "source": [
    "f=open('txt.txt','w')"
   ]
  },
  {
   "cell_type": "code",
   "execution_count": 14,
   "id": "4abbf7d1-a735-40b8-a68c-ed13f15e482a",
   "metadata": {},
   "outputs": [
    {
     "data": {
      "text/plain": [
       "'/home/jovyan/work/Python(BAsics)'"
      ]
     },
     "execution_count": 14,
     "metadata": {},
     "output_type": "execute_result"
    }
   ],
   "source": [
    "pwd"
   ]
  },
  {
   "cell_type": "code",
   "execution_count": 15,
   "id": "78a9213e-e1ac-4fbe-b1a9-125adbcd4a43",
   "metadata": {},
   "outputs": [
    {
     "name": "stdout",
     "output_type": "stream",
     "text": [
      "'29th-jan Assignment.ipynb'   Day5.ipynb               Feb-3Assignment.ipynb\n",
      " 30th-janAssignment.ipynb     Day6.ipynb               Feb-4Assignment.ipynb\n",
      " Day10.ipynb                  Day7.ipynb               Feb-5Assignment.ipynb\n",
      " Day11.ipynb                  Day8.ipynb               Feb-6Assignment.ipynb\n",
      "'Day(1-2).ipynb'              Day9.ipynb               Feb-7Assignment.ipynb\n",
      " Day3.ipynb                   Feb-10Assignment.ipynb   Feb-9Assignment.ipynb\n",
      " Day4.ipynb                   Feb-2Assignment.ipynb    txt.txt\n"
     ]
    }
   ],
   "source": [
    "ls"
   ]
  },
  {
   "cell_type": "code",
   "execution_count": 17,
   "id": "b5982f30-e5de-433d-92bb-39a4fbd88c2a",
   "metadata": {},
   "outputs": [
    {
     "data": {
      "text/plain": [
       "304"
      ]
     },
     "execution_count": 17,
     "metadata": {},
     "output_type": "execute_result"
    }
   ],
   "source": [
    "f.write('Because an object is an \"instance\" of a class, the act of creating an object is called instantiation. Using the blueprint analogy, a class is a blueprint, and an object is a building based on that blueprint. For the most part, changing the data in one object does not change the data in any other object.')"
   ]
  },
  {
   "cell_type": "code",
   "execution_count": 18,
   "id": "55202f0f-b8a7-419c-978f-c5a93943b6fb",
   "metadata": {},
   "outputs": [],
   "source": [
    "f.close()"
   ]
  },
  {
   "cell_type": "code",
   "execution_count": 20,
   "id": "0f1f97a2-016a-42d5-a0c4-ad693a2b4d8e",
   "metadata": {},
   "outputs": [],
   "source": [
    "data=open('txt.txt','r')"
   ]
  },
  {
   "cell_type": "code",
   "execution_count": 23,
   "id": "31e66071-ffae-45aa-aa44-fc4db9ca6626",
   "metadata": {},
   "outputs": [
    {
     "data": {
      "text/plain": [
       "'Because an object is an \"instance\" of a class, the act of creating an object is called instantiation. Using the blueprint analogy, a class is a blueprint, and an object is a building based on that blueprint. For the most part, changing the data in one object does not change the data in any other object.'"
      ]
     },
     "execution_count": 23,
     "metadata": {},
     "output_type": "execute_result"
    }
   ],
   "source": [
    "data.read()"
   ]
  },
  {
   "cell_type": "code",
   "execution_count": 24,
   "id": "2ed7d299-47ed-4134-ba55-acad12ebef77",
   "metadata": {},
   "outputs": [
    {
     "data": {
      "text/plain": [
       "''"
      ]
     },
     "execution_count": 24,
     "metadata": {},
     "output_type": "execute_result"
    }
   ],
   "source": [
    "data.read()"
   ]
  },
  {
   "cell_type": "code",
   "execution_count": 25,
   "id": "f10ab3a0-1e5a-4ca1-8249-f64b084cffbc",
   "metadata": {},
   "outputs": [
    {
     "data": {
      "text/plain": [
       "0"
      ]
     },
     "execution_count": 25,
     "metadata": {},
     "output_type": "execute_result"
    }
   ],
   "source": [
    "#Reset cursor\n",
    "\n",
    "data.seek(0)"
   ]
  },
  {
   "cell_type": "code",
   "execution_count": 26,
   "id": "1d169e3e-508a-4af1-8623-29213ebc234d",
   "metadata": {},
   "outputs": [
    {
     "data": {
      "text/plain": [
       "'Because an object is an \"instance\" of a class, the act of creating an object is called instantiation. Using the blueprint analogy, a class is a blueprint, and an object is a building based on that blueprint. For the most part, changing the data in one object does not change the data in any other object.'"
      ]
     },
     "execution_count": 26,
     "metadata": {},
     "output_type": "execute_result"
    }
   ],
   "source": [
    "data.read()"
   ]
  },
  {
   "cell_type": "code",
   "execution_count": 27,
   "id": "b54f9c13-77ef-437c-8c80-0182a1deb53e",
   "metadata": {},
   "outputs": [
    {
     "data": {
      "text/plain": [
       "40"
      ]
     },
     "execution_count": 27,
     "metadata": {},
     "output_type": "execute_result"
    }
   ],
   "source": [
    "data.seek(40)"
   ]
  },
  {
   "cell_type": "code",
   "execution_count": 28,
   "id": "0bfb8c4f-f228-4b60-8278-856c33d6ea32",
   "metadata": {},
   "outputs": [
    {
     "data": {
      "text/plain": [
       "'class, the act of creating an object is called instantiation. Using the blueprint analogy, a class is a blueprint, and an object is a building based on that blueprint. For the most part, changing the data in one object does not change the data in any other object.'"
      ]
     },
     "execution_count": 28,
     "metadata": {},
     "output_type": "execute_result"
    }
   ],
   "source": [
    "data.read()"
   ]
  },
  {
   "cell_type": "code",
   "execution_count": 29,
   "id": "bae33311-882d-4dd0-9e50-1e1babf268be",
   "metadata": {},
   "outputs": [],
   "source": [
    "#File size\n",
    "\n",
    "import os"
   ]
  },
  {
   "cell_type": "code",
   "execution_count": 30,
   "id": "1cd4f8ca-4767-477d-a70e-811b91cf6598",
   "metadata": {},
   "outputs": [
    {
     "data": {
      "text/plain": [
       "304"
      ]
     },
     "execution_count": 30,
     "metadata": {},
     "output_type": "execute_result"
    }
   ],
   "source": [
    "os.path.getsize('txt.txt')"
   ]
  },
  {
   "cell_type": "code",
   "execution_count": null,
   "id": "83c91f44-c959-42f0-ba3e-f0faac879d4c",
   "metadata": {},
   "outputs": [],
   "source": []
  }
 ],
 "metadata": {
  "kernelspec": {
   "display_name": "Python 3 (ipykernel)",
   "language": "python",
   "name": "python3"
  },
  "language_info": {
   "codemirror_mode": {
    "name": "ipython",
    "version": 3
   },
   "file_extension": ".py",
   "mimetype": "text/x-python",
   "name": "python",
   "nbconvert_exporter": "python",
   "pygments_lexer": "ipython3",
   "version": "3.10.8"
  }
 },
 "nbformat": 4,
 "nbformat_minor": 5
}
