{
 "cells": [
  {
   "cell_type": "code",
   "execution_count": 1,
   "id": "55321afb-1d52-4bde-a242-f3c0468207ce",
   "metadata": {},
   "outputs": [],
   "source": [
    "a=5"
   ]
  },
  {
   "cell_type": "code",
   "execution_count": 2,
   "id": "a7483c00-d84d-441e-869d-43f15ccc36ce",
   "metadata": {},
   "outputs": [
    {
     "data": {
      "text/plain": [
       "5"
      ]
     },
     "execution_count": 2,
     "metadata": {},
     "output_type": "execute_result"
    }
   ],
   "source": [
    "a"
   ]
  },
  {
   "cell_type": "code",
   "execution_count": 4,
   "id": "da161329-49e3-403e-86c7-6ff83c8c03dc",
   "metadata": {},
   "outputs": [],
   "source": [
    "n1=23\n",
    "n2=44\n",
    "n2=2+3j\n",
    "n1=n2.imag"
   ]
  },
  {
   "cell_type": "code",
   "execution_count": 5,
   "id": "10b30141-47fd-4077-816e-80f4d3e64577",
   "metadata": {},
   "outputs": [
    {
     "data": {
      "text/plain": [
       "(-1+3j)"
      ]
     },
     "execution_count": 5,
     "metadata": {},
     "output_type": "execute_result"
    }
   ],
   "source": [
    "n2-n1"
   ]
  },
  {
   "cell_type": "code",
   "execution_count": 7,
   "id": "6b032269-1e84-4790-9865-bbc95062f524",
   "metadata": {},
   "outputs": [
    {
     "data": {
      "text/plain": [
       "3.0"
      ]
     },
     "execution_count": 7,
     "metadata": {},
     "output_type": "execute_result"
    }
   ],
   "source": [
    "n1=n2.imag\n",
    "n1"
   ]
  },
  {
   "cell_type": "code",
   "execution_count": 8,
   "id": "36869c4c-2779-4f66-9c35-59aebcec5762",
   "metadata": {},
   "outputs": [
    {
     "data": {
      "text/plain": [
       "'Aditya'"
      ]
     },
     "execution_count": 8,
     "metadata": {},
     "output_type": "execute_result"
    }
   ],
   "source": [
    "a=12\n",
    "a=\"Aditya\"\n",
    "a"
   ]
  },
  {
   "cell_type": "markdown",
   "id": "a761512b-c688-4cf2-8403-67e4bf71e78b",
   "metadata": {},
   "source": [
    "COMMENTS\n"
   ]
  },
  {
   "cell_type": "code",
   "execution_count": 11,
   "id": "10c106c2-534c-419e-82fc-ab2064662b4e",
   "metadata": {},
   "outputs": [],
   "source": [
    "#This is a comment"
   ]
  },
  {
   "cell_type": "markdown",
   "id": "d4f74af9-2f5e-4763-ba1b-1dd1b159fd6d",
   "metadata": {},
   "source": [
    "MULTI_LINE COMMENTS\n"
   ]
  },
  {
   "cell_type": "code",
   "execution_count": 12,
   "id": "5427ef62-6fe9-44a5-bfc4-9a713b18641b",
   "metadata": {},
   "outputs": [
    {
     "data": {
      "text/plain": [
       "'This \\nis a multi line comment'"
      ]
     },
     "execution_count": 12,
     "metadata": {},
     "output_type": "execute_result"
    }
   ],
   "source": [
    "'''This \n",
    "is a multi line comment'''"
   ]
  },
  {
   "cell_type": "code",
   "execution_count": 13,
   "id": "e889d99f-1fc1-4cd4-8dc3-e199b7163fe7",
   "metadata": {},
   "outputs": [
    {
     "name": "stdout",
     "output_type": "stream",
     "text": [
      "My age is : 20\n"
     ]
    }
   ],
   "source": [
    "Age=20\n",
    "print(\"My age is :\", Age)"
   ]
  },
  {
   "cell_type": "code",
   "execution_count": 14,
   "id": "32bdbd2d-499a-488a-9138-4409d7bc6ded",
   "metadata": {},
   "outputs": [
    {
     "name": "stdout",
     "output_type": "stream",
     "text": [
      "My age is:20\n"
     ]
    }
   ],
   "source": [
    "##fstring\n",
    "print(f\"My age is:{Age}\")"
   ]
  },
  {
   "cell_type": "code",
   "execution_count": 17,
   "id": "7be0ad56-8267-4cbe-bd0c-dede7c961aa7",
   "metadata": {},
   "outputs": [
    {
     "name": "stdout",
     "output_type": "stream",
     "text": [
      "My name is Aditya Jha and age is 20\n"
     ]
    }
   ],
   "source": [
    "##Format()\n",
    "name=\"Aditya Jha\"\n",
    "age=20\n",
    "print(\"My name is {} and age is {}\".format(name,age))\n"
   ]
  },
  {
   "cell_type": "code",
   "execution_count": 18,
   "id": "1db247b3-73cf-443c-8643-528d47cec638",
   "metadata": {},
   "outputs": [
    {
     "name": "stdout",
     "output_type": "stream",
     "text": [
      "My age is 20 and i have completed my degree of BSC(CS) with the name of Aditya Jha\n"
     ]
    }
   ],
   "source": [
    "name=\"Aditya Jha\"\n",
    "age=20\n",
    "degree=\"BSC(CS)\"\n",
    "\n",
    "print(\"My age is {} and i have completed my degree of {} with the name of {}\".format(age,degree,name))"
   ]
  },
  {
   "cell_type": "markdown",
   "id": "df9d8a11-bc2d-4fc2-90b9-b051b9cc17a9",
   "metadata": {},
   "source": [
    "DECISION MAKING STATEMENTS\n"
   ]
  },
  {
   "cell_type": "code",
   "execution_count": 6,
   "id": "ffc673e6-eefc-4ce7-94db-8fa6fa27281e",
   "metadata": {},
   "outputs": [
    {
     "name": "stdin",
     "output_type": "stream",
     "text": [
      "Enter your Age: 20\n"
     ]
    },
    {
     "name": "stdout",
     "output_type": "stream",
     "text": [
      "Congratulations! You are elegible to Vote\n"
     ]
    }
   ],
   "source": [
    "##If statements\n",
    "age=int(input(\"Enter your Age:\"))\n",
    "if age>=18:\n",
    "    print(\"Congratulations! You are elegible to Vote\")\n"
   ]
  },
  {
   "cell_type": "code",
   "execution_count": 5,
   "id": "aff6b51f-81aa-404f-a3a6-d3c9c1ee61e9",
   "metadata": {},
   "outputs": [
    {
     "data": {
      "text/plain": [
       "True"
      ]
     },
     "execution_count": 5,
     "metadata": {},
     "output_type": "execute_result"
    }
   ],
   "source": [
    "18.5>=18.50 and 22.88<=22.880"
   ]
  },
  {
   "cell_type": "code",
   "execution_count": 9,
   "id": "401c3de0-4225-4e3e-8221-4ed9cb7010b6",
   "metadata": {},
   "outputs": [
    {
     "name": "stdin",
     "output_type": "stream",
     "text": [
      "Enter your Age: 17.6\n"
     ]
    },
    {
     "name": "stdout",
     "output_type": "stream",
     "text": [
      "Oops! Sorry You are not elegible to Vote\n"
     ]
    }
   ],
   "source": [
    "##If else statements\n",
    "age=float(input(\"Enter your Age:\"))\n",
    "if age>=18:\n",
    "    print(\"Congratulations! You are elegible to Vote\")\n",
    "else:\n",
    "    print(\"Oops! Sorry You are not elegible to Vote\")\n",
    "          "
   ]
  },
  {
   "cell_type": "code",
   "execution_count": 13,
   "id": "9bc74c36-1e99-4c1f-9f17-79aeceb511f0",
   "metadata": {},
   "outputs": [
    {
     "name": "stdin",
     "output_type": "stream",
     "text": [
      "Enter the product price in Rs- 700\n"
     ]
    },
    {
     "name": "stdout",
     "output_type": "stream",
     "text": [
      "Congratulations! You get a discount of 30% on your product.\n",
      "The price of your product is now- 490.0\n"
     ]
    }
   ],
   "source": [
    "pdp=float(input(\"Enter the product price in Rs-\"))\n",
    "if pdp>1000:\n",
    "    print('''Congratulations! You get a discount of 20% on your product.\n",
    "The price of your product is now-''',pdp-(pdp*20)/100)\n",
    "elif pdp<=1000:\n",
    "    print('''Congratulations! You get a discount of 30% on your product.\n",
    "The price of your product is now-''',pdp-(pdp*30)/100)\n",
    "    \n"
   ]
  },
  {
   "cell_type": "code",
   "execution_count": 27,
   "id": "d76bb23f-8d52-4056-a54e-3e3c6155c85f",
   "metadata": {},
   "outputs": [
    {
     "name": "stdin",
     "output_type": "stream",
     "text": [
      "Enter the product price 2999\n"
     ]
    },
    {
     "name": "stdout",
     "output_type": "stream",
     "text": [
      "Congratulations! You will get an additional gift\n",
      "The price of product is-2099.2999999999997\n"
     ]
    }
   ],
   "source": [
    "pdp=int(input(\"Enter the product price\"))\n",
    "if pdp>3000:\n",
    "    print(\"The price of product is-{}\".format(pdp*0.8))\n",
    "elif pdp>=2000 and pdp<=3000:\n",
    "    if pdp==2999: #Nested if condition\n",
    "        print(\"Congratulations! You will get an additional gift\")\n",
    "    print(\"The price of product is-{}\".format(pdp*0.7)) \n",
    "else:\n",
    "    print(\"The price of product is-{}\".format(pdp*0.6))"
   ]
  },
  {
   "cell_type": "code",
   "execution_count": 36,
   "id": "27920c40-17d9-49ea-a69c-77e3fbd577ca",
   "metadata": {},
   "outputs": [
    {
     "name": "stdin",
     "output_type": "stream",
     "text": [
      "Enter a positive number- 785\n"
     ]
    },
    {
     "name": "stdout",
     "output_type": "stream",
     "text": [
      "Value is less than 999\n"
     ]
    }
   ],
   "source": [
    "##Single Statement\n",
    "val=int(input(\"Enter a positive number-\"))\n",
    "if(val<=999):print(\"Value is less than 999\")\n",
    "\n",
    "              "
   ]
  },
  {
   "cell_type": "code",
   "execution_count": null,
   "id": "fb3cb9b9-dfba-40e0-9852-73d59fbe6734",
   "metadata": {},
   "outputs": [],
   "source": []
  },
  {
   "cell_type": "code",
   "execution_count": null,
   "id": "2b127f49-f103-4c19-a491-e73f099cbf3e",
   "metadata": {},
   "outputs": [],
   "source": []
  },
  {
   "cell_type": "code",
   "execution_count": null,
   "id": "0ee9869e-0bd2-4a11-8d73-6b851d0990df",
   "metadata": {},
   "outputs": [],
   "source": []
  },
  {
   "cell_type": "code",
   "execution_count": null,
   "id": "103dce86-db92-450c-b26d-dd62882e7da6",
   "metadata": {},
   "outputs": [],
   "source": []
  },
  {
   "cell_type": "code",
   "execution_count": null,
   "id": "0850b13e-b0ad-49d5-bb47-e315f9dc906e",
   "metadata": {},
   "outputs": [],
   "source": []
  },
  {
   "cell_type": "code",
   "execution_count": null,
   "id": "cdfbb316-51b9-44f4-9b9a-84f990444147",
   "metadata": {},
   "outputs": [],
   "source": []
  },
  {
   "cell_type": "code",
   "execution_count": null,
   "id": "63d849de-7151-416d-b11f-2795a2985400",
   "metadata": {},
   "outputs": [],
   "source": []
  },
  {
   "cell_type": "code",
   "execution_count": null,
   "id": "462c07fa-1b7d-40e7-8fa5-147d9616c590",
   "metadata": {},
   "outputs": [],
   "source": []
  },
  {
   "cell_type": "code",
   "execution_count": null,
   "id": "24660927-d784-4fc1-b359-4b3f4cba3fc2",
   "metadata": {},
   "outputs": [],
   "source": []
  }
 ],
 "metadata": {
  "kernelspec": {
   "display_name": "Python 3 (ipykernel)",
   "language": "python",
   "name": "python3"
  },
  "language_info": {
   "codemirror_mode": {
    "name": "ipython",
    "version": 3
   },
   "file_extension": ".py",
   "mimetype": "text/x-python",
   "name": "python",
   "nbconvert_exporter": "python",
   "pygments_lexer": "ipython3",
   "version": "3.10.8"
  }
 },
 "nbformat": 4,
 "nbformat_minor": 5
}
