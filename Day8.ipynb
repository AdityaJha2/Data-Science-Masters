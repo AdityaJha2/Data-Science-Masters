{
 "cells": [
  {
   "cell_type": "markdown",
   "id": "62be77f8-853d-4a04-8c38-39b723c98da0",
   "metadata": {},
   "source": [
    "## Oops"
   ]
  },
  {
   "cell_type": "code",
   "execution_count": 2,
   "id": "d4bab374-472a-4266-b7d1-2756b7ab1cde",
   "metadata": {},
   "outputs": [],
   "source": [
    "class test:\n",
    "    pass"
   ]
  },
  {
   "cell_type": "code",
   "execution_count": 3,
   "id": "ad69f1ab-c106-4271-80ba-68ae1a6ff57a",
   "metadata": {},
   "outputs": [
    {
     "name": "stdout",
     "output_type": "stream",
     "text": [
      "<class '__main__.test'>\n"
     ]
    }
   ],
   "source": [
    "a=test()\n",
    "print(type(a))"
   ]
  },
  {
   "cell_type": "code",
   "execution_count": 15,
   "id": "56c4f566-a645-4527-a273-403a50205c70",
   "metadata": {},
   "outputs": [],
   "source": [
    "class new:\n",
    "    def msg(self):\n",
    "        print(\"Welcome\")"
   ]
  },
  {
   "cell_type": "code",
   "execution_count": 18,
   "id": "6224c68e-b948-4172-bf8e-769af396b6ac",
   "metadata": {},
   "outputs": [],
   "source": [
    "Aditya=new() ##Aditya is a object(real world entity)"
   ]
  },
  {
   "cell_type": "code",
   "execution_count": 19,
   "id": "c641e40c-e0db-4b7d-b828-c4037ea32b1a",
   "metadata": {},
   "outputs": [
    {
     "name": "stdout",
     "output_type": "stream",
     "text": [
      "Welcome\n"
     ]
    }
   ],
   "source": [
    "Aditya.msg()"
   ]
  },
  {
   "cell_type": "markdown",
   "id": "dd7285be-81d4-4813-a584-b9b2fcc8c74e",
   "metadata": {},
   "source": [
    "## Constructor"
   ]
  },
  {
   "cell_type": "code",
   "execution_count": 29,
   "id": "e0ffca7f-6063-434b-a125-518b5a10c54e",
   "metadata": {},
   "outputs": [],
   "source": [
    "class cons:\n",
    "    def __init__(self, Name, Age, Phonenumber, Course):\n",
    "        self.Name=Name\n",
    "        self.Age=Age\n",
    "        self.Phonenumber=Phonenumber\n",
    "        self.Course=Course\n",
    "        \n",
    "        \n",
    "    def Student_details(self):\n",
    "        return self.Name, self.Age, self.Phonenumber, self.Course\n",
    "    "
   ]
  },
  {
   "cell_type": "code",
   "execution_count": 30,
   "id": "00ec5ee0-2986-4c6c-a7ff-b2f0919c0510",
   "metadata": {},
   "outputs": [],
   "source": [
    "obj=cons(\"Aditya\", 21,8178645488,\"Data_Science\")"
   ]
  },
  {
   "cell_type": "code",
   "execution_count": 31,
   "id": "9a444d8d-7a80-4ece-8e73-a06b33f794cc",
   "metadata": {},
   "outputs": [
    {
     "data": {
      "text/plain": [
       "('Aditya', 21, 8178645488, 'Data_Science')"
      ]
     },
     "execution_count": 31,
     "metadata": {},
     "output_type": "execute_result"
    }
   ],
   "source": [
    "obj.Student_details()"
   ]
  },
  {
   "cell_type": "code",
   "execution_count": 32,
   "id": "ec70bd29-0175-4755-883c-192bd09472f5",
   "metadata": {},
   "outputs": [],
   "source": [
    "obj1=cons(\"Aman\", 20,8178645420,\"Data_Science\")"
   ]
  },
  {
   "cell_type": "code",
   "execution_count": 33,
   "id": "9b21b628-a94a-4609-a062-e8c7ba11697f",
   "metadata": {},
   "outputs": [
    {
     "data": {
      "text/plain": [
       "('Aman', 20, 8178645420, 'Data_Science')"
      ]
     },
     "execution_count": 33,
     "metadata": {},
     "output_type": "execute_result"
    }
   ],
   "source": [
    "obj1.Student_details()"
   ]
  },
  {
   "cell_type": "code",
   "execution_count": 34,
   "id": "3a10d192-afc4-43cd-b627-bff463a24e7b",
   "metadata": {},
   "outputs": [
    {
     "data": {
      "text/plain": [
       "'Aditya'"
      ]
     },
     "execution_count": 34,
     "metadata": {},
     "output_type": "execute_result"
    }
   ],
   "source": [
    "obj.Name"
   ]
  },
  {
   "cell_type": "code",
   "execution_count": null,
   "id": "607a1bf5-9b29-4aa8-8612-d83c01086baf",
   "metadata": {},
   "outputs": [],
   "source": []
  }
 ],
 "metadata": {
  "kernelspec": {
   "display_name": "Python 3 (ipykernel)",
   "language": "python",
   "name": "python3"
  },
  "language_info": {
   "codemirror_mode": {
    "name": "ipython",
    "version": 3
   },
   "file_extension": ".py",
   "mimetype": "text/x-python",
   "name": "python",
   "nbconvert_exporter": "python",
   "pygments_lexer": "ipython3",
   "version": "3.10.8"
  }
 },
 "nbformat": 4,
 "nbformat_minor": 5
}
