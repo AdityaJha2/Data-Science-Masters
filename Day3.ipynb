{
 "cells": [
  {
   "cell_type": "code",
   "execution_count": 2,
   "id": "0ece103e-65e9-4a5c-825a-6de8c838704a",
   "metadata": {},
   "outputs": [
    {
     "name": "stdout",
     "output_type": "stream",
     "text": [
      "105\n"
     ]
    }
   ],
   "source": [
    "sum=0\n",
    "for i in range(1,100):\n",
    "    sum+=i\n",
    "    if(sum>100):\n",
    "        break\n",
    "print(sum)\n",
    "    "
   ]
  },
  {
   "cell_type": "markdown",
   "id": "1c22a058-d2d3-4506-a303-9558d797dddb",
   "metadata": {},
   "source": [
    "# Logical operators\n",
    "\n",
    "1.And\n",
    "2.Or\n",
    "3.not"
   ]
  },
  {
   "cell_type": "code",
   "execution_count": 5,
   "id": "bfab6482-ed4d-44bc-ba60-3d7fc269e816",
   "metadata": {},
   "outputs": [
    {
     "data": {
      "text/plain": [
       "False"
      ]
     },
     "execution_count": 5,
     "metadata": {},
     "output_type": "execute_result"
    }
   ],
   "source": [
    "#And operator\n",
    "True and False"
   ]
  },
  {
   "cell_type": "code",
   "execution_count": 6,
   "id": "586a40ba-3f6a-4d3a-b745-6a334b803c0e",
   "metadata": {},
   "outputs": [
    {
     "data": {
      "text/plain": [
       "True"
      ]
     },
     "execution_count": 6,
     "metadata": {},
     "output_type": "execute_result"
    }
   ],
   "source": [
    "True and True"
   ]
  },
  {
   "cell_type": "code",
   "execution_count": 7,
   "id": "d06028c2-c672-4edf-8b5c-c6bee99b82da",
   "metadata": {},
   "outputs": [
    {
     "name": "stdout",
     "output_type": "stream",
     "text": [
      "False\n"
     ]
    }
   ],
   "source": [
    "#Not operator\n",
    "start=True\n",
    "print(not(start))"
   ]
  },
  {
   "cell_type": "code",
   "execution_count": 8,
   "id": "8a937fa9-cf92-4c7e-975d-b355fe8d8bc6",
   "metadata": {},
   "outputs": [
    {
     "data": {
      "text/plain": [
       "True"
      ]
     },
     "execution_count": 8,
     "metadata": {},
     "output_type": "execute_result"
    }
   ],
   "source": [
    "#or operator\n",
    "True or False"
   ]
  },
  {
   "cell_type": "code",
   "execution_count": 9,
   "id": "3f4e4730-6800-4987-9f26-1185ad0f30a9",
   "metadata": {},
   "outputs": [
    {
     "data": {
      "text/plain": [
       "True"
      ]
     },
     "execution_count": 9,
     "metadata": {},
     "output_type": "execute_result"
    }
   ],
   "source": [
    "bool(1)"
   ]
  },
  {
   "cell_type": "code",
   "execution_count": 10,
   "id": "504c436a-0cfa-4f75-baa0-40c4826f8f98",
   "metadata": {},
   "outputs": [
    {
     "data": {
      "text/plain": [
       "1"
      ]
     },
     "execution_count": 10,
     "metadata": {},
     "output_type": "execute_result"
    }
   ],
   "source": [
    "int(bool(1))"
   ]
  },
  {
   "cell_type": "code",
   "execution_count": 12,
   "id": "1ea99ebd-655e-49d4-94a8-b5ef5e4a0b63",
   "metadata": {},
   "outputs": [
    {
     "data": {
      "text/plain": [
       "False"
      ]
     },
     "execution_count": 12,
     "metadata": {},
     "output_type": "execute_result"
    }
   ],
   "source": [
    "not(int(bool(1)))"
   ]
  },
  {
   "cell_type": "code",
   "execution_count": 14,
   "id": "bef5cd5a-0693-49ea-975a-8d1f29f70cbb",
   "metadata": {},
   "outputs": [
    {
     "data": {
      "text/plain": [
       "True"
      ]
     },
     "execution_count": 14,
     "metadata": {},
     "output_type": "execute_result"
    }
   ],
   "source": [
    "not(False)"
   ]
  },
  {
   "cell_type": "code",
   "execution_count": 15,
   "id": "367684ed-e1bf-4c04-8a21-d66718a636ec",
   "metadata": {},
   "outputs": [
    {
     "data": {
      "text/plain": [
       "False"
      ]
     },
     "execution_count": 15,
     "metadata": {},
     "output_type": "execute_result"
    }
   ],
   "source": [
    "not(-1)"
   ]
  },
  {
   "cell_type": "code",
   "execution_count": 16,
   "id": "b1fbb6dc-0f92-4ea1-ade8-e506bbddff72",
   "metadata": {},
   "outputs": [
    {
     "data": {
      "text/plain": [
       "True"
      ]
     },
     "execution_count": 16,
     "metadata": {},
     "output_type": "execute_result"
    }
   ],
   "source": [
    "bool(-1)"
   ]
  },
  {
   "cell_type": "code",
   "execution_count": 18,
   "id": "63f0c5b0-8707-4d49-8555-af3f8cd4f401",
   "metadata": {},
   "outputs": [
    {
     "name": "stdout",
     "output_type": "stream",
     "text": [
      "Boolean value of no. 0 is False\n",
      "Boolean value of no. 1 is True\n",
      "Negation of 0 is True and negatation of 1 is False\n"
     ]
    }
   ],
   "source": [
    "zero=0\n",
    "one=1\n",
    "\n",
    "print(f\"Boolean value of no. {zero} is {bool(zero)}\")\n",
    "print(f\"Boolean value of no. {one} is {bool(one)}\")\n",
    "print(f\"Negation of {zero} is {not zero} and negatation of {one} is {not one}\")"
   ]
  },
  {
   "cell_type": "code",
   "execution_count": 20,
   "id": "b43025eb-7c66-49cc-ad92-d31582a52557",
   "metadata": {},
   "outputs": [
    {
     "data": {
      "text/plain": [
       "1"
      ]
     },
     "execution_count": 20,
     "metadata": {},
     "output_type": "execute_result"
    }
   ],
   "source": [
    "int(not(0))"
   ]
  },
  {
   "cell_type": "code",
   "execution_count": 21,
   "id": "822389ef-daf2-4b4b-89a2-6af58ac1ddd4",
   "metadata": {},
   "outputs": [
    {
     "data": {
      "text/plain": [
       "0"
      ]
     },
     "execution_count": 21,
     "metadata": {},
     "output_type": "execute_result"
    }
   ],
   "source": [
    "True * False"
   ]
  },
  {
   "cell_type": "code",
   "execution_count": 22,
   "id": "529b93b3-b7fc-4f85-a5eb-a8880b8874bd",
   "metadata": {},
   "outputs": [
    {
     "data": {
      "text/plain": [
       "1"
      ]
     },
     "execution_count": 22,
     "metadata": {},
     "output_type": "execute_result"
    }
   ],
   "source": [
    "True * True"
   ]
  },
  {
   "cell_type": "code",
   "execution_count": 23,
   "id": "40e7a9de-6202-4c5f-8f25-029f9c90e149",
   "metadata": {},
   "outputs": [
    {
     "data": {
      "text/plain": [
       "0"
      ]
     },
     "execution_count": 23,
     "metadata": {},
     "output_type": "execute_result"
    }
   ],
   "source": [
    "False*False"
   ]
  },
  {
   "cell_type": "code",
   "execution_count": 24,
   "id": "3c244322-5d40-4ea2-88e7-0f33ae6c3a01",
   "metadata": {},
   "outputs": [
    {
     "data": {
      "text/plain": [
       "True"
      ]
     },
     "execution_count": 24,
     "metadata": {},
     "output_type": "execute_result"
    }
   ],
   "source": [
    "not (False)"
   ]
  },
  {
   "cell_type": "code",
   "execution_count": 33,
   "id": "d8527fb4-eecf-459d-9caf-46ebe6d93174",
   "metadata": {},
   "outputs": [
    {
     "data": {
      "text/plain": [
       "True"
      ]
     },
     "execution_count": 33,
     "metadata": {},
     "output_type": "execute_result"
    }
   ],
   "source": [
    "#Precedance\n",
    "not (False)*False"
   ]
  },
  {
   "cell_type": "code",
   "execution_count": 27,
   "id": "a96b0d48-f7b7-4106-9927-6475cc9d4325",
   "metadata": {},
   "outputs": [
    {
     "data": {
      "text/plain": [
       "0"
      ]
     },
     "execution_count": 27,
     "metadata": {},
     "output_type": "execute_result"
    }
   ],
   "source": [
    "(not(False))*False"
   ]
  },
  {
   "cell_type": "markdown",
   "id": "798a8b4a-c010-4acb-972e-e4941b0371ef",
   "metadata": {},
   "source": [
    "## Equality Operators"
   ]
  },
  {
   "cell_type": "code",
   "execution_count": 29,
   "id": "c2c9f48b-f1b3-47e6-ae8d-8b5fb9cad329",
   "metadata": {},
   "outputs": [
    {
     "name": "stdout",
     "output_type": "stream",
     "text": [
      "Memory address of lst_a is 140329236143808 and memory address of lst_b is 140329236147264\n"
     ]
    }
   ],
   "source": [
    "lst_a=[1,2,3,4]\n",
    "lst_b=[5,6,7,8]\n",
    "\n",
    "print(f\"Memory address of lst_a is {id(lst_a)} and memory address of lst_b is {id(lst_b)}\")"
   ]
  },
  {
   "cell_type": "code",
   "execution_count": 30,
   "id": "abb418a0-9548-4ffd-b83a-0f60dd1c45e1",
   "metadata": {},
   "outputs": [
    {
     "data": {
      "text/plain": [
       "False"
      ]
     },
     "execution_count": 30,
     "metadata": {},
     "output_type": "execute_result"
    }
   ],
   "source": [
    "lst_a is lst_b"
   ]
  },
  {
   "cell_type": "code",
   "execution_count": 31,
   "id": "0cb1112c-d2a7-49ac-b340-45862b9b9523",
   "metadata": {},
   "outputs": [
    {
     "data": {
      "text/plain": [
       "True"
      ]
     },
     "execution_count": 31,
     "metadata": {},
     "output_type": "execute_result"
    }
   ],
   "source": [
    "lst_a is not lst_b"
   ]
  },
  {
   "cell_type": "code",
   "execution_count": 32,
   "id": "ba2bb1f3-d578-4b3e-9b36-58e5baa28f6a",
   "metadata": {},
   "outputs": [
    {
     "data": {
      "text/plain": [
       "False"
      ]
     },
     "execution_count": 32,
     "metadata": {},
     "output_type": "execute_result"
    }
   ],
   "source": [
    "lst_a==lst_b"
   ]
  },
  {
   "cell_type": "code",
   "execution_count": 34,
   "id": "37af734c-dbc9-408b-bac1-0c9d63ca4487",
   "metadata": {},
   "outputs": [
    {
     "data": {
      "text/plain": [
       "True"
      ]
     },
     "execution_count": 34,
     "metadata": {},
     "output_type": "execute_result"
    }
   ],
   "source": [
    "lst_a!=lst_b"
   ]
  },
  {
   "cell_type": "code",
   "execution_count": 35,
   "id": "8dcb421b-4fab-4a9e-a6ec-bd82ee40a9f9",
   "metadata": {},
   "outputs": [
    {
     "data": {
      "text/plain": [
       "[1, 2, 3, 10, 5, 6]"
      ]
     },
     "execution_count": 35,
     "metadata": {},
     "output_type": "execute_result"
    }
   ],
   "source": [
    "lst1=[1,2,3,4,5,6]\n",
    "lst1[3]=10\n",
    "lst1"
   ]
  },
  {
   "cell_type": "code",
   "execution_count": 36,
   "id": "110a0eb9-29d8-400e-9950-8e0e2f9b7b5b",
   "metadata": {},
   "outputs": [
    {
     "name": "stdout",
     "output_type": "stream",
     "text": [
      "False\n"
     ]
    }
   ],
   "source": [
    "##comparision operations\n",
    "spbike=150\n",
    "spcar=200\n",
    "print(spbike>=spcar)"
   ]
  },
  {
   "cell_type": "code",
   "execution_count": 37,
   "id": "9ed26ac8-7e4f-46fa-a615-2c1ca405245a",
   "metadata": {},
   "outputs": [
    {
     "name": "stdout",
     "output_type": "stream",
     "text": [
      "True\n"
     ]
    }
   ],
   "source": [
    "print(spcar>spbike)"
   ]
  },
  {
   "cell_type": "markdown",
   "id": "aaddd6cf-2d14-48e4-9f60-46219dc30ccc",
   "metadata": {},
   "source": [
    "## Arithmetic operations"
   ]
  },
  {
   "cell_type": "code",
   "execution_count": 38,
   "id": "711ea9fc-0cfa-4e4b-bc36-a177b0c064f2",
   "metadata": {},
   "outputs": [
    {
     "name": "stdout",
     "output_type": "stream",
     "text": [
      "91.0\n"
     ]
    }
   ],
   "source": [
    "a=43.5\n",
    "b=47.5\n",
    "print(a+b)"
   ]
  },
  {
   "cell_type": "code",
   "execution_count": 39,
   "id": "9f1d6325-490d-481d-a6e0-11557e713284",
   "metadata": {},
   "outputs": [
    {
     "data": {
      "text/plain": [
       "2066.25"
      ]
     },
     "execution_count": 39,
     "metadata": {},
     "output_type": "execute_result"
    }
   ],
   "source": [
    "a*b"
   ]
  },
  {
   "cell_type": "code",
   "execution_count": 40,
   "id": "11d676fe-86d6-406d-92cd-b24afd6f0216",
   "metadata": {},
   "outputs": [
    {
     "data": {
      "text/plain": [
       "0.9157894736842105"
      ]
     },
     "execution_count": 40,
     "metadata": {},
     "output_type": "execute_result"
    }
   ],
   "source": [
    "a/b"
   ]
  },
  {
   "cell_type": "code",
   "execution_count": 41,
   "id": "f9f23502-3706-4beb-8e3b-c68eb57b48f6",
   "metadata": {},
   "outputs": [
    {
     "data": {
      "text/plain": [
       "43.5"
      ]
     },
     "execution_count": 41,
     "metadata": {},
     "output_type": "execute_result"
    }
   ],
   "source": [
    "a%b"
   ]
  },
  {
   "cell_type": "code",
   "execution_count": 42,
   "id": "757ed120-6c70-44d6-be31-e780438b6a30",
   "metadata": {},
   "outputs": [
    {
     "data": {
      "text/plain": [
       "0.0"
      ]
     },
     "execution_count": 42,
     "metadata": {},
     "output_type": "execute_result"
    }
   ],
   "source": [
    "a//b"
   ]
  },
  {
   "cell_type": "markdown",
   "id": "9eb34301-00f1-4fd7-8c52-342548725d80",
   "metadata": {},
   "source": [
    "## Bitwise operators"
   ]
  },
  {
   "cell_type": "code",
   "execution_count": 43,
   "id": "1aff703c-e039-4cad-bb81-42c51f0a47ab",
   "metadata": {},
   "outputs": [
    {
     "name": "stdout",
     "output_type": "stream",
     "text": [
      "0b101\n"
     ]
    }
   ],
   "source": [
    "var=5\n",
    "print(bin(var))"
   ]
  },
  {
   "cell_type": "code",
   "execution_count": 45,
   "id": "9bc14bf9-ef16-4981-a95b-b9fab173d996",
   "metadata": {},
   "outputs": [
    {
     "data": {
      "text/plain": [
       "False"
      ]
     },
     "execution_count": 45,
     "metadata": {},
     "output_type": "execute_result"
    }
   ],
   "source": [
    "True & False"
   ]
  },
  {
   "cell_type": "code",
   "execution_count": 48,
   "id": "0cbb8a31-3d1e-4da3-8c6a-53fccc29eee1",
   "metadata": {},
   "outputs": [
    {
     "data": {
      "text/plain": [
       "5"
      ]
     },
     "execution_count": 48,
     "metadata": {},
     "output_type": "execute_result"
    }
   ],
   "source": [
    "10>>1"
   ]
  },
  {
   "cell_type": "markdown",
   "id": "eb8fffb4-4917-4f51-be0c-a567fd192547",
   "metadata": {},
   "source": [
    "## Strings"
   ]
  },
  {
   "cell_type": "code",
   "execution_count": 49,
   "id": "42742308-79ce-4ed6-9f70-340cb09f335e",
   "metadata": {},
   "outputs": [
    {
     "data": {
      "text/plain": [
       "'Hello how are you'"
      ]
     },
     "execution_count": 49,
     "metadata": {},
     "output_type": "execute_result"
    }
   ],
   "source": [
    "str1=\"Hello how are you\"\n",
    "str1"
   ]
  },
  {
   "cell_type": "code",
   "execution_count": 56,
   "id": "2281473f-c2a6-4573-9195-45ed682f980d",
   "metadata": {},
   "outputs": [
    {
     "name": "stdout",
     "output_type": "stream",
     "text": [
      "llo how are you\n"
     ]
    }
   ],
   "source": [
    "print(str1[2:])\n",
    "   "
   ]
  },
  {
   "cell_type": "code",
   "execution_count": 57,
   "id": "e611d4d4-35d4-4356-82eb-cb75d58da763",
   "metadata": {},
   "outputs": [
    {
     "data": {
      "text/plain": [
       "'u'"
      ]
     },
     "execution_count": 57,
     "metadata": {},
     "output_type": "execute_result"
    }
   ],
   "source": [
    "str1[-1]"
   ]
  },
  {
   "cell_type": "code",
   "execution_count": 60,
   "id": "c6c28819-ea2a-4fff-9981-9cdce3dfb3da",
   "metadata": {},
   "outputs": [
    {
     "data": {
      "text/plain": [
       "'are you'"
      ]
     },
     "execution_count": 60,
     "metadata": {},
     "output_type": "execute_result"
    }
   ],
   "source": [
    "str1[-7:]"
   ]
  },
  {
   "cell_type": "code",
   "execution_count": 61,
   "id": "f6958359-7a81-4238-8696-c7c57d247673",
   "metadata": {},
   "outputs": [
    {
     "data": {
      "text/plain": [
       "'ow ar'"
      ]
     },
     "execution_count": 61,
     "metadata": {},
     "output_type": "execute_result"
    }
   ],
   "source": [
    "str1[-10:-5]"
   ]
  },
  {
   "cell_type": "code",
   "execution_count": 62,
   "id": "097bafd3-3028-4c79-ad7f-80f6948c4ac8",
   "metadata": {},
   "outputs": [
    {
     "data": {
      "text/plain": [
       "'Hello how are you'"
      ]
     },
     "execution_count": 62,
     "metadata": {},
     "output_type": "execute_result"
    }
   ],
   "source": [
    "str1[:]"
   ]
  },
  {
   "cell_type": "code",
   "execution_count": 63,
   "id": "606e2e01-aedd-4158-9f89-5cbd692dba9c",
   "metadata": {},
   "outputs": [
    {
     "data": {
      "text/plain": [
       "'uoy era woh olleH'"
      ]
     },
     "execution_count": 63,
     "metadata": {},
     "output_type": "execute_result"
    }
   ],
   "source": [
    "str1[::-1]"
   ]
  },
  {
   "cell_type": "code",
   "execution_count": 64,
   "id": "3fcbb114-a3c8-41df-a682-8a30448ca749",
   "metadata": {},
   "outputs": [
    {
     "data": {
      "text/plain": [
       "'olH'"
      ]
     },
     "execution_count": 64,
     "metadata": {},
     "output_type": "execute_result"
    }
   ],
   "source": [
    "str2=\"Hello\"\n",
    "str2[::-2]"
   ]
  },
  {
   "cell_type": "code",
   "execution_count": 65,
   "id": "fb31bbab-5cd0-4a6f-a4da-47a8599b2966",
   "metadata": {},
   "outputs": [
    {
     "data": {
      "text/plain": [
       "'lleH'"
      ]
     },
     "execution_count": 65,
     "metadata": {},
     "output_type": "execute_result"
    }
   ],
   "source": [
    "str2[3::-1]"
   ]
  },
  {
   "cell_type": "code",
   "execution_count": 66,
   "id": "a6183348-ef61-4670-903a-c780e277104a",
   "metadata": {},
   "outputs": [
    {
     "data": {
      "text/plain": [
       "'Hl'"
      ]
     },
     "execution_count": 66,
     "metadata": {},
     "output_type": "execute_result"
    }
   ],
   "source": [
    "str2[::3]"
   ]
  },
  {
   "cell_type": "code",
   "execution_count": 67,
   "id": "f8753b52-9cfd-4a31-abce-0430461afa46",
   "metadata": {},
   "outputs": [
    {
     "data": {
      "text/plain": [
       "'olH'"
      ]
     },
     "execution_count": 67,
     "metadata": {},
     "output_type": "execute_result"
    }
   ],
   "source": [
    "str2[4::-2]"
   ]
  },
  {
   "cell_type": "code",
   "execution_count": 68,
   "id": "cdee9535-3555-458c-af26-4ec613cbd016",
   "metadata": {},
   "outputs": [
    {
     "data": {
      "text/plain": [
       "'le'"
      ]
     },
     "execution_count": 68,
     "metadata": {},
     "output_type": "execute_result"
    }
   ],
   "source": [
    "str2[3::-2]"
   ]
  },
  {
   "cell_type": "code",
   "execution_count": 73,
   "id": "2f3ff1e0-8ba8-4ba4-a3d8-6a21b4a636cc",
   "metadata": {},
   "outputs": [
    {
     "name": "stdout",
     "output_type": "stream",
     "text": [
      "Science\n"
     ]
    }
   ],
   "source": [
    "course_name=\"Data Science Masters\"\n",
    "print(course_name[5:12])"
   ]
  },
  {
   "cell_type": "code",
   "execution_count": 76,
   "id": "904a4938-d0e6-4171-aca6-6363c144c8d1",
   "metadata": {},
   "outputs": [
    {
     "name": "stdout",
     "output_type": "stream",
     "text": [
      "ecneicS\n"
     ]
    }
   ],
   "source": [
    "print(course_name[11:4:-1])"
   ]
  },
  {
   "cell_type": "code",
   "execution_count": 79,
   "id": "bbac8fc2-fb53-42ff-845d-af1376f24f91",
   "metadata": {},
   "outputs": [
    {
     "data": {
      "text/plain": [
       "'Data Science Masters Course'"
      ]
     },
     "execution_count": 79,
     "metadata": {},
     "output_type": "execute_result"
    }
   ],
   "source": [
    "#concatenation\n",
    "course_name+\" Course\""
   ]
  },
  {
   "cell_type": "code",
   "execution_count": 80,
   "id": "1241f4d2-4953-4e1d-bd35-70549040d8d3",
   "metadata": {},
   "outputs": [
    {
     "data": {
      "text/plain": [
       "'Data Science MastersData Science Masters'"
      ]
     },
     "execution_count": 80,
     "metadata": {},
     "output_type": "execute_result"
    }
   ],
   "source": [
    "course_name*2"
   ]
  },
  {
   "cell_type": "code",
   "execution_count": 81,
   "id": "30112641-b571-4325-b5af-1c9ed1c540f7",
   "metadata": {},
   "outputs": [
    {
     "data": {
      "text/plain": [
       "20"
      ]
     },
     "execution_count": 81,
     "metadata": {},
     "output_type": "execute_result"
    }
   ],
   "source": [
    "len(course_name)"
   ]
  },
  {
   "cell_type": "code",
   "execution_count": 84,
   "id": "9901124b-291f-4063-98ba-18e8e07cdbf6",
   "metadata": {},
   "outputs": [
    {
     "data": {
      "text/plain": [
       "8"
      ]
     },
     "execution_count": 84,
     "metadata": {},
     "output_type": "execute_result"
    }
   ],
   "source": [
    "course_name.find(\"e\", 3,10)"
   ]
  },
  {
   "cell_type": "code",
   "execution_count": 82,
   "id": "d7f349d3-9b17-4c08-9982-4b5302db975d",
   "metadata": {},
   "outputs": [
    {
     "data": {
      "text/plain": [
       "1"
      ]
     },
     "execution_count": 82,
     "metadata": {},
     "output_type": "execute_result"
    }
   ],
   "source": [
    "course_name.find(\"a\")"
   ]
  },
  {
   "cell_type": "code",
   "execution_count": 83,
   "id": "60474403-6cec-4a30-bf99-7c1f3d7a63ff",
   "metadata": {},
   "outputs": [
    {
     "data": {
      "text/plain": [
       "3"
      ]
     },
     "execution_count": 83,
     "metadata": {},
     "output_type": "execute_result"
    }
   ],
   "source": [
    "course_name.count(\"a\")"
   ]
  },
  {
   "cell_type": "code",
   "execution_count": 85,
   "id": "e9264d59-10f5-46eb-93ad-412746724b11",
   "metadata": {},
   "outputs": [
    {
     "data": {
      "text/plain": [
       "21"
      ]
     },
     "execution_count": 85,
     "metadata": {},
     "output_type": "execute_result"
    }
   ],
   "source": [
    "course_name.count(\"\")"
   ]
  },
  {
   "cell_type": "code",
   "execution_count": 86,
   "id": "b0b2c5d7-12c9-4150-a9d3-096ffdf9aa59",
   "metadata": {},
   "outputs": [],
   "source": [
    "#ZSplit function"
   ]
  },
  {
   "cell_type": "code",
   "execution_count": 87,
   "id": "3b93228c-7d4a-4c0b-a519-230e67fb04e3",
   "metadata": {},
   "outputs": [
    {
     "data": {
      "text/plain": [
       "['Data Science Masters']"
      ]
     },
     "execution_count": 87,
     "metadata": {},
     "output_type": "execute_result"
    }
   ],
   "source": [
    "course_name.split(\",\")"
   ]
  },
  {
   "cell_type": "code",
   "execution_count": 88,
   "id": "8261ee67-6f02-4429-83e2-8880bb5e375d",
   "metadata": {},
   "outputs": [
    {
     "data": {
      "text/plain": [
       "['Data', 'Science', 'Masters']"
      ]
     },
     "execution_count": 88,
     "metadata": {},
     "output_type": "execute_result"
    }
   ],
   "source": [
    "course_name.split(\" \")"
   ]
  },
  {
   "cell_type": "code",
   "execution_count": 89,
   "id": "ef4e0b83-0545-4f06-b2b2-a9c6ff951000",
   "metadata": {},
   "outputs": [
    {
     "data": {
      "text/plain": [
       "['Data Science Ma', 'ter', '']"
      ]
     },
     "execution_count": 89,
     "metadata": {},
     "output_type": "execute_result"
    }
   ],
   "source": [
    "course_name.split(\"s\")"
   ]
  },
  {
   "cell_type": "code",
   "execution_count": 91,
   "id": "dd6d162d-2519-4373-86e2-07eb482d74ec",
   "metadata": {},
   "outputs": [
    {
     "data": {
      "text/plain": [
       "('Data ', 'S', 'cience Masters')"
      ]
     },
     "execution_count": 91,
     "metadata": {},
     "output_type": "execute_result"
    }
   ],
   "source": [
    "course_name.partition(\"S\")"
   ]
  },
  {
   "cell_type": "code",
   "execution_count": 92,
   "id": "b5485d77-8c45-41be-b2ce-7f394bfeed08",
   "metadata": {},
   "outputs": [
    {
     "data": {
      "text/plain": [
       "'DATA SCIENCE MASTERS'"
      ]
     },
     "execution_count": 92,
     "metadata": {},
     "output_type": "execute_result"
    }
   ],
   "source": [
    "course_name.upper()"
   ]
  },
  {
   "cell_type": "code",
   "execution_count": 93,
   "id": "4b1296fd-c45f-4573-a7ad-cec452077743",
   "metadata": {},
   "outputs": [
    {
     "data": {
      "text/plain": [
       "'data science masters'"
      ]
     },
     "execution_count": 93,
     "metadata": {},
     "output_type": "execute_result"
    }
   ],
   "source": [
    "course_name.lower()"
   ]
  },
  {
   "cell_type": "code",
   "execution_count": 94,
   "id": "165c5c02-1f13-47b7-9189-5dbab64a123e",
   "metadata": {},
   "outputs": [
    {
     "data": {
      "text/plain": [
       "'dATA sCIENCE mASTERS'"
      ]
     },
     "execution_count": 94,
     "metadata": {},
     "output_type": "execute_result"
    }
   ],
   "source": [
    "course_name.swapcase()"
   ]
  },
  {
   "cell_type": "code",
   "execution_count": 96,
   "id": "d2e2e885-2cb7-45c0-9e57-5d3b9c86e5b3",
   "metadata": {},
   "outputs": [
    {
     "data": {
      "text/plain": [
       "'Aditya Jha'"
      ]
     },
     "execution_count": 96,
     "metadata": {},
     "output_type": "execute_result"
    }
   ],
   "source": [
    "name=\"Aditya Jha\"\n",
    "name.title()"
   ]
  },
  {
   "cell_type": "code",
   "execution_count": null,
   "id": "f4be7588-2f7a-4cb3-b2b2-11b6226b54d9",
   "metadata": {},
   "outputs": [],
   "source": []
  }
 ],
 "metadata": {
  "kernelspec": {
   "display_name": "Python 3 (ipykernel)",
   "language": "python",
   "name": "python3"
  },
  "language_info": {
   "codemirror_mode": {
    "name": "ipython",
    "version": 3
   },
   "file_extension": ".py",
   "mimetype": "text/x-python",
   "name": "python",
   "nbconvert_exporter": "python",
   "pygments_lexer": "ipython3",
   "version": "3.10.8"
  }
 },
 "nbformat": 4,
 "nbformat_minor": 5
}
