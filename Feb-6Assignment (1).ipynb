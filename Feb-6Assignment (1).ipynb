{
 "cells": [
  {
   "cell_type": "code",
   "execution_count": 4,
   "id": "79c010f5-63ec-43ad-a80a-ff40e506d645",
   "metadata": {},
   "outputs": [
    {
     "name": "stdout",
     "output_type": "stream",
     "text": [
      "flatter list is  [1, 2, 3, 4, 44, 55, 66, True, False, 34, 56, 78, 89, 34, 1, 2, 3, 1, 34, 'key2', 55, 67, 78, 89, 4, 45, 22, 61, 34, 56, 'data science', 'machine learning']\n"
     ]
    },
    {
     "data": {
      "text/plain": [
       "('product of all number in list is ', 4134711838987085478833841242112000)"
      ]
     },
     "execution_count": 4,
     "metadata": {},
     "output_type": "execute_result"
    }
   ],
   "source": [
    "#1 create a function which will take a list of argument and return the productof all the numbers after creating a flat list.\n",
    "list1 =[1,2,3,4,[44,55,66,True],False,(34,56,78,89,34),{1,2,3,3,2,1},{1:34,\"key2\":[55,67,78,89],4:(45,22,61,34)},[56,'data science'],'machine learning']\n",
    "def singlelist(list1):\n",
    "    a = []\n",
    "    for i in list1:\n",
    "        if type(i) == list or type(i)== tuple or type(i) == set :\n",
    "            for j in i:\n",
    "                a.append(j)\n",
    "        elif type(i) == dict:\n",
    "            for j in i:\n",
    "                a.append(j)\n",
    "                if type(i[j]) == list or type(i[j])== tuple or type(i[j]) == set :\n",
    "                    for k in i[j]:\n",
    "                        a.append(k)\n",
    "                else:\n",
    "                    a.append(i[j])\n",
    "        else:\n",
    "            a.append(i)\n",
    "    c = 1\n",
    "    for i in  a :\n",
    "        if type(i) == int or type(i) == float:\n",
    "            c = c*i\n",
    "    print(\"flatter list is \",a)\n",
    "    return \"product of all number in list is \",c\n",
    "singlelist(list1)"
   ]
  },
  {
   "cell_type": "code",
   "execution_count": 131,
   "id": "e4889411-bb71-4063-b7af-e13c25946b0f",
   "metadata": {},
   "outputs": [
    {
     "name": "stdin",
     "output_type": "stream",
     "text": [
      "Enter the message I want to become a Data Scientist.\n"
     ]
    },
    {
     "data": {
      "text/plain": [
       "'r$dzmg$gl$yvxlnv$z$wzgz$hxrvmgrhg.'"
      ]
     },
     "execution_count": 131,
     "metadata": {},
     "output_type": "execute_result"
    }
   ],
   "source": [
    "#Question2\n",
    "\n",
    "'''Write a python program for encrypting a message sent to you by your friend. The logic of encryption\n",
    "should be such that, for a the output should be z. For b, the output should be y. For c, the output should\n",
    "be x respectively. Also, the whitespace should be replaced with a dollar sign. Keep the punctuation\n",
    "marks unchanged.'''\n",
    "\n",
    "inp=input(\"Enter the message\")\n",
    "\n",
    "def encrypt_message(message):\n",
    "    message = message.lower()\n",
    "    encrypted_message = \"\"\n",
    "    for char in message:\n",
    "        if char == \" \":\n",
    "            encrypted_message += \"$\"\n",
    "        elif char.isalpha():\n",
    "            encrypted_message += chr(122 - ord(char) + 97)\n",
    "        else:\n",
    "            encrypted_message += char\n",
    "    return encrypted_message\n",
    "        \n",
    "encrypt_message(inp)\n",
    "        "
   ]
  },
  {
   "cell_type": "code",
   "execution_count": null,
   "id": "ca047fc3-13b0-4db0-9638-433997e0cd67",
   "metadata": {},
   "outputs": [],
   "source": []
  }
 ],
 "metadata": {
  "kernelspec": {
   "display_name": "Python 3 (ipykernel)",
   "language": "python",
   "name": "python3"
  },
  "language_info": {
   "codemirror_mode": {
    "name": "ipython",
    "version": 3
   },
   "file_extension": ".py",
   "mimetype": "text/x-python",
   "name": "python",
   "nbconvert_exporter": "python",
   "pygments_lexer": "ipython3",
   "version": "3.10.8"
  }
 },
 "nbformat": 4,
 "nbformat_minor": 5
}
