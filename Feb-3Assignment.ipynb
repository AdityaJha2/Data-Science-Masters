{
 "cells": [
  {
   "cell_type": "code",
   "execution_count": 6,
   "id": "f7b812bf-7cc1-499c-9586-075fe1f99592",
   "metadata": {},
   "outputs": [
    {
     "name": "stdout",
     "output_type": "stream",
     "text": [
      "def keyword is used to crate a function\n",
      "Odd numbers in the range of 1 to 25 are- [1, 3, 5, 7, 9, 11, 13, 15, 17, 19, 21, 23]\n"
     ]
    }
   ],
   "source": [
    "#Question1\n",
    "\n",
    "print('def keyword is used to crate a function')\n",
    "\n",
    "def odd_num():\n",
    "    l=[]\n",
    "    for i in range(1,25):\n",
    "        if(i%2!=0):\n",
    "            l.append(i)\n",
    "    return l\n",
    "print(\"Odd numbers in the range of 1 to 25 are-\",odd_num())"
   ]
  },
  {
   "cell_type": "code",
   "execution_count": 15,
   "id": "76c383f6-df95-4318-97d6-f7d2f2524dff",
   "metadata": {},
   "outputs": [
    {
     "name": "stdout",
     "output_type": "stream",
     "text": [
      " *args are used so that we can pass any number of arguments in a function.\n",
      " **kwargs are used when we to pass key:value pair as a argument in function.\n",
      " Example-\n",
      " Using *args- (1, 2, 3, [5, 6], 'Aditya')\n",
      " Using **kwargs- {'Name': 'Aditya', 'Course': 'Data Science Masters', 'Age': 20}\n"
     ]
    }
   ],
   "source": [
    "#Question2\n",
    "\n",
    "print(''' *args are used so that we can pass any number of arguments in a function.\n",
    " **kwargs are used when we to pass key:value pair as a argument in function.\n",
    " Example-''')\n",
    "\n",
    "def fun1(*args):\n",
    "    return args\n",
    "print(' Using *args-', fun1(1,2,3,[5,6],\"Aditya\"))\n",
    "\n",
    "def fun2(**kwargs):\n",
    "    return kwargs\n",
    "print(' Using **kwargs-', fun2(Name=\"Aditya\", Course=\"Data Science Masters\", Age=20))"
   ]
  },
  {
   "cell_type": "code",
   "execution_count": 25,
   "id": "803111c4-d435-40fe-a328-e78b90b5143b",
   "metadata": {},
   "outputs": [
    {
     "name": "stdout",
     "output_type": "stream",
     "text": [
      "Iterator in python is an object that is used to iterate over iterable objects like lists, tuples, dicts, and sets.\n",
      "iter() method is used to initialize the iterator object so that the instance of this object can be used for iterating\n",
      "and next() method is used for iteration.\n",
      "2 4 6 8 10 "
     ]
    }
   ],
   "source": [
    "#Question#\n",
    "print('''Iterator in python is an object that is used to iterate over iterable objects like lists, tuples, dicts, and sets.\n",
    "iter() method is used to initialize the iterator object so that the instance of this object can be used for iterating\n",
    "and next() method is used for iteration.''')\n",
    "\n",
    "l=[2, 4, 6, 8, 10, 12, 14, 16,18, 20]\n",
    "t=iter(l)\n",
    "print(next(t),end=\" \")\n",
    "print(next(t),end=\" \")\n",
    "print(next(t),end=\" \")\n",
    "print(next(t),end=\" \")\n",
    "print(next(t),end=\" \")"
   ]
  },
  {
   "cell_type": "code",
   "execution_count": 34,
   "id": "293af9e9-4dd8-4ec8-9cd8-2f72ae7b7442",
   "metadata": {},
   "outputs": [
    {
     "name": "stdout",
     "output_type": "stream",
     "text": [
      " A generator-function is defined like a normal function,but whenever it needs to generate a value,\n",
      " it does so with the yield keyword rather than return.\n",
      "\n",
      " Yield is used when we want to iterate over a sequence, but don’t want to store the entire sequence in memory.\n",
      " Example-\n",
      "0 1 4 9 16 "
     ]
    }
   ],
   "source": [
    "#Question4\n",
    "print(''' A generator-function is defined like a normal function,but whenever it needs to generate a value,\n",
    " it does so with the yield keyword rather than return.\\n\n",
    " Yield is used when we want to iterate over a sequence, but don’t want to store the entire sequence in memory.\n",
    " Example-''')\n",
    "\n",
    "## Square of n numbers\n",
    "\n",
    "def sq(n):\n",
    "    for i in range(0,n):\n",
    "        yield i**2\n",
    "        \n",
    "for i in sq(5):\n",
    "    print(i,end=\" \")"
   ]
  },
  {
   "cell_type": "code",
   "execution_count": 56,
   "id": "2b5d20cf-1ce9-4931-ac55-407d99d991da",
   "metadata": {},
   "outputs": [
    {
     "name": "stdout",
     "output_type": "stream",
     "text": [
      "2 3 5 7 11 13 17 19 23 29 31 37 41 43 47 53 59 61 67 71 "
     ]
    }
   ],
   "source": [
    "#Question5\n",
    "\n",
    "def prime_numbers():\n",
    "    yield 2\n",
    "    primes = [2]\n",
    "    n = 3\n",
    "    while n < 1000:\n",
    "        is_prime = True\n",
    "        for prime in primes:\n",
    "            if n % prime == 0:\n",
    "                is_prime = False\n",
    "                break\n",
    "        if is_prime:\n",
    "            primes.append(n)\n",
    "            yield n\n",
    "        n += 2\n",
    "\n",
    "gen = prime_numbers()\n",
    "for i in range(20):\n",
    "    print(next(gen), end=\" \")\n",
    "         "
   ]
  },
  {
   "cell_type": "code",
   "execution_count": null,
   "id": "1db9560e-160a-4c26-9a8f-abb7aa63af50",
   "metadata": {},
   "outputs": [],
   "source": []
  }
 ],
 "metadata": {
  "kernelspec": {
   "display_name": "Python 3 (ipykernel)",
   "language": "python",
   "name": "python3"
  },
  "language_info": {
   "codemirror_mode": {
    "name": "ipython",
    "version": 3
   },
   "file_extension": ".py",
   "mimetype": "text/x-python",
   "name": "python",
   "nbconvert_exporter": "python",
   "pygments_lexer": "ipython3",
   "version": "3.10.8"
  }
 },
 "nbformat": 4,
 "nbformat_minor": 5
}
