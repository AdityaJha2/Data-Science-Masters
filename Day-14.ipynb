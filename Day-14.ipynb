{
 "cells": [
  {
   "cell_type": "markdown",
   "id": "83640aea-ad0c-4540-a275-97134834e6c7",
   "metadata": {},
   "source": [
    "## General use exceptions."
   ]
  },
  {
   "cell_type": "code",
   "execution_count": 1,
   "id": "56cc3272-51de-4aff-b7a7-3594eaff2f4d",
   "metadata": {},
   "outputs": [
    {
     "name": "stdout",
     "output_type": "stream",
     "text": [
      "division by zero\n"
     ]
    }
   ],
   "source": [
    "try:\n",
    "    a=10\n",
    "    b=a/0\n",
    "except ZeroDivisionError as e :\n",
    "    print(e)"
   ]
  },
  {
   "cell_type": "code",
   "execution_count": 2,
   "id": "5ef3fc5f-5a25-431d-96e4-c912dd79acde",
   "metadata": {},
   "outputs": [
    {
     "name": "stdout",
     "output_type": "stream",
     "text": [
      "invalid literal for int() with base 10: 'Aditya'\n"
     ]
    }
   ],
   "source": [
    "try:\n",
    "    int(\"Aditya\")\n",
    "except (TypeError, ValueError) as e:\n",
    "    print(e)"
   ]
  },
  {
   "cell_type": "code",
   "execution_count": 3,
   "id": "223377d1-6d30-4058-b687-7613250d8172",
   "metadata": {},
   "outputs": [
    {
     "name": "stdout",
     "output_type": "stream",
     "text": [
      "No module named 'xyz'\n"
     ]
    }
   ],
   "source": [
    "try:\n",
    "    import xyz\n",
    "except ImportError as e:\n",
    "    print(e)"
   ]
  },
  {
   "cell_type": "code",
   "execution_count": 7,
   "id": "9f568c69-59a8-4107-bd82-7edaf1655406",
   "metadata": {},
   "outputs": [
    {
     "name": "stdout",
     "output_type": "stream",
     "text": [
      "'k'\n"
     ]
    }
   ],
   "source": [
    "try:\n",
    "    d={1:[2,3,4],'key':'Aditya'}\n",
    "    d[\"k\"]\n",
    "except KeyError as e:\n",
    "    print(e)"
   ]
  },
  {
   "cell_type": "code",
   "execution_count": 9,
   "id": "20353401-d508-4af6-924c-eb08c6d2493d",
   "metadata": {},
   "outputs": [
    {
     "name": "stdout",
     "output_type": "stream",
     "text": [
      "'str' object has no attribute 'test'\n"
     ]
    }
   ],
   "source": [
    "try:\n",
    "    \"Adi\".test()\n",
    "except AttributeError as e:\n",
    "    print(e)"
   ]
  },
  {
   "cell_type": "code",
   "execution_count": 10,
   "id": "3adb3c92-d52b-49be-8852-6da22b189219",
   "metadata": {},
   "outputs": [
    {
     "name": "stdout",
     "output_type": "stream",
     "text": [
      "list index out of range\n"
     ]
    }
   ],
   "source": [
    "try:\n",
    "    l=[1,2,3,4,5]\n",
    "    l[10]\n",
    "except IndexError as e:\n",
    "    print(e)"
   ]
  },
  {
   "cell_type": "code",
   "execution_count": 12,
   "id": "a215ea68-a4c3-43d0-a1f7-4ee744646ce7",
   "metadata": {},
   "outputs": [
    {
     "name": "stdout",
     "output_type": "stream",
     "text": [
      "unsupported operand type(s) for +: 'int' and 'str'\n"
     ]
    }
   ],
   "source": [
    "try:\n",
    "    123+\"Aditya\"\n",
    "except TypeError as e:\n",
    "    print(e)\n",
    "    "
   ]
  },
  {
   "cell_type": "markdown",
   "id": "2354d8f3-3c30-4404-9f51-0e7487ac9ad9",
   "metadata": {},
   "source": [
    "## Best Practice Exception Handling"
   ]
  },
  {
   "cell_type": "code",
   "execution_count": 14,
   "id": "0d901a90-9aff-42ad-b66b-94022f427e42",
   "metadata": {},
   "outputs": [],
   "source": [
    "# Use always a specific exception"
   ]
  },
  {
   "cell_type": "code",
   "execution_count": 13,
   "id": "5020552a-c72c-436e-b2f0-d1fd57b0c2fc",
   "metadata": {},
   "outputs": [
    {
     "name": "stdout",
     "output_type": "stream",
     "text": [
      "[Errno 2] No such file or directory: 'tup.txt'\n"
     ]
    }
   ],
   "source": [
    "try:\n",
    "    with open('tup.txt','r') as f:\n",
    "        f.read()\n",
    "except FileNotFoundError as e:\n",
    "    print(e)\n",
    "    "
   ]
  },
  {
   "cell_type": "code",
   "execution_count": 15,
   "id": "6c30606e-f454-44be-8edd-89dd9f0af132",
   "metadata": {},
   "outputs": [
    {
     "name": "stdout",
     "output_type": "stream",
     "text": [
      "division by zero\n"
     ]
    }
   ],
   "source": [
    "try:\n",
    "    a=10\n",
    "    10/0\n",
    "except ZeroDivisionError as e:\n",
    "    print(e)"
   ]
  },
  {
   "cell_type": "code",
   "execution_count": 16,
   "id": "fb2d558a-389b-43d2-8e40-5842371a948f",
   "metadata": {},
   "outputs": [],
   "source": [
    "#Print always a valid message"
   ]
  },
  {
   "cell_type": "code",
   "execution_count": 18,
   "id": "9ae02145-cd79-4c4e-8031-4ee5d1aee6e0",
   "metadata": {},
   "outputs": [
    {
     "name": "stdout",
     "output_type": "stream",
     "text": [
      "This is a zero Division error\n"
     ]
    }
   ],
   "source": [
    "try:\n",
    "    a=10\n",
    "    10/0\n",
    "except ZeroDivisionError as e:\n",
    "    print(\"This is a zero Division error\")"
   ]
  },
  {
   "cell_type": "code",
   "execution_count": 19,
   "id": "e31ab5e1-cd2a-4829-85b4-90a83a7a310e",
   "metadata": {},
   "outputs": [],
   "source": [
    "#Always try to log"
   ]
  },
  {
   "cell_type": "code",
   "execution_count": 21,
   "id": "a23db46c-f2cd-4921-aebe-1271c8028bbe",
   "metadata": {},
   "outputs": [],
   "source": [
    "import logging\n",
    "logging.basicConfig(filename='error.log', level=logging.ERROR)\n",
    "\n",
    "try:\n",
    "    a=10\n",
    "    10/0\n",
    "except ZeroDivisionError as e:\n",
    "    logging.error(\"This is a zero Division error\")"
   ]
  },
  {
   "cell_type": "code",
   "execution_count": 22,
   "id": "a7d20b76-8b98-46b2-aa69-0a97088dde49",
   "metadata": {},
   "outputs": [],
   "source": [
    "#Always avoid unnecassary exceptions."
   ]
  },
  {
   "cell_type": "code",
   "execution_count": 23,
   "id": "c33aa0d7-02b2-4071-b0d7-519b4f585f12",
   "metadata": {},
   "outputs": [],
   "source": [
    "#Always prepare proper documentation."
   ]
  },
  {
   "cell_type": "code",
   "execution_count": 25,
   "id": "173c5eca-9fbb-406d-9bd4-9895a333c4b1",
   "metadata": {},
   "outputs": [],
   "source": [
    "#Cleanup all the resources.\n",
    "\n",
    "try:\n",
    "    with open('y.txt','w') as f:\n",
    "        f.write('I am goof? Wbu?')\n",
    "except FileNotFoundError as e:\n",
    "    logging.error(\"File does not exists\")\n",
    "finally:\n",
    "    f.close()"
   ]
  },
  {
   "cell_type": "code",
   "execution_count": null,
   "id": "b87f7e4e-7141-4781-bc40-2e1171b0161e",
   "metadata": {},
   "outputs": [],
   "source": []
  }
 ],
 "metadata": {
  "kernelspec": {
   "display_name": "Python 3 (ipykernel)",
   "language": "python",
   "name": "python3"
  },
  "language_info": {
   "codemirror_mode": {
    "name": "ipython",
    "version": 3
   },
   "file_extension": ".py",
   "mimetype": "text/x-python",
   "name": "python",
   "nbconvert_exporter": "python",
   "pygments_lexer": "ipython3",
   "version": "3.10.8"
  }
 },
 "nbformat": 4,
 "nbformat_minor": 5
}
