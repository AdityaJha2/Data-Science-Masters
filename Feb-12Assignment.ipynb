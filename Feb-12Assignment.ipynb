{
 "cells": [
  {
   "cell_type": "code",
   "execution_count": 3,
   "id": "94cf5545-9eff-401c-bed6-1988dfcb56fd",
   "metadata": {},
   "outputs": [
    {
     "name": "stdout",
     "output_type": "stream",
     "text": [
      "Exception-Exceptions are raised when some internal events occur which changes the normal flow of the program.\n",
      "\n",
      "SyntaxError- This exception is raised when the interpreter encounters a syntax error in the code,\n",
      "such as a misspelled keyword, a missing colon, or an unbalanced parenthesis\n"
     ]
    }
   ],
   "source": [
    "#Q1-What is an Exception in pthon? Write the differene between Exceptions and syntax errors.\n",
    "\n",
    "print('Exception-Exceptions are raised when some internal events occur which changes the normal flow of the program.\\n') \n",
    "print('''SyntaxError- This exception is raised when the interpreter encounters a syntax error in the code,\n",
    "such as a misspelled keyword, a missing colon, or an unbalanced parenthesis''')"
   ]
  },
  {
   "cell_type": "code",
   "execution_count": 9,
   "id": "4279ae51-b536-46d4-a1e2-0f74e3983828",
   "metadata": {},
   "outputs": [
    {
     "name": "stdout",
     "output_type": "stream",
     "text": [
      "When an exception occurred, if you don’t handle it, the program terminates abruptly and\n",
      "the code past the line that caused the exception will not get executed\n",
      "for example-\n",
      "Here we don't have any file with name 'tt.txt' , hence there is an exception and we are not handling it so it will produce an error as shown below-\n"
     ]
    },
    {
     "ename": "FileNotFoundError",
     "evalue": "[Errno 2] No such file or directory: 'tt.txt'",
     "output_type": "error",
     "traceback": [
      "\u001b[0;31m---------------------------------------------------------------------------\u001b[0m",
      "\u001b[0;31mFileNotFoundError\u001b[0m                         Traceback (most recent call last)",
      "Cell \u001b[0;32mIn[9], line 6\u001b[0m\n\u001b[1;32m      3\u001b[0m \u001b[38;5;28mprint\u001b[39m(\u001b[38;5;124m'''\u001b[39m\u001b[38;5;124mWhen an exception occurred, if you don’t handle it, the program terminates abruptly and\u001b[39m\n\u001b[1;32m      4\u001b[0m \u001b[38;5;124mthe code past the line that caused the exception will not get executed\u001b[39m\u001b[38;5;130;01m\\n\u001b[39;00m\u001b[38;5;124mfor example-\u001b[39m\u001b[38;5;124m'''\u001b[39m)\n\u001b[1;32m      5\u001b[0m \u001b[38;5;28;01mtry\u001b[39;00m:\n\u001b[0;32m----> 6\u001b[0m     f\u001b[38;5;241m=\u001b[39m\u001b[38;5;28;43mopen\u001b[39;49m\u001b[43m(\u001b[49m\u001b[38;5;124;43m'\u001b[39;49m\u001b[38;5;124;43mtt.txt\u001b[39;49m\u001b[38;5;124;43m'\u001b[39;49m\u001b[43m,\u001b[49m\u001b[38;5;124;43m'\u001b[39;49m\u001b[38;5;124;43mr\u001b[39;49m\u001b[38;5;124;43m'\u001b[39;49m\u001b[43m)\u001b[49m\n\u001b[1;32m      7\u001b[0m     f\u001b[38;5;241m.\u001b[39mread()\n\u001b[1;32m      8\u001b[0m \u001b[38;5;28;01mfinally\u001b[39;00m:\n",
      "File \u001b[0;32m/opt/conda/lib/python3.10/site-packages/IPython/core/interactiveshell.py:282\u001b[0m, in \u001b[0;36m_modified_open\u001b[0;34m(file, *args, **kwargs)\u001b[0m\n\u001b[1;32m    275\u001b[0m \u001b[38;5;28;01mif\u001b[39;00m file \u001b[38;5;129;01min\u001b[39;00m {\u001b[38;5;241m0\u001b[39m, \u001b[38;5;241m1\u001b[39m, \u001b[38;5;241m2\u001b[39m}:\n\u001b[1;32m    276\u001b[0m     \u001b[38;5;28;01mraise\u001b[39;00m \u001b[38;5;167;01mValueError\u001b[39;00m(\n\u001b[1;32m    277\u001b[0m         \u001b[38;5;124mf\u001b[39m\u001b[38;5;124m\"\u001b[39m\u001b[38;5;124mIPython won\u001b[39m\u001b[38;5;124m'\u001b[39m\u001b[38;5;124mt let you open fd=\u001b[39m\u001b[38;5;132;01m{\u001b[39;00mfile\u001b[38;5;132;01m}\u001b[39;00m\u001b[38;5;124m by default \u001b[39m\u001b[38;5;124m\"\u001b[39m\n\u001b[1;32m    278\u001b[0m         \u001b[38;5;124m\"\u001b[39m\u001b[38;5;124mas it is likely to crash IPython. If you know what you are doing, \u001b[39m\u001b[38;5;124m\"\u001b[39m\n\u001b[1;32m    279\u001b[0m         \u001b[38;5;124m\"\u001b[39m\u001b[38;5;124myou can use builtins\u001b[39m\u001b[38;5;124m'\u001b[39m\u001b[38;5;124m open.\u001b[39m\u001b[38;5;124m\"\u001b[39m\n\u001b[1;32m    280\u001b[0m     )\n\u001b[0;32m--> 282\u001b[0m \u001b[38;5;28;01mreturn\u001b[39;00m \u001b[43mio_open\u001b[49m\u001b[43m(\u001b[49m\u001b[43mfile\u001b[49m\u001b[43m,\u001b[49m\u001b[43m \u001b[49m\u001b[38;5;241;43m*\u001b[39;49m\u001b[43margs\u001b[49m\u001b[43m,\u001b[49m\u001b[43m \u001b[49m\u001b[38;5;241;43m*\u001b[39;49m\u001b[38;5;241;43m*\u001b[39;49m\u001b[43mkwargs\u001b[49m\u001b[43m)\u001b[49m\n",
      "\u001b[0;31mFileNotFoundError\u001b[0m: [Errno 2] No such file or directory: 'tt.txt'"
     ]
    }
   ],
   "source": [
    "#Q2-What happens when an exception is not handled? Explain with example.\n",
    "\n",
    "print('''When an exception occurred, if you don’t handle it, the program terminates abruptly and\n",
    "the code past the line that caused the exception will not get executed\\nfor example-''')\n",
    "try:\n",
    "    f=open('tt.txt','r')\n",
    "    f.read()\n",
    "finally:\n",
    "    print(\"Here we don't have any file with name 'tt.txt' , hence there is an exception and we are not handling it so it will produce an error as shown below-\")"
   ]
  },
  {
   "cell_type": "code",
   "execution_count": 11,
   "id": "9cc89351-5031-4174-a63f-b3fbf74e736e",
   "metadata": {},
   "outputs": [
    {
     "name": "stdout",
     "output_type": "stream",
     "text": [
      "try and except statements are used to catch and handle python statements.\n",
      "for example-\n",
      "Re-check your code. [Errno 2] No such file or directory: 'Try.txt'\n"
     ]
    }
   ],
   "source": [
    "#Q3-Which Python statements are used to ,catch and handle exceptions? Explain with an example.\n",
    "\n",
    "print('try and except statements are used to catch and handle python statements.\\nfor example-')\n",
    "try:\n",
    "    f=open('Try.txt','r')\n",
    "    f.read()\n",
    "except Exception as e:\n",
    "    print(\"Re-check your code.\",e)"
   ]
  },
  {
   "cell_type": "code",
   "execution_count": 14,
   "id": "cb7b011b-cdfc-4e34-9d30-03d3e0e8d7e3",
   "metadata": {},
   "outputs": [
    {
     "name": "stdout",
     "output_type": "stream",
     "text": [
      "Try statement is executed without any exception\n"
     ]
    }
   ],
   "source": [
    "#Q4-Explain with an example-\n",
    "\n",
    "#1.try and else\n",
    "try:\n",
    "    f=open('try.txt','r')\n",
    "    f.read()\n",
    "except Exception as e:\n",
    "    print('Sorry! Re-check the code.')\n",
    "else:\n",
    "    f.close()\n",
    "    print('Try statement is executed without any exception')\n"
   ]
  },
  {
   "cell_type": "code",
   "execution_count": 16,
   "id": "b4d212f7-f17f-4070-9431-1f912dfb6cc3",
   "metadata": {},
   "outputs": [
    {
     "name": "stdout",
     "output_type": "stream",
     "text": [
      "finally-It will be executed always regardless of whether an exception was raised or not.\n",
      "All is well.\n"
     ]
    }
   ],
   "source": [
    "#2-finally\n",
    "print('finally-It will be executed always regardless of whether an exception was raised or not.')\n",
    "try:\n",
    "    f=open('try.txt','r')\n",
    "    f.read()\n",
    "finally:\n",
    "    print('All is well.')"
   ]
  },
  {
   "cell_type": "code",
   "execution_count": 22,
   "id": "89d1faac-2275-45a8-8754-af6b45c78fcf",
   "metadata": {},
   "outputs": [
    {
     "name": "stdout",
     "output_type": "stream",
     "text": [
      "raise: raise Keyword is used to raise exceptions or errors.\n",
      "The raise keyword raises an error and stops the control flow of the program.\n",
      "for example-\n"
     ]
    },
    {
     "name": "stdin",
     "output_type": "stream",
     "text": [
      "Please enter your age- 20\n"
     ]
    },
    {
     "name": "stdout",
     "output_type": "stream",
     "text": [
      "Your Age 20 years is a valid age\n"
     ]
    }
   ],
   "source": [
    "#3-raise\n",
    "\n",
    "print('''raise: raise Keyword is used to raise exceptions or errors.\n",
    "The raise keyword raises an error and stops the control flow of the program.\\nfor example-''')\n",
    "\n",
    "class validateage(Exception): #Inheriting Exception class\n",
    "    def __init__(self, msg):\n",
    "        self.msg=msg\n",
    "        \n",
    "def validate_age(age):\n",
    "    if(age)<0:\n",
    "        raise validateage('Age should be greater tha zero')\n",
    "    elif(age)>200:\n",
    "        raise validateage('Age is too large')\n",
    "    else:\n",
    "        print('Your Age',age,'years is a valid age')\n",
    "\n",
    "try:\n",
    "    age=int(input(\"Please enter your age-\"))\n",
    "    validate_age(age)\n",
    "except validateage as e:\n",
    "    print(e)"
   ]
  },
  {
   "cell_type": "code",
   "execution_count": 29,
   "id": "96cdbcf3-7a6a-4506-a51b-eec5185f9a02",
   "metadata": {},
   "outputs": [
    {
     "name": "stdout",
     "output_type": "stream",
     "text": [
      "Custom Exception-A user-defined exception is known as custom exception.\n",
      "We need custom exception because -\n",
      "1.It gives us a declarative inventory of all the expected errors our program may produce.\n",
      "2.It can make maintenance a lot easier\n",
      "3.It allows us to catch specific exceptions selectively.\n",
      "for example-\n",
      "A custom exception for zerodivision-  \n"
     ]
    },
    {
     "name": "stdin",
     "output_type": "stream",
     "text": [
      "Enter a number:  0\n"
     ]
    },
    {
     "name": "stdout",
     "output_type": "stream",
     "text": [
      "Number should not be zero\n"
     ]
    }
   ],
   "source": [
    "#Q5-What are Custom Exceptions in Python? Why do we need cutom exceptions?Explain with an example.\n",
    "\n",
    "print('''Custom Exception-A user-defined exception is known as custom exception.\n",
    "We need custom exception because -\n",
    "1.It gives us a declarative inventory of all the expected errors our program may produce.\n",
    "2.It can make maintenance a lot easier\n",
    "3.It allows us to catch specific exceptions selectively.\\nfor example-\n",
    "A custom exception for zerodivision-  ''')\n",
    "\n",
    "class zerodivision(Exception):\n",
    "    def __int__(self,msg):\n",
    "        self.msg=msg\n",
    "        \n",
    "def zero_div(num):\n",
    "    if(num==0):\n",
    "        raise zerodivision(\"Number should not be zero\")\n",
    "    else:\n",
    "        print(\"You entered a valid number.\")\n",
    "\n",
    "try:\n",
    "    num = int(input(\"Enter a number: \"))\n",
    "    zero_div(num)\n",
    "except zerodivision as e:\n",
    "    print(e)\n",
    "   "
   ]
  },
  {
   "cell_type": "code",
   "execution_count": 30,
   "id": "4c802706-3116-47c2-b0a1-6d67c9e95bac",
   "metadata": {},
   "outputs": [
    {
     "name": "stdin",
     "output_type": "stream",
     "text": [
      "Enter you age 25\n"
     ]
    },
    {
     "name": "stdout",
     "output_type": "stream",
     "text": [
      "Congratulations! You are eligible for voting\n"
     ]
    }
   ],
   "source": [
    "#Q6-Create a custom exception class.Use this class to handle an exception.\n",
    "\n",
    "class voteAge(Exception):\n",
    "    def __init__(self,msg):\n",
    "        self.msg=msg\n",
    "        \n",
    "def vote_Age(age):\n",
    "    if(age<18):\n",
    "        raise voteAge(\"You are not eligible for voting\")\n",
    "    elif(age>150):\n",
    "         raise voteAge(\"You are not alive probably!\")\n",
    "    else:\n",
    "        print(\"Congratulations! You are eligible for voting\")\n",
    "        \n",
    "try:\n",
    "    age=int(input(\"Enter you age\"))\n",
    "    vote_Age(age)\n",
    "except voteAge as e:\n",
    "    print(e)"
   ]
  },
  {
   "cell_type": "code",
   "execution_count": null,
   "id": "55c71abd-1856-4aa2-93e5-28fdc7ebe049",
   "metadata": {},
   "outputs": [],
   "source": []
  }
 ],
 "metadata": {
  "kernelspec": {
   "display_name": "Python 3 (ipykernel)",
   "language": "python",
   "name": "python3"
  },
  "language_info": {
   "codemirror_mode": {
    "name": "ipython",
    "version": 3
   },
   "file_extension": ".py",
   "mimetype": "text/x-python",
   "name": "python",
   "nbconvert_exporter": "python",
   "pygments_lexer": "ipython3",
   "version": "3.10.8"
  }
 },
 "nbformat": 4,
 "nbformat_minor": 5
}
