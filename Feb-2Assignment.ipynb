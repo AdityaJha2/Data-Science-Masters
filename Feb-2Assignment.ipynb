{
 "cells": [
  {
   "cell_type": "code",
   "execution_count": 12,
   "id": "8300ce06-d450-4d5d-9623-c21d1a8875b9",
   "metadata": {},
   "outputs": [
    {
     "name": "stdout",
     "output_type": "stream",
     "text": [
      " Tuple is a collection of items and they are immutable.\n",
      " They are enclosed within parenthesis.\n",
      " Elements of the tuple must have a defined order.\n",
      " Negative indices are counted from the end of the tuple, just like lists.\n",
      " Tuple also has the same structure where commas separate the values.\n",
      " \n",
      " Tuples are basically follows immutability concepts where it is not going to allow \n",
      " to change any element at a particular index.\n",
      " Hence tuples are  immutable\n"
     ]
    }
   ],
   "source": [
    "##Question 1\n",
    "\n",
    "print(''' Tuple is a collection of items and they are immutable.\n",
    " They are enclosed within parenthesis.\n",
    " Elements of the tuple must have a defined order.\n",
    " Negative indices are counted from the end of the tuple, just like lists.\n",
    " Tuple also has the same structure where commas separate the values.\n",
    " \n",
    " Tuples are basically follows immutability concepts where it is not going to allow \n",
    " to change any element at a particular index.\n",
    " Hence tuples are  immutable''')"
   ]
  },
  {
   "cell_type": "code",
   "execution_count": 17,
   "id": "1b696c0c-24ec-4a20-ac77-6f06032ad0fe",
   "metadata": {},
   "outputs": [
    {
     "name": "stdout",
     "output_type": "stream",
     "text": [
      "Two methods of tuples are-\n",
      " 1.count()\n",
      " 2.index()\n",
      " \n",
      " Example-\n",
      " Count Method-  1\n",
      " Index Method-  2 \n",
      "\n",
      " Tuples have only 2 built-in functions as compared to lists as tuples are immutable\n",
      " whereas lists are mutable and hence tuples have less built-in function as compared to list.\n"
     ]
    }
   ],
   "source": [
    "#Question2\n",
    "\n",
    "print('''Two methods of tuples are-\n",
    " 1.count()\n",
    " 2.index()\n",
    " \n",
    " Example-''')\n",
    "\n",
    "tup=(\"Aman\",2,[4,5,6],True)\n",
    "print(\" Count Method- \",tup.count(2))\n",
    "\n",
    "print(\" Index Method- \",tup.index([4,5,6]),\"\\n\")\n",
    "\n",
    "print(''' Tuples have only 2 built-in functions as compared to lists as tuples are immutable\n",
    " whereas lists are mutable and hence tuples have less built-in function as compared to list.''')"
   ]
  },
  {
   "cell_type": "code",
   "execution_count": 19,
   "id": "5fb2b33a-8f61-41b1-ae96-34b19ca6e367",
   "metadata": {},
   "outputs": [
    {
     "name": "stdout",
     "output_type": "stream",
     "text": [
      "Sets in python does not allow duplicates items.\n",
      "List after removing duplicates- {1, 2, 3, 4}\n"
     ]
    }
   ],
   "source": [
    "#Question3\n",
    "\n",
    "print('Sets in python does not allow duplicates items.')\n",
    "List = [1, 1, 1, 2, 1, 3, 1, 4, 2, 1, 2, 2, 2, 3, 2, 4, 3, 1, 3, 2, 3, 3, 3, 4, 4, 1, 4, 2, 4, 3, 4, 4]\n",
    "print(\"List after removing duplicates-\", set(List))"
   ]
  },
  {
   "cell_type": "code",
   "execution_count": 19,
   "id": "6078fd0e-3277-4b0e-8a77-38c63b83844b",
   "metadata": {},
   "outputs": [
    {
     "name": "stdout",
     "output_type": "stream",
     "text": [
      " union()- The union () method returns a set that contains all items from the original set,\n",
      " and all items from the specified set (s).\n",
      " \n",
      " update()- update function in set adds elements from a set (passed as an argument) to the set.\n",
      "\n",
      " Example-\n",
      "\n",
      " Union of set1 and set2 is-  {1, 2, 3, 4, 5, 6, 7, 8}\n",
      " Union of set1 and set2 is-  {1, 2, 3, 4, 5, 6, 7, 8}\n"
     ]
    }
   ],
   "source": [
    "#Question4\n",
    "\n",
    "print(''' union()- The union () method returns a set that contains all items from the original set,\n",
    " and all items from the specified set (s).\n",
    " \n",
    " update()- update function in set adds elements from a set (passed as an argument) to the set.''')\n",
    "\n",
    "print('\\n Example-\\n')\n",
    "\n",
    "set1={1,2,3,4}\n",
    "set2={5,6,7,8}\n",
    "\n",
    "print(\" Union of set1 and set2 is- \",set1.union(set2)) \n",
    "set1.update(set2)\n",
    "print(\" Union of set1 and set2 is- \",set1)"
   ]
  },
  {
   "cell_type": "code",
   "execution_count": 23,
   "id": "8b921e48-6935-4f10-9142-f2841e325014",
   "metadata": {},
   "outputs": [
    {
     "name": "stdout",
     "output_type": "stream",
     "text": [
      " Dictionaries are used to store data values in key:value pairs where key should be unique.\n",
      " Example-\n",
      "{'Name': 'Aditya', 'Course': 'Data Science Masters', 'Age': 20}\n",
      " Dictionary is ordered, mutable and do not allow duplicates\n"
     ]
    }
   ],
   "source": [
    "#Question5\n",
    "print(''' Dictionaries are used to store data values in key:value pairs where key should be unique.\n",
    " Example-''')\n",
    "\n",
    "dict={'Name':'Aditya', 'Course':'Data Science Masters', 'Age':20}\n",
    "print( dict)\n",
    "\n",
    "print(' Dictionary is ordered, mutable and do not allow duplicates')\n",
    " \n"
   ]
  },
  {
   "cell_type": "code",
   "execution_count": 28,
   "id": "5439844b-22fd-4bd2-80d0-7e0c3d9a9b38",
   "metadata": {},
   "outputs": [
    {
     "name": "stdout",
     "output_type": "stream",
     "text": [
      "Yes , we can create a nested dictionary\n",
      "Example-\n",
      "{'Name': 'Rohan', 'City': {'name': ['Delhi', 'Agra', 'Patna']}, 'Age': 20}\n",
      "Nested Dictionary is- {'name': ['Delhi', 'Agra', 'Patna']}\n"
     ]
    }
   ],
   "source": [
    "#Question6\n",
    "\n",
    "print('Yes , we can create a nested dictionary\\nExample-')\n",
    "dict1={'Name':'Rohan', 'City':{'name':['Delhi','Agra','Patna']}, 'Age':20}\n",
    "print(dict1)\n",
    "print('Nested Dictionary is-',dict1['City'])"
   ]
  },
  {
   "cell_type": "code",
   "execution_count": 34,
   "id": "67eaf206-3498-44c6-b31f-37b5f260b3b1",
   "metadata": {},
   "outputs": [
    {
     "data": {
      "text/plain": [
       "{'language': 'Python',\n",
       " 'course': 'Data Science Masters',\n",
       " 'topics': ['Python', 'Machine Learning', 'Deep Learning']}"
      ]
     },
     "execution_count": 34,
     "metadata": {},
     "output_type": "execute_result"
    }
   ],
   "source": [
    "#Question7\n",
    "\n",
    "dict2 = {'language' : 'Python', 'course': 'Data Science Masters'}\n",
    "dict2.setdefault('topics',['Python','Machine Learning','Deep Learning'])\n",
    "dict2"
   ]
  },
  {
   "cell_type": "code",
   "execution_count": 30,
   "id": "73f1bcbc-76a8-48a6-9542-89c3e64abeac",
   "metadata": {},
   "outputs": [
    {
     "name": "stdout",
     "output_type": "stream",
     "text": [
      "Three view objects in dictionaries are-\n",
      " 1.Keys()\n",
      " 2.Values()\n",
      " 3.items()\n",
      " \n",
      "Using keys()- ['Sport', 'Teams']\n",
      "Using values()- ['Cricket', ['India', 'Australia', 'England', 'South Africa', 'Sri Lanka', 'New Zealand']]\n",
      "Using items()- [('Sport', 'Cricket'), ('Teams', ['India', 'Australia', 'England', 'South Africa', 'Sri Lanka', 'New Zealand'])]\n"
     ]
    }
   ],
   "source": [
    "#Question8\n",
    "\n",
    "print('''Three view objects in dictionaries are-\n",
    " 1.Keys()\n",
    " 2.Values()\n",
    " 3.items()\n",
    " ''')\n",
    "dict1 = {'Sport': 'Cricket' , 'Teams': ['India', 'Australia', 'England', 'South Africa', 'Sri Lanka', 'New Zealand']}\n",
    "print('Using keys()-', list(dict1.keys()))\n",
    "print('Using values()-', list(dict1.values()))\n",
    "print('Using items()-', list(dict1.items()))"
   ]
  },
  {
   "cell_type": "code",
   "execution_count": null,
   "id": "c06009f9-eee4-47d7-a14b-09b6abd910d8",
   "metadata": {},
   "outputs": [],
   "source": []
  }
 ],
 "metadata": {
  "kernelspec": {
   "display_name": "Python 3 (ipykernel)",
   "language": "python",
   "name": "python3"
  },
  "language_info": {
   "codemirror_mode": {
    "name": "ipython",
    "version": 3
   },
   "file_extension": ".py",
   "mimetype": "text/x-python",
   "name": "python",
   "nbconvert_exporter": "python",
   "pygments_lexer": "ipython3",
   "version": "3.10.8"
  }
 },
 "nbformat": 4,
 "nbformat_minor": 5
}
