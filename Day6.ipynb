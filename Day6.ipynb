{
 "cells": [
  {
   "cell_type": "markdown",
   "id": "05a16ef7-9ba4-471e-9a2a-c280c4d329c2",
   "metadata": {},
   "source": [
    "## Functions"
   ]
  },
  {
   "cell_type": "code",
   "execution_count": 3,
   "id": "ccb285c3-ca59-47eb-aaf5-3c7500668aa2",
   "metadata": {},
   "outputs": [
    {
     "name": "stdout",
     "output_type": "stream",
     "text": [
      "Sum of first 5 numbers are- 15\n"
     ]
    }
   ],
   "source": [
    "def Sum():\n",
    "    s=0\n",
    "    for i in range(0,6):\n",
    "        s+=i\n",
    "    return s\n",
    "print(\"Sum of first 5 numbers are-\", Sum())"
   ]
  },
  {
   "cell_type": "code",
   "execution_count": 4,
   "id": "1a127a21-7b9a-4ffd-ac8a-547fa48decbe",
   "metadata": {},
   "outputs": [],
   "source": [
    "def test():\n",
    "    return \"This is a test function\""
   ]
  },
  {
   "cell_type": "code",
   "execution_count": 5,
   "id": "07128280-97b5-4b89-a35e-3e843b0b9848",
   "metadata": {},
   "outputs": [
    {
     "data": {
      "text/plain": [
       "'This is a test function'"
      ]
     },
     "execution_count": 5,
     "metadata": {},
     "output_type": "execute_result"
    }
   ],
   "source": [
    "test()"
   ]
  },
  {
   "cell_type": "code",
   "execution_count": 7,
   "id": "0ac39743-70a1-44c1-84ca-2d5dffcf6ed4",
   "metadata": {},
   "outputs": [
    {
     "data": {
      "text/plain": [
       "'This is a test function to explain you'"
      ]
     },
     "execution_count": 7,
     "metadata": {},
     "output_type": "execute_result"
    }
   ],
   "source": [
    "test()+\" to explain you\""
   ]
  },
  {
   "cell_type": "code",
   "execution_count": 8,
   "id": "d9d4f322-3173-4dbd-87d7-c1fb30efcc74",
   "metadata": {},
   "outputs": [],
   "source": [
    "def test2():\n",
    "    return 1,4,\"Adi\""
   ]
  },
  {
   "cell_type": "code",
   "execution_count": 10,
   "id": "752faf31-c457-46f0-bf01-453f86ffba7b",
   "metadata": {},
   "outputs": [
    {
     "data": {
      "text/plain": [
       "(1, 4, 'Adi')"
      ]
     },
     "execution_count": 10,
     "metadata": {},
     "output_type": "execute_result"
    }
   ],
   "source": [
    "test2()"
   ]
  },
  {
   "cell_type": "code",
   "execution_count": 11,
   "id": "414d5639-339d-447a-8dad-7d1a78adc4af",
   "metadata": {},
   "outputs": [],
   "source": [
    "a,b,c=1,\"Aditya\",20"
   ]
  },
  {
   "cell_type": "code",
   "execution_count": 12,
   "id": "33c59b22-0897-45f9-95d5-f80c4de72344",
   "metadata": {},
   "outputs": [
    {
     "data": {
      "text/plain": [
       "1"
      ]
     },
     "execution_count": 12,
     "metadata": {},
     "output_type": "execute_result"
    }
   ],
   "source": [
    "a"
   ]
  },
  {
   "cell_type": "code",
   "execution_count": 13,
   "id": "f5b8b75a-33cd-478d-9219-68be2bb9a0d5",
   "metadata": {},
   "outputs": [
    {
     "data": {
      "text/plain": [
       "'Aditya'"
      ]
     },
     "execution_count": 13,
     "metadata": {},
     "output_type": "execute_result"
    }
   ],
   "source": [
    "b"
   ]
  },
  {
   "cell_type": "code",
   "execution_count": 14,
   "id": "10886f38-dae0-4924-8845-80586dd35fc5",
   "metadata": {},
   "outputs": [
    {
     "data": {
      "text/plain": [
       "20"
      ]
     },
     "execution_count": 14,
     "metadata": {},
     "output_type": "execute_result"
    }
   ],
   "source": [
    "c"
   ]
  },
  {
   "cell_type": "code",
   "execution_count": 15,
   "id": "9395030b-d2cd-4930-bc00-72c4bd27deb2",
   "metadata": {},
   "outputs": [
    {
     "data": {
      "text/plain": [
       "1"
      ]
     },
     "execution_count": 15,
     "metadata": {},
     "output_type": "execute_result"
    }
   ],
   "source": [
    "test2()[0]"
   ]
  },
  {
   "cell_type": "code",
   "execution_count": 16,
   "id": "fcc3b86a-2700-48b9-b76f-b794e66bf9cf",
   "metadata": {},
   "outputs": [
    {
     "data": {
      "text/plain": [
       "'Adi'"
      ]
     },
     "execution_count": 16,
     "metadata": {},
     "output_type": "execute_result"
    }
   ],
   "source": [
    "test2()[2]"
   ]
  },
  {
   "cell_type": "code",
   "execution_count": 17,
   "id": "ebdb814a-225f-4e88-aef1-6ce4a5bbce56",
   "metadata": {},
   "outputs": [],
   "source": [
    "def t():\n",
    "    a=3*4+5\n",
    "    return a"
   ]
  },
  {
   "cell_type": "code",
   "execution_count": 18,
   "id": "a34e1b17-0f63-4241-8d6a-ccfbd4d908c9",
   "metadata": {},
   "outputs": [
    {
     "data": {
      "text/plain": [
       "17"
      ]
     },
     "execution_count": 18,
     "metadata": {},
     "output_type": "execute_result"
    }
   ],
   "source": [
    "t()"
   ]
  },
  {
   "cell_type": "code",
   "execution_count": 21,
   "id": "062e2420-d82e-4319-800e-f7a8506b455d",
   "metadata": {},
   "outputs": [
    {
     "data": {
      "text/plain": [
       "10"
      ]
     },
     "execution_count": 21,
     "metadata": {},
     "output_type": "execute_result"
    }
   ],
   "source": [
    "def new(a,b):\n",
    "    c=a*b\n",
    "    return c\n",
    "new(2,5)"
   ]
  },
  {
   "cell_type": "code",
   "execution_count": 22,
   "id": "7b884aef-389a-42d4-a957-5f1656dbd69c",
   "metadata": {},
   "outputs": [
    {
     "data": {
      "text/plain": [
       "'JoyJoy'"
      ]
     },
     "execution_count": 22,
     "metadata": {},
     "output_type": "execute_result"
    }
   ],
   "source": [
    "new(\"Joy\",2)"
   ]
  },
  {
   "cell_type": "code",
   "execution_count": 23,
   "id": "e433bfa4-aa59-4bcf-b358-18a10e1dd9d7",
   "metadata": {},
   "outputs": [],
   "source": [
    "def n(a,b):\n",
    "    c=a+b\n",
    "    return c"
   ]
  },
  {
   "cell_type": "code",
   "execution_count": 24,
   "id": "85dfe0c2-71f7-473b-aa7f-62e9c5e41a66",
   "metadata": {},
   "outputs": [
    {
     "data": {
      "text/plain": [
       "[1, 2, 3, 4, 5, 6]"
      ]
     },
     "execution_count": 24,
     "metadata": {},
     "output_type": "execute_result"
    }
   ],
   "source": [
    "n([1,2,3],[4,5,6])"
   ]
  },
  {
   "cell_type": "code",
   "execution_count": 26,
   "id": "0da48eae-66ba-450a-9eb2-4544968b40b7",
   "metadata": {},
   "outputs": [
    {
     "data": {
      "text/plain": [
       "'Kumar Sanu'"
      ]
     },
     "execution_count": 26,
     "metadata": {},
     "output_type": "execute_result"
    }
   ],
   "source": [
    "n(b=\" Sanu\", a=\"Kumar\")"
   ]
  },
  {
   "cell_type": "code",
   "execution_count": 44,
   "id": "d91f0e6f-eaf0-4a5e-b2f4-1ef710403778",
   "metadata": {},
   "outputs": [
    {
     "data": {
      "text/plain": [
       "[1, 2, 3, 4, 5, 6, 7, 8]"
      ]
     },
     "execution_count": 44,
     "metadata": {},
     "output_type": "execute_result"
    }
   ],
   "source": [
    "\n",
    "def anumeric(l):\n",
    "    n=[]\n",
    "    for i in l:\n",
    "        if(type(i)==int or type(i)==float):\n",
    "            n.append(i)\n",
    "        elif(type(i)==list):\n",
    "            for j in i:\n",
    "                 if(type(j)==int or type(j)==float):\n",
    "                        n.append(j)\n",
    "                \n",
    "            \n",
    "    return n\n",
    "        \n",
    "l=[1,2,3,4, \"Aditya\", [5,6,7,8,\"Data\"]]\n",
    "anumeric(l)\n"
   ]
  },
  {
   "cell_type": "code",
   "execution_count": 45,
   "id": "044f8802-74f5-4c4d-a7d7-d020cf57254d",
   "metadata": {},
   "outputs": [],
   "source": [
    "def tr(*args):\n",
    "    return args"
   ]
  },
  {
   "cell_type": "code",
   "execution_count": 47,
   "id": "24801fa9-38f1-4159-b3fe-f235396b6a85",
   "metadata": {},
   "outputs": [
    {
     "data": {
      "text/plain": [
       "(1, 'aman', 5, 6, [1, 5, 7, 8])"
      ]
     },
     "execution_count": 47,
     "metadata": {},
     "output_type": "execute_result"
    }
   ],
   "source": [
    "tr(1,\"aman\",5,6,[1,5,7,8])"
   ]
  },
  {
   "cell_type": "code",
   "execution_count": 49,
   "id": "89505f56-0118-4083-a481-c169bc171280",
   "metadata": {},
   "outputs": [],
   "source": [
    "def main(*args, b):\n",
    "    return args,b"
   ]
  },
  {
   "cell_type": "code",
   "execution_count": 64,
   "id": "8d1a7fa0-8880-4d54-8e2d-36cfca39f7c2",
   "metadata": {},
   "outputs": [
    {
     "data": {
      "text/plain": [
       "((95, 98, 99, 96), 'Aditya')"
      ]
     },
     "execution_count": 64,
     "metadata": {},
     "output_type": "execute_result"
    }
   ],
   "source": [
    "main(95,98,99,96, b=\"Aditya\")"
   ]
  },
  {
   "cell_type": "code",
   "execution_count": 65,
   "id": "2e1e4970-e9be-418c-9221-9efe456572ec",
   "metadata": {},
   "outputs": [],
   "source": [
    "def check(*args):\n",
    "    l=[]\n",
    "    for i in args:\n",
    "        if(type(i) == list):\n",
    "            l.append(i)\n",
    "    return l\n",
    "    \n",
    "                \n",
    "           \n"
   ]
  },
  {
   "cell_type": "code",
   "execution_count": 66,
   "id": "c570d014-2eff-4af2-a9ad-08776fff877e",
   "metadata": {},
   "outputs": [
    {
     "data": {
      "text/plain": [
       "[[1, 5, 7]]"
      ]
     },
     "execution_count": 66,
     "metadata": {},
     "output_type": "execute_result"
    }
   ],
   "source": [
    "check([1,5,7],\"Aman\",4,5,6)"
   ]
  },
  {
   "cell_type": "code",
   "execution_count": 68,
   "id": "fbc36c44-fbee-4314-9f79-c9028afdf607",
   "metadata": {},
   "outputs": [],
   "source": [
    "## key:value pairs as a argument\n",
    "\n",
    "def dc(**dict):\n",
    "    return dict"
   ]
  },
  {
   "cell_type": "code",
   "execution_count": 69,
   "id": "38690979-71a5-4c51-b529-6401f76bd6ae",
   "metadata": {},
   "outputs": [
    {
     "data": {
      "text/plain": [
       "{'a': 34, 'b': 45, 'c': 78, 'd': [1, 2, 3]}"
      ]
     },
     "execution_count": 69,
     "metadata": {},
     "output_type": "execute_result"
    }
   ],
   "source": [
    "dc(a=34, b=45, c=78, d=[1,2,3])"
   ]
  },
  {
   "cell_type": "code",
   "execution_count": 70,
   "id": "6fdad09b-3e78-4539-a0a4-4843fc8cda98",
   "metadata": {},
   "outputs": [],
   "source": [
    "def ext(**dict):\n",
    "    for i in dict.keys():\n",
    "        if(type(dict[i])==list):\n",
    "            return(i,dict[i])"
   ]
  },
  {
   "cell_type": "code",
   "execution_count": 72,
   "id": "b52975b9-0c0a-467c-935e-8af85629fbe8",
   "metadata": {},
   "outputs": [
    {
     "data": {
      "text/plain": [
       "('d', [1, 2, 3])"
      ]
     },
     "execution_count": 72,
     "metadata": {},
     "output_type": "execute_result"
    }
   ],
   "source": [
    "ext(a=34, b=45, c=78, d=[1,2,3])"
   ]
  },
  {
   "cell_type": "markdown",
   "id": "57c1e1dd-c390-42b9-8288-a35250ff1a13",
   "metadata": {},
   "source": [
    "## Generator Function"
   ]
  },
  {
   "cell_type": "code",
   "execution_count": 74,
   "id": "a788f6ea-779f-40fb-b3dd-1f046bcf1e4a",
   "metadata": {},
   "outputs": [],
   "source": [
    "## Fibonacci series using generator\n",
    "\n",
    "def Fibo(n):\n",
    "    a,b=0,1\n",
    "    for i in range(n):\n",
    "        yield a\n",
    "        a,b=b,a+b\n",
    "                    "
   ]
  },
  {
   "cell_type": "code",
   "execution_count": 76,
   "id": "9ec3f05c-66e6-4c85-8b07-2328ca70d287",
   "metadata": {},
   "outputs": [
    {
     "name": "stdout",
     "output_type": "stream",
     "text": [
      "0 1 1 2 3 5 8 13 "
     ]
    }
   ],
   "source": [
    "for i in Fibo(8):\n",
    "    print(i,end=\" \")"
   ]
  },
  {
   "cell_type": "code",
   "execution_count": 86,
   "id": "167077ac-5fe8-4adc-b696-e91ddbc27798",
   "metadata": {},
   "outputs": [],
   "source": [
    "## Square of n numbers\n",
    "\n",
    "def sq(n):\n",
    "    for i in range(0,n):\n",
    "        yield i**2"
   ]
  },
  {
   "cell_type": "code",
   "execution_count": 88,
   "id": "189698b6-4567-465a-82ee-c0d6cb7148cd",
   "metadata": {},
   "outputs": [
    {
     "name": "stdout",
     "output_type": "stream",
     "text": [
      "0 1 4 9 16 "
     ]
    }
   ],
   "source": [
    "for i in sq(5):\n",
    "    print(i,end=\" \")"
   ]
  },
  {
   "cell_type": "code",
   "execution_count": null,
   "id": "58c07d98-ad70-4c8b-a286-818ff216b553",
   "metadata": {},
   "outputs": [],
   "source": []
  }
 ],
 "metadata": {
  "kernelspec": {
   "display_name": "Python 3 (ipykernel)",
   "language": "python",
   "name": "python3"
  },
  "language_info": {
   "codemirror_mode": {
    "name": "ipython",
    "version": 3
   },
   "file_extension": ".py",
   "mimetype": "text/x-python",
   "name": "python",
   "nbconvert_exporter": "python",
   "pygments_lexer": "ipython3",
   "version": "3.10.8"
  }
 },
 "nbformat": 4,
 "nbformat_minor": 5
}
