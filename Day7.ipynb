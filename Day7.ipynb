{
 "cells": [
  {
   "cell_type": "markdown",
   "id": "97a50f26-8708-4ad9-a291-ce811d279b82",
   "metadata": {},
   "source": [
    "## Lambda Functions"
   ]
  },
  {
   "cell_type": "code",
   "execution_count": 30,
   "id": "df07481d-8d93-4943-a923-b9e6f87c6222",
   "metadata": {},
   "outputs": [
    {
     "data": {
      "text/plain": [
       "11"
      ]
     },
     "execution_count": 30,
     "metadata": {},
     "output_type": "execute_result"
    }
   ],
   "source": [
    "a=lambda x,y:x+y\n",
    "\n",
    "a(5,6)"
   ]
  },
  {
   "cell_type": "code",
   "execution_count": 34,
   "id": "365743fc-b1a9-4fba-989b-3997e80aa92d",
   "metadata": {},
   "outputs": [
    {
     "data": {
      "text/plain": [
       "93.2"
      ]
     },
     "execution_count": 34,
     "metadata": {},
     "output_type": "execute_result"
    }
   ],
   "source": [
    "## centrigrate to fahrenheit\n",
    "\n",
    "c_to_f=lambda c: (9/5)*c+32\n",
    "c_to_f(34)"
   ]
  },
  {
   "cell_type": "code",
   "execution_count": 31,
   "id": "a7ab3c95-cdb6-4bc5-9f33-5b7b833c30bf",
   "metadata": {},
   "outputs": [
    {
     "data": {
      "text/plain": [
       "16"
      ]
     },
     "execution_count": 31,
     "metadata": {},
     "output_type": "execute_result"
    }
   ],
   "source": [
    "b=lambda x,y:x**y\n",
    "b(2,4)"
   ]
  },
  {
   "cell_type": "code",
   "execution_count": 35,
   "id": "8f67e079-5a54-420b-a4f9-30b85e53ac3f",
   "metadata": {},
   "outputs": [
    {
     "data": {
      "text/plain": [
       "8"
      ]
     },
     "execution_count": 35,
     "metadata": {},
     "output_type": "execute_result"
    }
   ],
   "source": [
    "## max of two numbers\n",
    "\n",
    "max_two=lambda x,y: x if x>y else y\n",
    "max_two(4,8)"
   ]
  },
  {
   "cell_type": "code",
   "execution_count": 37,
   "id": "b8694b2f-6b84-4250-8f7a-28e13ce1d100",
   "metadata": {},
   "outputs": [
    {
     "data": {
      "text/plain": [
       "10"
      ]
     },
     "execution_count": 37,
     "metadata": {},
     "output_type": "execute_result"
    }
   ],
   "source": [
    "## length of a string\n",
    "\n",
    "len_str=lambda s: len(s)\n",
    "\n",
    "Str=\"Aditya Jha\"\n",
    "len_str(Str)"
   ]
  },
  {
   "cell_type": "markdown",
   "id": "f32d7646-9435-48f1-8581-7c6c78a8e833",
   "metadata": {},
   "source": [
    "## Map function"
   ]
  },
  {
   "cell_type": "code",
   "execution_count": 38,
   "id": "fa4ffd19-2aa5-431f-a72b-5b1abdb9c795",
   "metadata": {},
   "outputs": [],
   "source": [
    "##Square a number\n",
    "\n",
    "numbers=[1,2,3,4,5,6,7,8,9,10]\n",
    "x=map(lambda y:y**2,numbers)"
   ]
  },
  {
   "cell_type": "code",
   "execution_count": 39,
   "id": "86cb3cfe-6bf3-4ffd-8eb0-aacc5c069da4",
   "metadata": {},
   "outputs": [
    {
     "name": "stdout",
     "output_type": "stream",
     "text": [
      "[1, 4, 9, 16, 25, 36, 49, 64, 81, 100]\n"
     ]
    }
   ],
   "source": [
    "print(list(x))"
   ]
  },
  {
   "cell_type": "code",
   "execution_count": 47,
   "id": "af463070-e2df-430b-88b0-391c1253efff",
   "metadata": {},
   "outputs": [
    {
     "name": "stdout",
     "output_type": "stream",
     "text": [
      "Cube of given numbers are-\n",
      "[1, 8, 27, 64]\n"
     ]
    }
   ],
   "source": [
    "## cube of a number\n",
    "\n",
    "def cube(x):\n",
    "    return x**3\n",
    "\n",
    "num=[1,2,3,4]\n",
    "y=map(cube,num)\n",
    "print(\"Cube of given numbers are-\")\n",
    "print(list(y))"
   ]
  },
  {
   "cell_type": "code",
   "execution_count": 62,
   "id": "54c07721-a6a1-43cd-b72b-7cb438477b0a",
   "metadata": {},
   "outputs": [
    {
     "data": {
      "text/plain": [
       "[1.0, 2.0, 3.0]"
      ]
     },
     "execution_count": 62,
     "metadata": {},
     "output_type": "execute_result"
    }
   ],
   "source": [
    "## Convert every element into a string\n",
    "num=[1,2,3,4]\n",
    "list(map(lambda y : float(y),l))\n"
   ]
  },
  {
   "cell_type": "code",
   "execution_count": 66,
   "id": "327526a1-3d20-4b11-b423-0eb9678fb027",
   "metadata": {},
   "outputs": [
    {
     "data": {
      "text/plain": [
       "[7, 9, 11, 13, 15]"
      ]
     },
     "execution_count": 66,
     "metadata": {},
     "output_type": "execute_result"
    }
   ],
   "source": [
    "l1=[1,2,3,4,5]\n",
    "l2=[6,7,8,9,10]\n",
    "\n",
    "add=list(map(lambda x,y:x+y, l1,l2))\n",
    "add"
   ]
  },
  {
   "cell_type": "code",
   "execution_count": 82,
   "id": "ead22c70-8a7e-474f-91e6-cab1df2cc84a",
   "metadata": {},
   "outputs": [
    {
     "data": {
      "text/plain": [
       "['P', 'W', 'S', 'K', 'I', 'L', 'L', 'S']"
      ]
     },
     "execution_count": 82,
     "metadata": {},
     "output_type": "execute_result"
    }
   ],
   "source": [
    "s=\"pwskills\"\n",
    "\n",
    "d=list(map(lambda x: x.upper(),s))\n",
    "d"
   ]
  },
  {
   "cell_type": "markdown",
   "id": "3f7e0243-b62f-43f8-a4a6-a5f9cd0275de",
   "metadata": {},
   "source": [
    "## Reduce"
   ]
  },
  {
   "cell_type": "code",
   "execution_count": 85,
   "id": "ee8f5709-4adc-4b27-8f2a-d8424bbc7bd5",
   "metadata": {},
   "outputs": [],
   "source": [
    "from functools import reduce"
   ]
  },
  {
   "cell_type": "code",
   "execution_count": 87,
   "id": "1f3e27b7-c390-4c04-ab87-a4ce9983641c",
   "metadata": {},
   "outputs": [
    {
     "data": {
      "text/plain": [
       "21"
      ]
     },
     "execution_count": 87,
     "metadata": {},
     "output_type": "execute_result"
    }
   ],
   "source": [
    "ad=reduce(lambda x,y:x+y,[1,2,3,4,5,6])\n",
    "ad"
   ]
  },
  {
   "cell_type": "code",
   "execution_count": 88,
   "id": "692e7fc2-3609-4638-9680-6122407ef503",
   "metadata": {},
   "outputs": [],
   "source": [
    "def mul(x,y):\n",
    "    return x*y"
   ]
  },
  {
   "cell_type": "code",
   "execution_count": 98,
   "id": "fbe9a9f3-379e-4b41-b8de-df479e33e858",
   "metadata": {},
   "outputs": [
    {
     "data": {
      "text/plain": [
       "60"
      ]
     },
     "execution_count": 98,
     "metadata": {},
     "output_type": "execute_result"
    }
   ],
   "source": [
    "reduce(mul,[5,6,2])"
   ]
  },
  {
   "cell_type": "code",
   "execution_count": 101,
   "id": "c84de807-2ec4-4a8c-989f-b39f3f5306d0",
   "metadata": {},
   "outputs": [
    {
     "data": {
      "text/plain": [
       "88"
      ]
     },
     "execution_count": 101,
     "metadata": {},
     "output_type": "execute_result"
    }
   ],
   "source": [
    "reduce(lambda x,y: max(x,y), [1,5,6,7,88,9])"
   ]
  },
  {
   "cell_type": "markdown",
   "id": "119b4105-442d-412a-a306-f1c4b0737242",
   "metadata": {},
   "source": [
    "## Filter"
   ]
  },
  {
   "cell_type": "code",
   "execution_count": 103,
   "id": "e870a3ae-e66c-4298-8b40-e026c9f56915",
   "metadata": {},
   "outputs": [],
   "source": [
    "## Filter out the odd no from the given list.\n",
    "\n",
    "lst=[1,5,2,3,6,4,8,9]\n",
    "odd_num=list(filter( lambda x: x%2!=0, lst))"
   ]
  },
  {
   "cell_type": "code",
   "execution_count": 104,
   "id": "523cf76a-4702-426a-bb8d-9c8982a10bc1",
   "metadata": {},
   "outputs": [
    {
     "data": {
      "text/plain": [
       "[1, 5, 3, 9]"
      ]
     },
     "execution_count": 104,
     "metadata": {},
     "output_type": "execute_result"
    }
   ],
   "source": [
    "odd_num"
   ]
  },
  {
   "cell_type": "code",
   "execution_count": 105,
   "id": "70ec6b09-1e54-4dbd-b701-6e67354265d7",
   "metadata": {},
   "outputs": [
    {
     "data": {
      "text/plain": [
       "[2, 6, 4, 8]"
      ]
     },
     "execution_count": 105,
     "metadata": {},
     "output_type": "execute_result"
    }
   ],
   "source": [
    "## Filter out the even no from the given list.\n",
    "lst=[1,5,2,3,6,4,8,9]\n",
    "eve_num=list(filter( lambda x: x%2==0, lst))\n",
    "eve_num"
   ]
  },
  {
   "cell_type": "code",
   "execution_count": 106,
   "id": "86e13cc5-ee51-4af6-94d6-acb0fcd2bdbb",
   "metadata": {},
   "outputs": [],
   "source": [
    "# Filter out positive number\n",
    "l=[-1,-2,5,1,0,-7]\n",
    "pos=list(filter(lambda x: x>0, l))"
   ]
  },
  {
   "cell_type": "code",
   "execution_count": 107,
   "id": "ab44926d-8197-463f-923d-a025424d0eba",
   "metadata": {},
   "outputs": [
    {
     "data": {
      "text/plain": [
       "[5, 1]"
      ]
     },
     "execution_count": 107,
     "metadata": {},
     "output_type": "execute_result"
    }
   ],
   "source": [
    "pos"
   ]
  },
  {
   "cell_type": "code",
   "execution_count": 108,
   "id": "ac7ebef0-35cb-4e5f-bd3a-cb1792e7f996",
   "metadata": {},
   "outputs": [],
   "source": [
    "s=[\"Aditya\",\"Aman\",\"Ayush\",\"Joy\"]\n",
    "out=list(filter(lambda x: len(x)>3 and len(x)<=5, s))"
   ]
  },
  {
   "cell_type": "code",
   "execution_count": 109,
   "id": "b458c34f-a707-4263-9e8e-7f8e086375ef",
   "metadata": {},
   "outputs": [
    {
     "data": {
      "text/plain": [
       "['Aman', 'Ayush']"
      ]
     },
     "execution_count": 109,
     "metadata": {},
     "output_type": "execute_result"
    }
   ],
   "source": [
    "out"
   ]
  },
  {
   "cell_type": "code",
   "execution_count": null,
   "id": "e61985e6-4a8f-448d-a5b1-d15a0f9ae91e",
   "metadata": {},
   "outputs": [],
   "source": []
  }
 ],
 "metadata": {
  "kernelspec": {
   "display_name": "Python 3 (ipykernel)",
   "language": "python",
   "name": "python3"
  },
  "language_info": {
   "codemirror_mode": {
    "name": "ipython",
    "version": 3
   },
   "file_extension": ".py",
   "mimetype": "text/x-python",
   "name": "python",
   "nbconvert_exporter": "python",
   "pygments_lexer": "ipython3",
   "version": "3.10.8"
  }
 },
 "nbformat": 4,
 "nbformat_minor": 5
}
