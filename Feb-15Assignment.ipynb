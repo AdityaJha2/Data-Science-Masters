{
 "cells": [
  {
   "cell_type": "code",
   "execution_count": 5,
   "id": "fb02ad3d-e163-4080-8360-1a823f4d2901",
   "metadata": {},
   "outputs": [
    {
     "name": "stdout",
     "output_type": "stream",
     "text": [
      "Multiprocessing refers to the ability of a system to support more than one processor at the same time.\n",
      "Applications in a multiprocessing system are broken to smaller routines that run independently.\n",
      "\n",
      "The Python Multiprocessing Module is a tool for you to increase your scripts’ efficiency\n",
      "by allocating tasks to different processes.\n"
     ]
    }
   ],
   "source": [
    "#Q1-What is multiprocessing in python? Why is it useful?\n",
    "\n",
    "print('''Multiprocessing refers to the ability of a system to support more than one processor at the same time.\n",
    "Applications in a multiprocessing system are broken to smaller routines that run independently.\\n''') \n",
    "\n",
    "print('''The Python Multiprocessing Module is a tool for you to increase your scripts’ efficiency\n",
    "by allocating tasks to different processes.''')"
   ]
  },
  {
   "cell_type": "code",
   "execution_count": 7,
   "id": "42c00023-9f47-4978-b7f9-33cced121430",
   "metadata": {},
   "outputs": [
    {
     "name": "stdout",
     "output_type": "stream",
     "text": [
      "Multiprocessing-Multiprocessing is a system that has more than one or two processors.\n",
      "In Multiprocessing, CPUs are added for increasing computing speed of the system. Because of Multiprocessing, There are many processes are executed simultaneously. Multiprocessing are classified into two categories:\n",
      "1. Symmetric Multiprocessing\n",
      "2. Asymmetric Multiprocessing.\n",
      "\n",
      "\n",
      "Multithreading-Multithreading is a system in which multiple threads are created of a process for increasing the computing speed of the system.\n",
      "In multithreading, many threads of a process are executed simultaneously and process creation in multithreading is done according to economical.\n"
     ]
    }
   ],
   "source": [
    "#Q2-What are the differences between multiprocessing and multithreading?\n",
    "\n",
    "print('''Multiprocessing-Multiprocessing is a system that has more than one or two processors.\n",
    "In Multiprocessing, CPUs are added for increasing computing speed of the system. Because of Multiprocessing, There are many processes are executed simultaneously. Multiprocessing are classified into two categories:\n",
    "1. Symmetric Multiprocessing\n",
    "2. Asymmetric Multiprocessing.\\n\n",
    "\n",
    "Multithreading-Multithreading is a system in which multiple threads are created of a process for increasing the computing speed of the system.\n",
    "In multithreading, many threads of a process are executed simultaneously and process creation in multithreading is done according to economical.''') "
   ]
  },
  {
   "cell_type": "code",
   "execution_count": 17,
   "id": "085cf38c-90c0-4fba-94f3-5d3ac6e301da",
   "metadata": {},
   "outputs": [
    {
     "name": "stdout",
     "output_type": "stream",
     "text": [
      "104.0\n",
      "77.0\n",
      "107.60000000000001\n",
      "91.4\n",
      "68.0\n"
     ]
    }
   ],
   "source": [
    "#Q3-Write a python code to create a process using the multiprocessing module.\n",
    "\n",
    "import multiprocessing\n",
    "\n",
    "def temp(x):\n",
    "    print(x*(9/5)+32)\n",
    "\n",
    "if __name__=='__main__':\n",
    "    temp_Cel=(40,25,42,33,20)\n",
    "    m=[multiprocessing.Process(target=temp, args=(i,)) for i in temp_Cel]\n",
    "    for k in m:\n",
    "        k.start()\n",
    "        k.join()\n",
    "    "
   ]
  },
  {
   "cell_type": "code",
   "execution_count": 23,
   "id": "b8b3ff37-4adb-412c-91fb-5d3a7630f720",
   "metadata": {},
   "outputs": [
    {
     "name": "stdout",
     "output_type": "stream",
     "text": [
      "Multiprocessing pool-The pool is a class in the multiprocessing module that distributes\n",
      "the tasks to the available processors in FIFO (First In First Out) manner.\n",
      "\n",
      "It is used to create multiple Python processes in the background and spreads out our computations\n",
      "for us across multiple CPU cores so that they all happen in parallel without doing anything.\n"
     ]
    }
   ],
   "source": [
    "#Q4-What is a multiprocessing pool in python? Why is it used?\n",
    "\n",
    "print('''Multiprocessing pool-The pool is a class in the multiprocessing module that distributes\n",
    "the tasks to the available processors in FIFO (First In First Out) manner.\n",
    "\n",
    "It is used to create multiple Python processes in the background and spreads out our computations\n",
    "for us across multiple CPU cores so that they all happen in parallel without doing anything.''')"
   ]
  },
  {
   "cell_type": "code",
   "execution_count": 27,
   "id": "35197120-98d7-41e8-a548-bb2f87543017",
   "metadata": {},
   "outputs": [
    {
     "name": "stdout",
     "output_type": "stream",
     "text": [
      "The syntax to create a pool object is multiprocessing.Pool (processes, initializer, initargs, maxtasksperchild, context).\n",
      "All the arguments are optional.\n",
      "processes represent the number of worker processes we want to create.\n",
      "for example-\n",
      "Cube of numbers are- [1, 27, 125, 343, 729]\n"
     ]
    }
   ],
   "source": [
    "#Q5-How can we create a pool of worker processes in python using the multiprocessing module?\n",
    "\n",
    "print('''The syntax to create a pool object is multiprocessing.Pool (processes, initializer, initargs, maxtasksperchild, context).\n",
    "All the arguments are optional.\n",
    "processes represent the number of worker processes we want to create.\\nfor example-''') \n",
    "\n",
    "def cube(x):\n",
    "    return x**3\n",
    "\n",
    "if __name__=='__main__':\n",
    "    with multiprocessing.Pool(processes=3) as pool:\n",
    "        out=pool.map(cube,[1,3,5,7,9])\n",
    "    print(\"Cube of numbers are-\",out)"
   ]
  },
  {
   "cell_type": "code",
   "execution_count": 40,
   "id": "db093383-14ef-47e8-ad34-9e1866a51bda",
   "metadata": {},
   "outputs": [
    {
     "name": "stdout",
     "output_type": "stream",
     "text": [
      "1 4 9 \n",
      "\n",
      "16 25 36 \n",
      "\n",
      "49 64 81 \n",
      "\n",
      "100 121 144 "
     ]
    }
   ],
   "source": [
    "#Q6-Write a python program to create 4 processes, each process should print a different number using the\n",
    "#multiprocessing module in python.\n",
    "\n",
    "import multiprocessing\n",
    "\n",
    "def sqaure(x):\n",
    "    print(x**2, end=\" \")\n",
    "    \n",
    "if __name__=='__main__':\n",
    "    m1=[multiprocessing.Process(target=sqaure, args=(i,)) for i in [1,2,3]]\n",
    "    for j in m1:\n",
    "        j.start()\n",
    "        j.join()\n",
    "    print(\"\\n\")\n",
    "        \n",
    "    m2=[multiprocessing.Process(target=sqaure, args=(i,)) for i in [4,5,6]]\n",
    "    for k in m2:\n",
    "        k.start()\n",
    "        k.join()\n",
    "    print(\"\\n\")\n",
    "    \n",
    "    m3=[multiprocessing.Process(target=sqaure, args=(i,)) for i in [7,8,9]]\n",
    "    for t in m3:\n",
    "        t.start()\n",
    "        t.join()\n",
    "    print(\"\\n\")\n",
    "        \n",
    "    m4=[multiprocessing.Process(target=sqaure, args=(i,)) for i in [10,11,12]]\n",
    "    for p in m4:\n",
    "        p.start()"
   ]
  },
  {
   "cell_type": "code",
   "execution_count": null,
   "id": "a2d8e842-d168-4d55-9daf-3d2b90f7c424",
   "metadata": {},
   "outputs": [],
   "source": []
  }
 ],
 "metadata": {
  "kernelspec": {
   "display_name": "Python 3 (ipykernel)",
   "language": "python",
   "name": "python3"
  },
  "language_info": {
   "codemirror_mode": {
    "name": "ipython",
    "version": 3
   },
   "file_extension": ".py",
   "mimetype": "text/x-python",
   "name": "python",
   "nbconvert_exporter": "python",
   "pygments_lexer": "ipython3",
   "version": "3.10.8"
  }
 },
 "nbformat": 4,
 "nbformat_minor": 5
}
