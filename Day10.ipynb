{
 "cells": [
  {
   "cell_type": "markdown",
   "id": "f6185fc7-3a54-4604-80ea-627403d9b229",
   "metadata": {},
   "source": [
    "## Decorators"
   ]
  },
  {
   "cell_type": "code",
   "execution_count": 46,
   "id": "8db1bc9b-5067-441d-a023-9f580f581c20",
   "metadata": {},
   "outputs": [],
   "source": [
    "def deco(func):\n",
    "    def inner(x):\n",
    "        print('Start')\n",
    "        func(x)\n",
    "        print('end')\n",
    "    return inner"
   ]
  },
  {
   "cell_type": "code",
   "execution_count": 69,
   "id": "f88479a6-913b-490c-82e0-dff7518c7ccf",
   "metadata": {},
   "outputs": [],
   "source": [
    "@deco\n",
    "def sq(x):\n",
    "    c=x**2\n",
    "    print('Square of',x,'is:',c)\n"
   ]
  },
  {
   "cell_type": "code",
   "execution_count": 70,
   "id": "d07c3b88-c390-495d-8898-a9dedd633e52",
   "metadata": {},
   "outputs": [
    {
     "name": "stdout",
     "output_type": "stream",
     "text": [
      "Start\n",
      "Square of 4 is: 16\n",
      "end\n"
     ]
    }
   ],
   "source": [
    "sq(4)\n",
    "\n"
   ]
  },
  {
   "cell_type": "code",
   "execution_count": 33,
   "id": "262cd4ec-8975-4d76-8a83-fe9779c6225c",
   "metadata": {},
   "outputs": [],
   "source": [
    "import time \n",
    "\n",
    "def time_test(func):\n",
    "    def time_inner():\n",
    "        start=time.time()\n",
    "        func()\n",
    "        end=time.time()\n",
    "        print('Total time taken to execute function is-',(end-start))\n",
    "    return time_inner"
   ]
  },
  {
   "cell_type": "code",
   "execution_count": 34,
   "id": "264d9946-46cb-424e-a1fd-611fc29ef6f3",
   "metadata": {},
   "outputs": [],
   "source": [
    "@time_test\n",
    "def cube():\n",
    "    print('Cube of 3 is -', 3**3)"
   ]
  },
  {
   "cell_type": "code",
   "execution_count": 35,
   "id": "04f9e877-90f8-4ace-9935-470fb4958f5e",
   "metadata": {},
   "outputs": [
    {
     "name": "stdout",
     "output_type": "stream",
     "text": [
      "Cube of 3 is - 27\n",
      "Total time taken to execute function is- 5.936622619628906e-05\n"
     ]
    }
   ],
   "source": [
    "cube()"
   ]
  },
  {
   "cell_type": "markdown",
   "id": "d9dac700-ab2f-4f46-8ccf-5e7220dc66b3",
   "metadata": {},
   "source": [
    "## Class Method"
   ]
  },
  {
   "cell_type": "code",
   "execution_count": 82,
   "id": "12b77aaf-ee6e-4cec-9658-cd3526aaebb6",
   "metadata": {},
   "outputs": [],
   "source": [
    "class Student:\n",
    "    def __init__(self,name,age):\n",
    "        self.name=name\n",
    "        self.age=age\n",
    "        \n",
    "    @classmethod\n",
    "    def student_details(cls,name,age):\n",
    "        return cls(name,age)\n"
   ]
  },
  {
   "cell_type": "code",
   "execution_count": 83,
   "id": "792f411a-f52f-4d69-a0bd-5952789364c3",
   "metadata": {},
   "outputs": [],
   "source": [
    "s1=Student.student_details('Aditya',20)"
   ]
  },
  {
   "cell_type": "code",
   "execution_count": 84,
   "id": "aa940b77-56ce-4039-badf-24d8ae647ce9",
   "metadata": {},
   "outputs": [
    {
     "data": {
      "text/plain": [
       "20"
      ]
     },
     "execution_count": 84,
     "metadata": {},
     "output_type": "execute_result"
    }
   ],
   "source": [
    "s1.age"
   ]
  },
  {
   "cell_type": "code",
   "execution_count": 85,
   "id": "a6f7dcbd-a2b6-4d43-b779-244b9ccab245",
   "metadata": {},
   "outputs": [
    {
     "data": {
      "text/plain": [
       "'Aditya'"
      ]
     },
     "execution_count": 85,
     "metadata": {},
     "output_type": "execute_result"
    }
   ],
   "source": [
    "s1.name"
   ]
  },
  {
   "cell_type": "code",
   "execution_count": 98,
   "id": "bd04741e-2bf7-4402-a442-faf6072c212d",
   "metadata": {},
   "outputs": [],
   "source": [
    "class Student:\n",
    "    number=9874546321\n",
    "    \n",
    "    def __init__(self,name,age):\n",
    "        self.name=name\n",
    "        self.age=age\n",
    "        \n",
    "    @classmethod\n",
    "    def student_details(cls,name,age):\n",
    "        return cls(name,age)\n",
    "    \n",
    "    @classmethod\n",
    "    def change_num(cls,num):\n",
    "        Student.number=num\n",
    "    \n",
    "    def details(self):\n",
    "        return(self.name, self.age, Student.number)\n"
   ]
  },
  {
   "cell_type": "code",
   "execution_count": 99,
   "id": "40711bb0-736b-4b99-aaab-9f070856f582",
   "metadata": {},
   "outputs": [],
   "source": [
    "ob=Student('Aditya',20)"
   ]
  },
  {
   "cell_type": "code",
   "execution_count": 95,
   "id": "5fbe80a3-713d-4396-b665-225697f3216b",
   "metadata": {},
   "outputs": [
    {
     "data": {
      "text/plain": [
       "('Aditya', 20, 9874546321)"
      ]
     },
     "execution_count": 95,
     "metadata": {},
     "output_type": "execute_result"
    }
   ],
   "source": [
    "ob.details()"
   ]
  },
  {
   "cell_type": "code",
   "execution_count": 101,
   "id": "50b218a7-3eb1-45f8-8e81-ff5b88e75c50",
   "metadata": {},
   "outputs": [],
   "source": [
    "cls_method=Student.student_details('Aman',21)"
   ]
  },
  {
   "cell_type": "code",
   "execution_count": 102,
   "id": "60d64940-45b1-489a-ad97-8f304de00810",
   "metadata": {},
   "outputs": [
    {
     "data": {
      "text/plain": [
       "('Aman', 21, 9874546321)"
      ]
     },
     "execution_count": 102,
     "metadata": {},
     "output_type": "execute_result"
    }
   ],
   "source": [
    "cls_method.details()\n"
   ]
  },
  {
   "cell_type": "code",
   "execution_count": 103,
   "id": "e1287854-9ea0-4577-931e-d12049889ae7",
   "metadata": {},
   "outputs": [],
   "source": [
    "cls_method.change_num(9564321080)"
   ]
  },
  {
   "cell_type": "code",
   "execution_count": 104,
   "id": "cb9f5d37-5732-4459-be2e-3226345c453b",
   "metadata": {},
   "outputs": [
    {
     "data": {
      "text/plain": [
       "('Aman', 21, 9564321080)"
      ]
     },
     "execution_count": 104,
     "metadata": {},
     "output_type": "execute_result"
    }
   ],
   "source": [
    "cls_method.details()"
   ]
  },
  {
   "cell_type": "code",
   "execution_count": 108,
   "id": "f26b32a9-d3b1-4f4d-a430-85eabf59f940",
   "metadata": {},
   "outputs": [],
   "source": [
    "def course_details(cls,c1,c2,c3):\n",
    "    print('Your courses are-',c1,\",\",c2,\",\",c3)\n",
    "    "
   ]
  },
  {
   "cell_type": "code",
   "execution_count": 109,
   "id": "15f2c191-7743-4f06-92dc-724f2e6e15bb",
   "metadata": {},
   "outputs": [],
   "source": [
    "Student.course_details=classmethod(course_details)"
   ]
  },
  {
   "cell_type": "code",
   "execution_count": 110,
   "id": "166c85f9-db2f-4238-8008-b9db17622bfe",
   "metadata": {},
   "outputs": [
    {
     "name": "stdout",
     "output_type": "stream",
     "text": [
      "Your courses are- Data-Science , Web-Dev , Java\n"
     ]
    }
   ],
   "source": [
    "ob_s=Student.course_details('Data-Science','Web-Dev','Java')"
   ]
  },
  {
   "cell_type": "code",
   "execution_count": 111,
   "id": "66ca4f20-6fa8-414c-bcbe-bc8987dfad16",
   "metadata": {},
   "outputs": [],
   "source": [
    "# Delete data\n",
    "\n",
    "del Student.course_details"
   ]
  },
  {
   "cell_type": "code",
   "execution_count": 112,
   "id": "6f7f75ac-a6e1-4b9d-b1f8-03b4e8b4f22f",
   "metadata": {},
   "outputs": [],
   "source": [
    "delattr(Student,'change_num')"
   ]
  },
  {
   "cell_type": "code",
   "execution_count": 113,
   "id": "faac2d8e-c858-415b-bfbb-834658668c9c",
   "metadata": {},
   "outputs": [
    {
     "data": {
      "text/plain": [
       "__main__.Student"
      ]
     },
     "execution_count": 113,
     "metadata": {},
     "output_type": "execute_result"
    }
   ],
   "source": [
    "Student"
   ]
  },
  {
   "cell_type": "markdown",
   "id": "9c8f245c-8a25-47b0-ab54-7c1bff9c5403",
   "metadata": {},
   "source": [
    "## Static Method"
   ]
  },
  {
   "cell_type": "code",
   "execution_count": 139,
   "id": "c3984c02-1273-40d5-86cd-7d7f12135340",
   "metadata": {},
   "outputs": [],
   "source": [
    "class Main:\n",
    "    def student_details(self,name,age,course):\n",
    "        print(name,age,course)\n",
    "        \n",
    "    @staticmethod\n",
    "    # This function will be available across all the classes \n",
    "    def mentor(mentor_list):\n",
    "        print(mentor_list)"
   ]
  },
  {
   "cell_type": "code",
   "execution_count": 125,
   "id": "c2482e74-3984-46c6-aef9-beb87d552b90",
   "metadata": {},
   "outputs": [
    {
     "name": "stdout",
     "output_type": "stream",
     "text": [
      "['Krish', 'Sudh', 'Ravi']\n"
     ]
    }
   ],
   "source": [
    "Main.mentor(['Krish','Sudh','Ravi'])"
   ]
  },
  {
   "cell_type": "code",
   "execution_count": 140,
   "id": "24ae62c8-fd70-4d5f-81a6-e0ef45d53bc9",
   "metadata": {},
   "outputs": [],
   "source": [
    "ob=Main()"
   ]
  },
  {
   "cell_type": "code",
   "execution_count": 141,
   "id": "4f5651d8-7eb0-4edb-8585-b91b42fb4539",
   "metadata": {},
   "outputs": [
    {
     "name": "stdout",
     "output_type": "stream",
     "text": [
      "ADITYA 20 DATA-SCIENCE\n"
     ]
    }
   ],
   "source": [
    "ob.student_details(\"ADITYA\",20,\"DATA-SCIENCE\")"
   ]
  },
  {
   "cell_type": "code",
   "execution_count": 143,
   "id": "7df067fa-76fe-4b99-a339-06f78ba2dfbe",
   "metadata": {},
   "outputs": [],
   "source": [
    "class Main:\n",
    "    def student_details(self,name,age,course):\n",
    "        print(name,age,course)\n",
    "        \n",
    "    @staticmethod\n",
    "    \n",
    "    def mentor_id(mail_id):\n",
    "        print(mail_id)\n",
    "    \n",
    "    @staticmethod\n",
    "    # This function will be available across all the classes \n",
    "    def mentor(mentor_list):\n",
    "        print(mentor_list)\n",
    "        Main.mentor_id('Adi@gmail.com')"
   ]
  },
  {
   "cell_type": "code",
   "execution_count": 144,
   "id": "be989a20-821b-4297-8fe7-ae9ca3fbcd28",
   "metadata": {},
   "outputs": [
    {
     "name": "stdout",
     "output_type": "stream",
     "text": [
      "Aditya\n",
      "Adi@gmail.com\n"
     ]
    }
   ],
   "source": [
    "Main.mentor('Aditya')"
   ]
  },
  {
   "cell_type": "markdown",
   "id": "e3ab5956-94ec-4f41-bca8-789a9c94cc42",
   "metadata": {},
   "source": [
    "## Special(Magic/Dunder) Method"
   ]
  },
  {
   "cell_type": "code",
   "execution_count": 145,
   "id": "d0a46826-022f-4915-bc5b-c923cdd3a47d",
   "metadata": {},
   "outputs": [
    {
     "data": {
      "text/plain": [
       "['__abs__',\n",
       " '__add__',\n",
       " '__and__',\n",
       " '__bool__',\n",
       " '__ceil__',\n",
       " '__class__',\n",
       " '__delattr__',\n",
       " '__dir__',\n",
       " '__divmod__',\n",
       " '__doc__',\n",
       " '__eq__',\n",
       " '__float__',\n",
       " '__floor__',\n",
       " '__floordiv__',\n",
       " '__format__',\n",
       " '__ge__',\n",
       " '__getattribute__',\n",
       " '__getnewargs__',\n",
       " '__gt__',\n",
       " '__hash__',\n",
       " '__index__',\n",
       " '__init__',\n",
       " '__init_subclass__',\n",
       " '__int__',\n",
       " '__invert__',\n",
       " '__le__',\n",
       " '__lshift__',\n",
       " '__lt__',\n",
       " '__mod__',\n",
       " '__mul__',\n",
       " '__ne__',\n",
       " '__neg__',\n",
       " '__new__',\n",
       " '__or__',\n",
       " '__pos__',\n",
       " '__pow__',\n",
       " '__radd__',\n",
       " '__rand__',\n",
       " '__rdivmod__',\n",
       " '__reduce__',\n",
       " '__reduce_ex__',\n",
       " '__repr__',\n",
       " '__rfloordiv__',\n",
       " '__rlshift__',\n",
       " '__rmod__',\n",
       " '__rmul__',\n",
       " '__ror__',\n",
       " '__round__',\n",
       " '__rpow__',\n",
       " '__rrshift__',\n",
       " '__rshift__',\n",
       " '__rsub__',\n",
       " '__rtruediv__',\n",
       " '__rxor__',\n",
       " '__setattr__',\n",
       " '__sizeof__',\n",
       " '__str__',\n",
       " '__sub__',\n",
       " '__subclasshook__',\n",
       " '__truediv__',\n",
       " '__trunc__',\n",
       " '__xor__',\n",
       " 'as_integer_ratio',\n",
       " 'bit_count',\n",
       " 'bit_length',\n",
       " 'conjugate',\n",
       " 'denominator',\n",
       " 'from_bytes',\n",
       " 'imag',\n",
       " 'numerator',\n",
       " 'real',\n",
       " 'to_bytes']"
      ]
     },
     "execution_count": 145,
     "metadata": {},
     "output_type": "execute_result"
    }
   ],
   "source": [
    "dir(int)"
   ]
  },
  {
   "cell_type": "code",
   "execution_count": 147,
   "id": "5b82c6b1-2575-44cc-86d4-8ca6c4d024d9",
   "metadata": {},
   "outputs": [],
   "source": [
    "a=10"
   ]
  },
  {
   "cell_type": "code",
   "execution_count": 149,
   "id": "04e188aa-2183-4021-98b5-4e15561e9042",
   "metadata": {},
   "outputs": [
    {
     "data": {
      "text/plain": [
       "15"
      ]
     },
     "execution_count": 149,
     "metadata": {},
     "output_type": "execute_result"
    }
   ],
   "source": [
    "a.__add__(5) #Magic/Dunder method"
   ]
  },
  {
   "cell_type": "code",
   "execution_count": 151,
   "id": "aca609de-f26f-4e83-876c-7bafdcba7a46",
   "metadata": {},
   "outputs": [],
   "source": [
    "class test:\n",
    "    \n",
    "    def __new__(cls):\n",
    "        print(\"This is new\")\n",
    "        \n",
    "    def __init__(self):\n",
    "        print(\"__init__ comes after new\")"
   ]
  },
  {
   "cell_type": "code",
   "execution_count": 152,
   "id": "53cd82b3-dda6-4f2d-8b85-7ddb64776c08",
   "metadata": {},
   "outputs": [
    {
     "name": "stdout",
     "output_type": "stream",
     "text": [
      "This is new\n"
     ]
    }
   ],
   "source": [
    "obj=test()"
   ]
  },
  {
   "cell_type": "code",
   "execution_count": 163,
   "id": "0a41dc58-639b-4a10-af77-732635a35ba4",
   "metadata": {},
   "outputs": [],
   "source": [
    "class test1:\n",
    "    def __init__(self):\n",
    "        self.num=9874321986\n",
    "        #print(self.num)\n",
    "        \n",
    "    def __str__(self):\n",
    "        return \"This a magic method for object\""
   ]
  },
  {
   "cell_type": "code",
   "execution_count": 164,
   "id": "d08c929b-628e-4c45-8aa3-3decf7c22865",
   "metadata": {},
   "outputs": [],
   "source": [
    "o1=test1()"
   ]
  },
  {
   "cell_type": "code",
   "execution_count": 165,
   "id": "88d50acb-ff05-47f0-ac3d-4be16057fbfb",
   "metadata": {},
   "outputs": [
    {
     "data": {
      "text/plain": [
       "<__main__.test1 at 0x7f41404c73d0>"
      ]
     },
     "execution_count": 165,
     "metadata": {},
     "output_type": "execute_result"
    }
   ],
   "source": [
    "o1"
   ]
  },
  {
   "cell_type": "code",
   "execution_count": 166,
   "id": "2ab03c76-b917-41db-87df-09734f947ae6",
   "metadata": {},
   "outputs": [
    {
     "name": "stdout",
     "output_type": "stream",
     "text": [
      "This a magic method for object\n"
     ]
    }
   ],
   "source": [
    "print(o1)"
   ]
  },
  {
   "cell_type": "markdown",
   "id": "65a7b4af-2328-4d22-bd8c-ffc1cef8ae05",
   "metadata": {},
   "source": [
    "## Property Decorators-Getters , Setters and Deletes"
   ]
  },
  {
   "cell_type": "code",
   "execution_count": 191,
   "id": "0d43ebc9-5ffb-4657-97c6-70088ed19a13",
   "metadata": {},
   "outputs": [],
   "source": [
    "class pwskills:\n",
    "    def __init__(self,name,price):\n",
    "        self.course_name=name\n",
    "        self.__course_price=price #Prvate variable\n",
    "        \n",
    "    @property\n",
    "    \n",
    "    def course_price_access(self):\n",
    "        return self.__course_price\n",
    "    \n",
    "    @course_price_access.setter\n",
    "    def set_price(self, price):\n",
    "        if price<=3500:\n",
    "            pass\n",
    "        else:\n",
    "            self.__course_price=price\n",
    "      \n",
    "    @course_price_access.deleter\n",
    "    def delete_price(self):\n",
    "        del self.__course_price\n",
    "    "
   ]
  },
  {
   "cell_type": "code",
   "execution_count": 192,
   "id": "3768b565-6537-4aef-9c8a-b21e1201e701",
   "metadata": {},
   "outputs": [],
   "source": [
    "pw=pwskills('Data-Science Masters',3500)"
   ]
  },
  {
   "cell_type": "code",
   "execution_count": 180,
   "id": "eb8fe4b9-68fa-4a87-8e96-f473fcc558fa",
   "metadata": {},
   "outputs": [
    {
     "data": {
      "text/plain": [
       "'Data-Science Masters'"
      ]
     },
     "execution_count": 180,
     "metadata": {},
     "output_type": "execute_result"
    }
   ],
   "source": [
    "pw.course_name"
   ]
  },
  {
   "cell_type": "code",
   "execution_count": 181,
   "id": "fe4e6a21-fb4a-434d-9cf3-ba8e6350a726",
   "metadata": {},
   "outputs": [
    {
     "data": {
      "text/plain": [
       "3500"
      ]
     },
     "execution_count": 181,
     "metadata": {},
     "output_type": "execute_result"
    }
   ],
   "source": [
    "pw.course_price_access"
   ]
  },
  {
   "cell_type": "code",
   "execution_count": 183,
   "id": "d974232f-8090-4ef8-8a3f-7fca6444b762",
   "metadata": {},
   "outputs": [],
   "source": [
    "pw.set_price=5500"
   ]
  },
  {
   "cell_type": "code",
   "execution_count": 184,
   "id": "aca8624a-2e58-4ed3-bb00-a47056933dc8",
   "metadata": {},
   "outputs": [
    {
     "data": {
      "text/plain": [
       "5500"
      ]
     },
     "execution_count": 184,
     "metadata": {},
     "output_type": "execute_result"
    }
   ],
   "source": [
    "pw.course_price_access"
   ]
  },
  {
   "cell_type": "code",
   "execution_count": 193,
   "id": "d004819b-f664-47a1-a571-26b2345b5ced",
   "metadata": {},
   "outputs": [
    {
     "data": {
      "text/plain": [
       "3500"
      ]
     },
     "execution_count": 193,
     "metadata": {},
     "output_type": "execute_result"
    }
   ],
   "source": [
    "pw.delete_price"
   ]
  },
  {
   "cell_type": "code",
   "execution_count": 194,
   "id": "335af28e-3b28-49af-86c5-e0695ee971e8",
   "metadata": {},
   "outputs": [
    {
     "data": {
      "text/plain": [
       "3500"
      ]
     },
     "execution_count": 194,
     "metadata": {},
     "output_type": "execute_result"
    }
   ],
   "source": [
    "pw.course_price_access"
   ]
  },
  {
   "cell_type": "code",
   "execution_count": null,
   "id": "247e01e5-f54b-4ab9-b034-c7ee6cb6ccf7",
   "metadata": {},
   "outputs": [],
   "source": []
  }
 ],
 "metadata": {
  "kernelspec": {
   "display_name": "Python 3 (ipykernel)",
   "language": "python",
   "name": "python3"
  },
  "language_info": {
   "codemirror_mode": {
    "name": "ipython",
    "version": 3
   },
   "file_extension": ".py",
   "mimetype": "text/x-python",
   "name": "python",
   "nbconvert_exporter": "python",
   "pygments_lexer": "ipython3",
   "version": "3.10.8"
  }
 },
 "nbformat": 4,
 "nbformat_minor": 5
}
