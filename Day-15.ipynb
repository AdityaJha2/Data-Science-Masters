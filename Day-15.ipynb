{
 "cells": [
  {
   "cell_type": "markdown",
   "id": "5e9634a4-07de-454b-871b-61d9f177207c",
   "metadata": {},
   "source": [
    "# Multithreading"
   ]
  },
  {
   "cell_type": "code",
   "execution_count": 7,
   "id": "a5121f3e-7719-449c-b033-cba611853f40",
   "metadata": {},
   "outputs": [],
   "source": [
    "import threading"
   ]
  },
  {
   "cell_type": "code",
   "execution_count": 58,
   "id": "717a858e-ffc6-40e5-93ad-15305092cd92",
   "metadata": {},
   "outputs": [],
   "source": [
    "def test(id):\n",
    "    print(f'My test Id is-{id}')"
   ]
  },
  {
   "cell_type": "code",
   "execution_count": 11,
   "id": "a651783e-131b-4803-8ea8-6adfc7605278",
   "metadata": {},
   "outputs": [
    {
     "data": {
      "text/plain": [
       "'My test Id is-3'"
      ]
     },
     "execution_count": 11,
     "metadata": {},
     "output_type": "execute_result"
    }
   ],
   "source": [
    "test(3)"
   ]
  },
  {
   "cell_type": "code",
   "execution_count": 35,
   "id": "108313ad-75ba-45d1-8834-e9c278283c12",
   "metadata": {},
   "outputs": [
    {
     "data": {
      "text/plain": [
       "'My test Id is-25'"
      ]
     },
     "execution_count": 35,
     "metadata": {},
     "output_type": "execute_result"
    }
   ],
   "source": [
    "test(25)"
   ]
  },
  {
   "cell_type": "code",
   "execution_count": 59,
   "id": "10c907e5-0f8c-40ae-82a7-6d6b4a252a8c",
   "metadata": {},
   "outputs": [],
   "source": [
    "thred=[threading.Thread(target=test, args=(i,)) for i in [3,5,10]]"
   ]
  },
  {
   "cell_type": "code",
   "execution_count": 60,
   "id": "0ca54dbe-7284-4303-ab27-963a998512ad",
   "metadata": {},
   "outputs": [
    {
     "data": {
      "text/plain": [
       "[<Thread(Thread-29 (test), initial)>,\n",
       " <Thread(Thread-30 (test), initial)>,\n",
       " <Thread(Thread-31 (test), initial)>]"
      ]
     },
     "execution_count": 60,
     "metadata": {},
     "output_type": "execute_result"
    }
   ],
   "source": [
    "thred"
   ]
  },
  {
   "cell_type": "code",
   "execution_count": 61,
   "id": "ab88377f-82a4-4e54-ab21-008c4ab52e46",
   "metadata": {},
   "outputs": [
    {
     "name": "stdout",
     "output_type": "stream",
     "text": [
      "My test Id is-3\n",
      "My test Id is-5\n",
      "My test Id is-10\n"
     ]
    }
   ],
   "source": [
    "for t in thred:\n",
    "    t.start()"
   ]
  },
  {
   "cell_type": "code",
   "execution_count": 38,
   "id": "4bdf8fd4-c99e-423d-bb76-752febaf7354",
   "metadata": {},
   "outputs": [],
   "source": [
    "import urllib.request\n",
    "\n",
    "def file_download(url,filename):\n",
    "    urllib.request.urlretrieve(url,filename)"
   ]
  },
  {
   "cell_type": "code",
   "execution_count": 41,
   "id": "26df5b61-890a-4a79-a1c8-a38e77fbe6e3",
   "metadata": {},
   "outputs": [],
   "source": [
    "file_download(\"https://datatxt.org/\",'download.txt')"
   ]
  },
  {
   "cell_type": "code",
   "execution_count": 42,
   "id": "9095374f-8be2-42de-8595-8de1b9b48991",
   "metadata": {},
   "outputs": [],
   "source": [
    "url_lst=['https://support.microsoft.com/en-us/office/import-or-export-text-txt-or-csv-files-5250ac4c-663c-47ce-937b-339e391393ba',\"https://datatxt.org/\"]"
   ]
  },
  {
   "cell_type": "code",
   "execution_count": 43,
   "id": "17b2d9d4-2414-4eb4-bdd9-214bf6bc1477",
   "metadata": {},
   "outputs": [
    {
     "data": {
      "text/plain": [
       "['https://support.microsoft.com/en-us/office/import-or-export-text-txt-or-csv-files-5250ac4c-663c-47ce-937b-339e391393ba',\n",
       " 'https://datatxt.org/']"
      ]
     },
     "execution_count": 43,
     "metadata": {},
     "output_type": "execute_result"
    }
   ],
   "source": [
    "url_lst"
   ]
  },
  {
   "cell_type": "code",
   "execution_count": 44,
   "id": "fcc32927-409e-445d-bb64-fb3ca1981c78",
   "metadata": {},
   "outputs": [],
   "source": [
    "data_file_lst=['File1.txt','File2.txt']"
   ]
  },
  {
   "cell_type": "code",
   "execution_count": 48,
   "id": "812e38ee-1675-4888-a6ba-6be1cd906099",
   "metadata": {},
   "outputs": [],
   "source": [
    "thr=[threading.Thread(target=file_download, args=(url_lst[i],data_file_lst[i])) for i in range(len(url_lst))]"
   ]
  },
  {
   "cell_type": "code",
   "execution_count": 49,
   "id": "30e3095d-9361-43b1-b106-cac91a8828c6",
   "metadata": {},
   "outputs": [
    {
     "data": {
      "text/plain": [
       "[<Thread(Thread-21 (file_download), initial)>,\n",
       " <Thread(Thread-22 (file_download), initial)>]"
      ]
     },
     "execution_count": 49,
     "metadata": {},
     "output_type": "execute_result"
    }
   ],
   "source": [
    "thr"
   ]
  },
  {
   "cell_type": "code",
   "execution_count": 50,
   "id": "6ecb358b-aa8c-4607-8ef8-0067a90ab02d",
   "metadata": {},
   "outputs": [],
   "source": [
    "for j in thr:\n",
    "    j.start()"
   ]
  },
  {
   "cell_type": "code",
   "execution_count": 1,
   "id": "cf9f0c6f-e790-401c-bb47-78565ee3a6fd",
   "metadata": {},
   "outputs": [],
   "source": [
    "import time"
   ]
  },
  {
   "cell_type": "code",
   "execution_count": 10,
   "id": "dd7f3b8a-1514-497f-94e8-19bcf95d22ad",
   "metadata": {},
   "outputs": [],
   "source": [
    "def test1(x):\n",
    "    for i in range(5):\n",
    "        print('The value of x is %d and the value of i is %d'%(x,i))\n",
    "        time.sleep(1)"
   ]
  },
  {
   "cell_type": "code",
   "execution_count": 11,
   "id": "007fecf6-b8d0-471b-b376-6fc307de7398",
   "metadata": {},
   "outputs": [],
   "source": [
    "thread1=[threading.Thread(target=test1, args=(i,)) for i in [10,20,30]]"
   ]
  },
  {
   "cell_type": "code",
   "execution_count": 12,
   "id": "8d17e453-7f79-4c8d-a571-bb09630046f0",
   "metadata": {},
   "outputs": [
    {
     "name": "stdout",
     "output_type": "stream",
     "text": [
      "The value of x is 10 and the value of i is 0\n",
      "The value of x is 20 and the value of i is 0\n",
      "The value of x is 30 and the value of i is 0\n",
      "The value of x is 20 and the value of i is 1\n",
      "The value of x is 30 and the value of i is 1\n",
      "The value of x is 10 and the value of i is 1\n",
      "The value of x is 20 and the value of i is 2The value of x is 30 and the value of i is 2\n",
      "\n",
      "The value of x is 10 and the value of i is 2\n",
      "The value of x is 20 and the value of i is 3The value of x is 30 and the value of i is 3\n",
      "\n",
      "The value of x is 10 and the value of i is 3\n",
      "The value of x is 30 and the value of i is 4\n",
      "The value of x is 10 and the value of i is 4\n",
      "The value of x is 20 and the value of i is 4\n"
     ]
    }
   ],
   "source": [
    "for i in thread1:\n",
    "    i.start()"
   ]
  },
  {
   "cell_type": "code",
   "execution_count": 13,
   "id": "d6257cc9-9a51-48c7-b09a-f9fcf289684b",
   "metadata": {},
   "outputs": [],
   "source": [
    "shared_var=0\n",
    "lock_var=threading.Lock()\n",
    "def test3(x):\n",
    "    global shared_var\n",
    "    with lock_var:\n",
    "        shared_var+=1\n",
    "        print('value of x is %d and value of shared variable is %d'%(x,shared_var))\n",
    "        time.sleep(1)"
   ]
  },
  {
   "cell_type": "code",
   "execution_count": 16,
   "id": "a2dd7c28-2fc2-4d13-8048-f0c370718443",
   "metadata": {},
   "outputs": [],
   "source": [
    "thread3=[threading.Thread(target=test3, args=(i,)) for i in [1,2,3,4,5]]"
   ]
  },
  {
   "cell_type": "code",
   "execution_count": 17,
   "id": "c51ce827-e63a-4745-a6a6-ecd1d941b2b7",
   "metadata": {},
   "outputs": [
    {
     "name": "stdout",
     "output_type": "stream",
     "text": [
      "value of x is 1 and value of shared variable is 1\n",
      "value of x is 2 and value of shared variable is 2\n",
      "value of x is 3 and value of shared variable is 3\n",
      "value of x is 4 and value of shared variable is 4\n",
      "value of x is 5 and value of shared variable is 5\n"
     ]
    }
   ],
   "source": [
    "for j in thread3:\n",
    "    j.start()"
   ]
  },
  {
   "cell_type": "code",
   "execution_count": null,
   "id": "80424562-8ec9-406b-9fc6-0ec23dc16455",
   "metadata": {},
   "outputs": [],
   "source": []
  }
 ],
 "metadata": {
  "kernelspec": {
   "display_name": "Python 3 (ipykernel)",
   "language": "python",
   "name": "python3"
  },
  "language_info": {
   "codemirror_mode": {
    "name": "ipython",
    "version": 3
   },
   "file_extension": ".py",
   "mimetype": "text/x-python",
   "name": "python",
   "nbconvert_exporter": "python",
   "pygments_lexer": "ipython3",
   "version": "3.10.8"
  }
 },
 "nbformat": 4,
 "nbformat_minor": 5
}
