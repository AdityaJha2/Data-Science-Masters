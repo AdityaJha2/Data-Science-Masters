{
 "cells": [
  {
   "cell_type": "code",
   "execution_count": 1,
   "id": "4f555e8d-b77a-44fa-902f-f7cb0c52cacf",
   "metadata": {},
   "outputs": [
    {
     "data": {
      "text/plain": [
       "'JAdityahAdityaa'"
      ]
     },
     "execution_count": 1,
     "metadata": {},
     "output_type": "execute_result"
    }
   ],
   "source": [
    " \"Aditya\".join(\"Jha\")"
   ]
  },
  {
   "cell_type": "code",
   "execution_count": 3,
   "id": "595431a3-45f5-430f-b6bb-7c21257924f4",
   "metadata": {},
   "outputs": [
    {
     "data": {
      "text/plain": [
       "'aytidA'"
      ]
     },
     "execution_count": 3,
     "metadata": {},
     "output_type": "execute_result"
    }
   ],
   "source": [
    "\"\".join(reversed(\"Aditya\"))"
   ]
  },
  {
   "cell_type": "code",
   "execution_count": 5,
   "id": "41f09153-2df1-414c-b219-2d4cdee93369",
   "metadata": {},
   "outputs": [],
   "source": [
    "##Removing Characters From string"
   ]
  },
  {
   "cell_type": "code",
   "execution_count": 6,
   "id": "94190d19-a432-470d-8740-4ab41066e9c6",
   "metadata": {},
   "outputs": [
    {
     "data": {
      "text/plain": [
       "'INDIA'"
      ]
     },
     "execution_count": 6,
     "metadata": {},
     "output_type": "execute_result"
    }
   ],
   "source": [
    "str_a=\" INDIA \"\n",
    "str_a.strip(\" \")"
   ]
  },
  {
   "cell_type": "code",
   "execution_count": 12,
   "id": "26133af3-d458-4c65-aa27-fafa507effdf",
   "metadata": {},
   "outputs": [
    {
     "data": {
      "text/plain": [
       "'INDIA '"
      ]
     },
     "execution_count": 12,
     "metadata": {},
     "output_type": "execute_result"
    }
   ],
   "source": [
    "str_a.lstrip(\" \")"
   ]
  },
  {
   "cell_type": "code",
   "execution_count": 13,
   "id": "ea386732-502a-481a-a572-f7cb967672c7",
   "metadata": {},
   "outputs": [
    {
     "data": {
      "text/plain": [
       "'Aman was happy'"
      ]
     },
     "execution_count": 13,
     "metadata": {},
     "output_type": "execute_result"
    }
   ],
   "source": [
    "strn=\"Aman is happy\"\n",
    "strn.replace(\"is\",\"was\")"
   ]
  },
  {
   "cell_type": "code",
   "execution_count": 14,
   "id": "d5720955-535a-4b8c-b519-cba878963732",
   "metadata": {},
   "outputs": [
    {
     "data": {
      "text/plain": [
       "'Aman is happy'"
      ]
     },
     "execution_count": 14,
     "metadata": {},
     "output_type": "execute_result"
    }
   ],
   "source": [
    "strn"
   ]
  },
  {
   "cell_type": "code",
   "execution_count": 16,
   "id": "46be4643-8fbb-41ed-9036-16d305eddac8",
   "metadata": {},
   "outputs": [
    {
     "data": {
      "text/plain": [
       "'Hello   World'"
      ]
     },
     "execution_count": 16,
     "metadata": {},
     "output_type": "execute_result"
    }
   ],
   "source": [
    "'Hello \\tWorld'.expandtabs()"
   ]
  },
  {
   "cell_type": "code",
   "execution_count": 23,
   "id": "eacae298-d122-4b1f-8ffa-edeb32ac1095",
   "metadata": {},
   "outputs": [
    {
     "data": {
      "text/plain": [
       "'Welcome to pwskills.Welcome to Data Science masters'"
      ]
     },
     "execution_count": 23,
     "metadata": {},
     "output_type": "execute_result"
    }
   ],
   "source": [
    "Str1=\"Welcome to pwskills.Welcome to Dat cience masters\"\n",
    "str2=Str1.replace('Dat','Data').replace('cience','Science')\n",
    "str2"
   ]
  },
  {
   "cell_type": "code",
   "execution_count": 24,
   "id": "eb0add10-308d-42f3-ad23-b605e44d3375",
   "metadata": {},
   "outputs": [
    {
     "data": {
      "text/plain": [
       "False"
      ]
     },
     "execution_count": 24,
     "metadata": {},
     "output_type": "execute_result"
    }
   ],
   "source": [
    "str3=\"ADITYA\"\n",
    "str3.islower()"
   ]
  },
  {
   "cell_type": "code",
   "execution_count": 25,
   "id": "8bba2c13-39f9-40a0-884f-738e5b17640a",
   "metadata": {},
   "outputs": [
    {
     "data": {
      "text/plain": [
       "True"
      ]
     },
     "execution_count": 25,
     "metadata": {},
     "output_type": "execute_result"
    }
   ],
   "source": [
    "str3.isupper()"
   ]
  },
  {
   "cell_type": "code",
   "execution_count": 28,
   "id": "bb55542b-800c-4352-b6ef-8c6fd4e7527d",
   "metadata": {},
   "outputs": [
    {
     "data": {
      "text/plain": [
       "False"
      ]
     },
     "execution_count": 28,
     "metadata": {},
     "output_type": "execute_result"
    }
   ],
   "source": [
    "str3.isspace()"
   ]
  },
  {
   "cell_type": "code",
   "execution_count": 30,
   "id": "4cc2234d-4eaa-4de8-8a4c-45df420dbb14",
   "metadata": {},
   "outputs": [
    {
     "data": {
      "text/plain": [
       "True"
      ]
     },
     "execution_count": 30,
     "metadata": {},
     "output_type": "execute_result"
    }
   ],
   "source": [
    "ss=\" \"\n",
    "ss.isspace()"
   ]
  },
  {
   "cell_type": "code",
   "execution_count": 32,
   "id": "7d4a9e16-e118-4509-bc61-a17e18290cfe",
   "metadata": {},
   "outputs": [
    {
     "data": {
      "text/plain": [
       "True"
      ]
     },
     "execution_count": 32,
     "metadata": {},
     "output_type": "execute_result"
    }
   ],
   "source": [
    "str3.endswith('A')"
   ]
  },
  {
   "cell_type": "code",
   "execution_count": 34,
   "id": "242ec38f-1ed1-4514-8ce2-65b8f5d1c20d",
   "metadata": {},
   "outputs": [
    {
     "data": {
      "text/plain": [
       "False"
      ]
     },
     "execution_count": 34,
     "metadata": {},
     "output_type": "execute_result"
    }
   ],
   "source": [
    "str3.startswith('S')"
   ]
  },
  {
   "cell_type": "code",
   "execution_count": 35,
   "id": "c89f6e2d-eb63-40ea-b7f9-e84e59d1d454",
   "metadata": {},
   "outputs": [],
   "source": [
    "## Check if all the char in string are alphanumeric"
   ]
  },
  {
   "cell_type": "code",
   "execution_count": 40,
   "id": "f64c5e67-ca9e-4d80-99c4-e7b2729b8b3b",
   "metadata": {},
   "outputs": [
    {
     "data": {
      "text/plain": [
       "True"
      ]
     },
     "execution_count": 40,
     "metadata": {},
     "output_type": "execute_result"
    }
   ],
   "source": [
    "a=\"abv23\"\n",
    "a.isalnum()"
   ]
  },
  {
   "cell_type": "code",
   "execution_count": 41,
   "id": "d761153f-6ae8-46d4-9a5a-c65ffdd51ba9",
   "metadata": {},
   "outputs": [],
   "source": [
    "##Count no. of char in a string"
   ]
  },
  {
   "cell_type": "code",
   "execution_count": 42,
   "id": "748a1f81-660a-4065-bb03-505608d982cb",
   "metadata": {},
   "outputs": [
    {
     "name": "stdout",
     "output_type": "stream",
     "text": [
      "Number of characters in a string are- 15\n"
     ]
    }
   ],
   "source": [
    "STR=\"Hey how are you\"\n",
    "count=0\n",
    "for i in STR:\n",
    "    count+=1\n",
    "print(\"Number of characters in a string are-\", count)\n",
    "    "
   ]
  },
  {
   "cell_type": "code",
   "execution_count": 43,
   "id": "326d4025-360e-4a8f-ab30-1f54c1d70ec5",
   "metadata": {},
   "outputs": [
    {
     "data": {
      "text/plain": [
       "15"
      ]
     },
     "execution_count": 43,
     "metadata": {},
     "output_type": "execute_result"
    }
   ],
   "source": [
    "len(STR)"
   ]
  },
  {
   "cell_type": "code",
   "execution_count": 9,
   "id": "42f603d9-fdf2-4b0e-81b9-6a0b575c5ef6",
   "metadata": {},
   "outputs": [
    {
     "data": {
      "text/plain": [
       "['Adi', 2.5, [1, 2, 3], (11, 15)]"
      ]
     },
     "execution_count": 9,
     "metadata": {},
     "output_type": "execute_result"
    }
   ],
   "source": [
    "\n",
    "hlst=[2+3j,\"Adi\",2.5,[1,2,3],(11,15),True,range(1,5),{1:\"India\", 2:\"Australia\"},\"Adi\"]\n",
    "hlst[1:5]\n"
   ]
  },
  {
   "cell_type": "code",
   "execution_count": 4,
   "id": "9d996013-19bc-4d71-b957-43b370e082f2",
   "metadata": {},
   "outputs": [
    {
     "data": {
      "text/plain": [
       "(2+3j)"
      ]
     },
     "execution_count": 4,
     "metadata": {},
     "output_type": "execute_result"
    }
   ],
   "source": [
    "a=2+3j\n",
    "a"
   ]
  },
  {
   "cell_type": "code",
   "execution_count": 10,
   "id": "8d1f22e6-ef3f-406b-a178-06a52727dc91",
   "metadata": {},
   "outputs": [
    {
     "data": {
      "text/plain": [
       "True"
      ]
     },
     "execution_count": 10,
     "metadata": {},
     "output_type": "execute_result"
    }
   ],
   "source": [
    "hlst.pop(5)"
   ]
  },
  {
   "cell_type": "code",
   "execution_count": 20,
   "id": "75b9c85c-97d9-4b29-ae35-06ea6d98de1c",
   "metadata": {},
   "outputs": [
    {
     "data": {
      "text/plain": [
       "[(2+3j),\n",
       " 'Adi',\n",
       " 2.5,\n",
       " [1, 2, 3],\n",
       " (11, 15),\n",
       " range(1, 5),\n",
       " {1: 'India', 2: 'Australia'},\n",
       " [1]]"
      ]
     },
     "execution_count": 20,
     "metadata": {},
     "output_type": "execute_result"
    }
   ],
   "source": [
    "hlst[7]=[1]\n",
    "hlst"
   ]
  },
  {
   "cell_type": "markdown",
   "id": "d22234db-fb90-43f3-ba62-b0aa7b7882e0",
   "metadata": {},
   "source": [
    "##### lst=[]\n",
    "for i in range(0,51,10):\n",
    "    lst.append(str(i))\n",
    "print(lst)"
   ]
  },
  {
   "cell_type": "code",
   "execution_count": 13,
   "id": "5c481d89-9e4a-40af-85f9-28bd37a15b13",
   "metadata": {},
   "outputs": [
    {
     "data": {
      "text/plain": [
       "(1, 1, 4, 5)"
      ]
     },
     "execution_count": 13,
     "metadata": {},
     "output_type": "execute_result"
    }
   ],
   "source": [
    "tp=(1,1,4,5)\n",
    "tp"
   ]
  },
  {
   "cell_type": "code",
   "execution_count": 24,
   "id": "7c82b3b2-ad52-45ad-aa86-e6f83b0a1db0",
   "metadata": {},
   "outputs": [
    {
     "ename": "TypeError",
     "evalue": "'int' object does not support item assignment",
     "output_type": "error",
     "traceback": [
      "\u001b[0;31m---------------------------------------------------------------------------\u001b[0m",
      "\u001b[0;31mTypeError\u001b[0m                                 Traceback (most recent call last)",
      "Cell \u001b[0;32mIn[24], line 1\u001b[0m\n\u001b[0;32m----> 1\u001b[0m \u001b[43mtp\u001b[49m\u001b[43m[\u001b[49m\u001b[38;5;241;43m1\u001b[39;49m\u001b[43m]\u001b[49m\u001b[38;5;241m=\u001b[39m(\u001b[38;5;241m5\u001b[39m)\n",
      "\u001b[0;31mTypeError\u001b[0m: 'int' object does not support item assignment"
     ]
    }
   ],
   "source": [
    "tp[1]=(5)"
   ]
  },
  {
   "cell_type": "code",
   "execution_count": 16,
   "id": "f1f9eb8e-62ff-4284-99eb-7fce3432f834",
   "metadata": {},
   "outputs": [
    {
     "data": {
      "text/plain": [
       "2"
      ]
     },
     "execution_count": 16,
     "metadata": {},
     "output_type": "execute_result"
    }
   ],
   "source": [
    "tp\n",
    "tp"
   ]
  },
  {
   "cell_type": "code",
   "execution_count": 21,
   "id": "0fad8603-3c37-46c1-a8cb-51d0351477bd",
   "metadata": {},
   "outputs": [],
   "source": [
    "tpp=(45,)"
   ]
  },
  {
   "cell_type": "code",
   "execution_count": 25,
   "id": "6cd4291a-0c98-471e-8378-60f470758c02",
   "metadata": {},
   "outputs": [
    {
     "data": {
      "text/plain": [
       "0"
      ]
     },
     "execution_count": 25,
     "metadata": {},
     "output_type": "execute_result"
    }
   ],
   "source": [
    "tpp.count(1)"
   ]
  },
  {
   "cell_type": "code",
   "execution_count": 26,
   "id": "77ec8e89-2ed7-40a6-8807-68a601ff1513",
   "metadata": {},
   "outputs": [
    {
     "data": {
      "text/plain": [
       "0"
      ]
     },
     "execution_count": 26,
     "metadata": {},
     "output_type": "execute_result"
    }
   ],
   "source": [
    "tpp.index(45)"
   ]
  },
  {
   "cell_type": "code",
   "execution_count": 28,
   "id": "33ab1146-dd85-4c55-b8f6-f35c869c000b",
   "metadata": {},
   "outputs": [
    {
     "ename": "AttributeError",
     "evalue": "'tuple' object has no attribute 'extend'",
     "output_type": "error",
     "traceback": [
      "\u001b[0;31m---------------------------------------------------------------------------\u001b[0m",
      "\u001b[0;31mAttributeError\u001b[0m                            Traceback (most recent call last)",
      "Cell \u001b[0;32mIn[28], line 1\u001b[0m\n\u001b[0;32m----> 1\u001b[0m \u001b[43mtpp\u001b[49m\u001b[38;5;241;43m.\u001b[39;49m\u001b[43mextend\u001b[49m(\u001b[38;5;241m47\u001b[39m)\n",
      "\u001b[0;31mAttributeError\u001b[0m: 'tuple' object has no attribute 'extend'"
     ]
    }
   ],
   "source": [
    "tpp.extend(47)"
   ]
  },
  {
   "cell_type": "code",
   "execution_count": 29,
   "id": "5528430a-c634-44e7-bb94-155bc7598ee1",
   "metadata": {},
   "outputs": [],
   "source": [
    "var = {\"Geeks\", \"for\", \"Geeks\"}"
   ]
  },
  {
   "cell_type": "code",
   "execution_count": 33,
   "id": "b9de1a52-7710-4068-9d8f-a18e13869884",
   "metadata": {},
   "outputs": [],
   "source": [
    "var.add(\"PW\")"
   ]
  },
  {
   "cell_type": "code",
   "execution_count": 31,
   "id": "4f544fd7-a9e1-4bb7-b0b9-87d22dea7c87",
   "metadata": {},
   "outputs": [
    {
     "data": {
      "text/plain": [
       "{'Geeks', 'PW', 'for'}"
      ]
     },
     "execution_count": 31,
     "metadata": {},
     "output_type": "execute_result"
    }
   ],
   "source": [
    "var"
   ]
  },
  {
   "cell_type": "code",
   "execution_count": 35,
   "id": "ae9fd646-c406-4247-80bc-ead1e144de13",
   "metadata": {},
   "outputs": [
    {
     "data": {
      "text/plain": [
       "'Geeks'"
      ]
     },
     "execution_count": 35,
     "metadata": {},
     "output_type": "execute_result"
    }
   ],
   "source": [
    "var.pop()"
   ]
  },
  {
   "cell_type": "code",
   "execution_count": 36,
   "id": "2e0ed1f3-9291-4a9a-ad1d-29f5a2bc5d63",
   "metadata": {},
   "outputs": [
    {
     "data": {
      "text/plain": [
       "{'PW', 'Skills', 'for'}"
      ]
     },
     "execution_count": 36,
     "metadata": {},
     "output_type": "execute_result"
    }
   ],
   "source": [
    "bar={\"Skills\"}\n",
    "var.union(bar)"
   ]
  },
  {
   "cell_type": "code",
   "execution_count": 37,
   "id": "db41af54-f2a0-427c-b09f-05559adbb294",
   "metadata": {},
   "outputs": [],
   "source": [
    "var.update()"
   ]
  },
  {
   "cell_type": "code",
   "execution_count": 38,
   "id": "ae3f2322-9879-4157-850b-5ee4aea52a37",
   "metadata": {},
   "outputs": [
    {
     "data": {
      "text/plain": [
       "{'PW', 'for'}"
      ]
     },
     "execution_count": 38,
     "metadata": {},
     "output_type": "execute_result"
    }
   ],
   "source": [
    "var"
   ]
  },
  {
   "cell_type": "code",
   "execution_count": 45,
   "id": "6e2c670e-ec45-468f-93af-52592f037ae1",
   "metadata": {},
   "outputs": [
    {
     "name": "stdout",
     "output_type": "stream",
     "text": [
      "uoy era woh yeH"
     ]
    }
   ],
   "source": [
    "#Iterate string in reverse order\n",
    "\n",
    "for i in range(len(STR)-1,-1,-1):\n",
    "    print(STR[i],end=\"\")"
   ]
  },
  {
   "cell_type": "code",
   "execution_count": 49,
   "id": "72fc68a8-301c-4b7f-a147-067180c10468",
   "metadata": {},
   "outputs": [
    {
     "name": "stdout",
     "output_type": "stream",
     "text": [
      "sllikswP"
     ]
    }
   ],
   "source": [
    "String=\"Pwskills\"\n",
    "ch=len(String)-1\n",
    "while ch>=0:\n",
    "    print(String[ch],end=\"\")\n",
    "    ch=ch-1"
   ]
  },
  {
   "cell_type": "code",
   "execution_count": 53,
   "id": "569fb055-e3ab-445b-b19c-d4d30d04cb32",
   "metadata": {},
   "outputs": [
    {
     "name": "stdout",
     "output_type": "stream",
     "text": [
      "A is a vowel\n",
      "d is not a vowel\n",
      "i is a vowel\n",
      "t is not a vowel\n",
      "y is not a vowel\n",
      "a is a vowel\n"
     ]
    }
   ],
   "source": [
    "Name=\"Aditya\"\n",
    "vowels=\"AaEeIiOoUu\"\n",
    "for i in Name:\n",
    "    if(i in vowels):\n",
    "        print(i + \" is a vowel\")\n",
    "    else:\n",
    "        print(i + \" is not a vowel\")\n",
    "    "
   ]
  },
  {
   "cell_type": "markdown",
   "id": "2b5ef478-2615-4b79-b925-d2d52f440f9f",
   "metadata": {},
   "source": [
    "## LIST"
   ]
  },
  {
   "cell_type": "code",
   "execution_count": 54,
   "id": "1b35fc68-f517-4810-b865-57f007b32e39",
   "metadata": {},
   "outputs": [
    {
     "data": {
      "text/plain": [
       "list"
      ]
     },
     "execution_count": 54,
     "metadata": {},
     "output_type": "execute_result"
    }
   ],
   "source": [
    "##Empty List\n",
    "[]\n",
    "type([])"
   ]
  },
  {
   "cell_type": "code",
   "execution_count": 58,
   "id": "3977c05e-87f2-4940-9d3e-4571a67ba47c",
   "metadata": {},
   "outputs": [],
   "source": [
    "lst=[\"Aditya\",\"Aman\",[1,5,6],14]"
   ]
  },
  {
   "cell_type": "code",
   "execution_count": 59,
   "id": "7f925a16-f6ed-46c3-86b0-25537b741bf9",
   "metadata": {},
   "outputs": [
    {
     "data": {
      "text/plain": [
       "['Aditya', 'Aman', [1, 5, 6], 14]"
      ]
     },
     "execution_count": 59,
     "metadata": {},
     "output_type": "execute_result"
    }
   ],
   "source": [
    "lst"
   ]
  },
  {
   "cell_type": "code",
   "execution_count": 61,
   "id": "f9509001-1b36-4079-920a-fcc500109e9d",
   "metadata": {},
   "outputs": [
    {
     "data": {
      "text/plain": [
       "['P', 'w', 's', 'k', 'i', 'l', 'l', 's']"
      ]
     },
     "execution_count": 61,
     "metadata": {},
     "output_type": "execute_result"
    }
   ],
   "source": [
    "list(String)"
   ]
  },
  {
   "cell_type": "code",
   "execution_count": 66,
   "id": "fa3dcaba-9976-4624-95af-05e133011c50",
   "metadata": {},
   "outputs": [
    {
     "data": {
      "text/plain": [
       "['Aditya', 'Aman', [1, 5, 6], 14, 5, 4, 6, 7]"
      ]
     },
     "execution_count": 66,
     "metadata": {},
     "output_type": "execute_result"
    }
   ],
   "source": [
    "## Concatenation \n",
    "lst1=[5,4,6,7]\n",
    "lst+lst1"
   ]
  },
  {
   "cell_type": "code",
   "execution_count": 68,
   "id": "59c2d4df-b452-4e0d-8336-85224530aebf",
   "metadata": {},
   "outputs": [
    {
     "data": {
      "text/plain": [
       "1"
      ]
     },
     "execution_count": 68,
     "metadata": {},
     "output_type": "execute_result"
    }
   ],
   "source": [
    "## nested list indexing\n",
    "lst[2][0]"
   ]
  },
  {
   "cell_type": "code",
   "execution_count": 69,
   "id": "b1fcd533-d923-4435-b2f5-60d203356f35",
   "metadata": {},
   "outputs": [
    {
     "data": {
      "text/plain": [
       "['Aditya', 'Aman', [1, 5, 6], 14, 'Aditya', 'Aman', [1, 5, 6], 14]"
      ]
     },
     "execution_count": 69,
     "metadata": {},
     "output_type": "execute_result"
    }
   ],
   "source": [
    "lst*2"
   ]
  },
  {
   "cell_type": "code",
   "execution_count": 80,
   "id": "5dc6f5ae-9767-4685-9fd2-8f4e764e188a",
   "metadata": {},
   "outputs": [
    {
     "name": "stdout",
     "output_type": "stream",
     "text": [
      "Present\n"
     ]
    }
   ],
   "source": [
    "for i in lst:\n",
    "    if ('Aman' in lst):\n",
    "        print(\"Present\")\n",
    "        break\n",
    "       \n"
   ]
  },
  {
   "cell_type": "code",
   "execution_count": 82,
   "id": "e445331e-109c-48b4-8308-eac2830ef71a",
   "metadata": {},
   "outputs": [
    {
     "data": {
      "text/plain": [
       "'Rohan'"
      ]
     },
     "execution_count": 82,
     "metadata": {},
     "output_type": "execute_result"
    }
   ],
   "source": [
    "lst2=['Aditya','Aman','Rohan']\n",
    "max(lst2)"
   ]
  },
  {
   "cell_type": "code",
   "execution_count": 83,
   "id": "2d60c573-e544-4c30-9efd-14cb9dd7118f",
   "metadata": {},
   "outputs": [],
   "source": [
    "## APPEND\n",
    "lst2.append([1,2,3])"
   ]
  },
  {
   "cell_type": "code",
   "execution_count": 84,
   "id": "44ef9365-2d61-43ce-8fe6-1b0d2b93cdf2",
   "metadata": {},
   "outputs": [
    {
     "data": {
      "text/plain": [
       "['Aditya', 'Aman', 'Rohan', [1, 2, 3]]"
      ]
     },
     "execution_count": 84,
     "metadata": {},
     "output_type": "execute_result"
    }
   ],
   "source": [
    "lst2"
   ]
  },
  {
   "cell_type": "code",
   "execution_count": 120,
   "id": "3e772b3b-e67c-4b09-bf8e-032e8934ea7f",
   "metadata": {},
   "outputs": [
    {
     "data": {
      "text/plain": [
       "['Aditya', 'Rohan', [1, 2, 3], 8, 5, 'Good', 8, 5, 'Good', 8, 5, 'Good']"
      ]
     },
     "execution_count": 120,
     "metadata": {},
     "output_type": "execute_result"
    }
   ],
   "source": [
    "lst2.extend([8,5,\"Good\"])\n",
    "lst2"
   ]
  },
  {
   "cell_type": "code",
   "execution_count": 96,
   "id": "eae25859-2ea7-4e16-b0b9-22c8aec93872",
   "metadata": {},
   "outputs": [
    {
     "data": {
      "text/plain": [
       "'d'"
      ]
     },
     "execution_count": 96,
     "metadata": {},
     "output_type": "execute_result"
    }
   ],
   "source": [
    "lst2.pop(4)"
   ]
  },
  {
   "cell_type": "code",
   "execution_count": 98,
   "id": "82e550da-5c12-40e3-b95a-435ae972f899",
   "metadata": {},
   "outputs": [
    {
     "data": {
      "text/plain": [
       "['Aditya', 'Aman', 'Rohan', [1, 2, 3], '1']"
      ]
     },
     "execution_count": 98,
     "metadata": {},
     "output_type": "execute_result"
    }
   ],
   "source": [
    "lst2"
   ]
  },
  {
   "cell_type": "code",
   "execution_count": 102,
   "id": "0c3aa07d-4444-4c9d-974e-ed52fb49c525",
   "metadata": {},
   "outputs": [],
   "source": [
    "lst2.remove('1')"
   ]
  },
  {
   "cell_type": "code",
   "execution_count": 103,
   "id": "4ed30054-004f-420e-80aa-f784af558c40",
   "metadata": {},
   "outputs": [
    {
     "data": {
      "text/plain": [
       "['Aditya', 'Aman', 'Rohan', [1, 2, 3]]"
      ]
     },
     "execution_count": 103,
     "metadata": {},
     "output_type": "execute_result"
    }
   ],
   "source": [
    "lst2"
   ]
  },
  {
   "cell_type": "code",
   "execution_count": 104,
   "id": "20521c85-ad31-4844-81bb-7ad742563968",
   "metadata": {},
   "outputs": [],
   "source": [
    "lst2.remove('Aman')"
   ]
  },
  {
   "cell_type": "code",
   "execution_count": 105,
   "id": "958dcc98-a2f2-4efd-b54c-8845233a6281",
   "metadata": {},
   "outputs": [
    {
     "data": {
      "text/plain": [
       "['Aditya', 'Rohan', [1, 2, 3]]"
      ]
     },
     "execution_count": 105,
     "metadata": {},
     "output_type": "execute_result"
    }
   ],
   "source": [
    "lst2"
   ]
  },
  {
   "cell_type": "code",
   "execution_count": 110,
   "id": "1f249313-6c9b-4102-95a6-2f425fb7c39a",
   "metadata": {},
   "outputs": [],
   "source": [
    "new_lst=['a','e','i','o','u','b']\n",
    "new_lst.reverse()"
   ]
  },
  {
   "cell_type": "code",
   "execution_count": 111,
   "id": "4faff218-4697-4821-8029-61807b268f91",
   "metadata": {},
   "outputs": [
    {
     "data": {
      "text/plain": [
       "['b', 'u', 'o', 'i', 'e', 'a']"
      ]
     },
     "execution_count": 111,
     "metadata": {},
     "output_type": "execute_result"
    }
   ],
   "source": [
    "new_lst"
   ]
  },
  {
   "cell_type": "code",
   "execution_count": 112,
   "id": "a37a1f62-4c2c-4be9-aed8-29fa75870ac0",
   "metadata": {},
   "outputs": [],
   "source": [
    "new_lst.sort()"
   ]
  },
  {
   "cell_type": "code",
   "execution_count": 113,
   "id": "868720e1-78cc-44be-8254-6c3e98a04353",
   "metadata": {},
   "outputs": [
    {
     "data": {
      "text/plain": [
       "['a', 'b', 'e', 'i', 'o', 'u']"
      ]
     },
     "execution_count": 113,
     "metadata": {},
     "output_type": "execute_result"
    }
   ],
   "source": [
    "new_lst"
   ]
  },
  {
   "cell_type": "code",
   "execution_count": 121,
   "id": "5a8217b1-3a0b-4326-bf1d-f76bfdb245f8",
   "metadata": {},
   "outputs": [
    {
     "data": {
      "text/plain": [
       "[[1, 2, 3], [4, 5, 6], [7, 8, 9]]"
      ]
     },
     "execution_count": 121,
     "metadata": {},
     "output_type": "execute_result"
    }
   ],
   "source": [
    "matrix=[[1,2,3],[4,5,6],[7,8,9]]\n",
    "matrix"
   ]
  },
  {
   "cell_type": "code",
   "execution_count": 125,
   "id": "fcdf6caa-f0b5-4f05-8d82-1ebee3ff9bd3",
   "metadata": {},
   "outputs": [
    {
     "name": "stdout",
     "output_type": "stream",
     "text": [
      "1 4 7\n"
     ]
    }
   ],
   "source": [
    "for i in matrix:\n",
    "    print(matrix[0][0],matrix[1][0],matrix[2][0])\n",
    "    break"
   ]
  },
  {
   "cell_type": "code",
   "execution_count": 149,
   "id": "49fd5271-9f07-4e6f-8cf4-18180058f0d8",
   "metadata": {},
   "outputs": [
    {
     "data": {
      "text/plain": [
       "[0, 'Odd', 2, 'Odd', 4, 'Odd', 6, 'Odd', 8, 'Odd', 10, 'Odd', 12, 'Odd', 14]"
      ]
     },
     "execution_count": 149,
     "metadata": {},
     "output_type": "execute_result"
    }
   ],
   "source": [
    "## List comprehension\n",
    "[i if i%2==0 else \"Odd\" for i in range(0,15)]"
   ]
  },
  {
   "cell_type": "code",
   "execution_count": 161,
   "id": "5d4f7e8b-5289-4df2-b02c-b4f4e118f431",
   "metadata": {},
   "outputs": [
    {
     "name": "stdout",
     "output_type": "stream",
     "text": [
      "Sum of even numbers are- 12\n",
      "Sum of odd numbers are- 16\n"
     ]
    }
   ],
   "source": [
    "# Sum of even no.s and odd no.s\n",
    "lst=[1,2,3,4,5,6,7]\n",
    "Sum1=0\n",
    "Sum2=0\n",
    "for i in lst:\n",
    "    if(i%2==0):\n",
    "        Sum1+=i\n",
    "    elif(i%2!=0):\n",
    "        Sum2+=i\n",
    "print(\"Sum of even numbers are-\",Sum1)\n",
    "print(\"Sum of odd numbers are-\",Sum2)"
   ]
  },
  {
   "cell_type": "code",
   "execution_count": 165,
   "id": "33ed4685-269e-4158-850f-748ff6227c09",
   "metadata": {},
   "outputs": [
    {
     "data": {
      "text/plain": [
       "12"
      ]
     },
     "execution_count": 165,
     "metadata": {},
     "output_type": "execute_result"
    }
   ],
   "source": [
    "## Using list comprehension\n",
    "\n",
    "Even_sum=sum([num for num in lst if num%2==0])\n",
    "Even_sum"
   ]
  },
  {
   "cell_type": "code",
   "execution_count": 167,
   "id": "b38e5e06-9097-455b-bd40-7d195cf4e002",
   "metadata": {},
   "outputs": [
    {
     "data": {
      "text/plain": [
       "16"
      ]
     },
     "execution_count": 167,
     "metadata": {},
     "output_type": "execute_result"
    }
   ],
   "source": [
    "Odd_sum=sum([num for num in lst if num%2!=0])\n",
    "Odd_sum"
   ]
  },
  {
   "cell_type": "code",
   "execution_count": 170,
   "id": "815e1fe0-d86c-4840-8de6-847580083228",
   "metadata": {},
   "outputs": [
    {
     "ename": "TypeError",
     "evalue": "unsupported operand type(s) for ** or pow(): 'list' and 'int'",
     "output_type": "error",
     "traceback": [
      "\u001b[0;31m---------------------------------------------------------------------------\u001b[0m",
      "\u001b[0;31mTypeError\u001b[0m                                 Traceback (most recent call last)",
      "Cell \u001b[0;32mIn[170], line 2\u001b[0m\n\u001b[1;32m      1\u001b[0m sq\u001b[38;5;241m=\u001b[39m\u001b[38;5;28;01mlambda\u001b[39;00m x: x\u001b[38;5;241m*\u001b[39m\u001b[38;5;241m*\u001b[39m\u001b[38;5;241m2\u001b[39m \n\u001b[0;32m----> 2\u001b[0m \u001b[43msq\u001b[49m\u001b[43m(\u001b[49m\u001b[43mlst\u001b[49m\u001b[43m)\u001b[49m\n",
      "Cell \u001b[0;32mIn[170], line 1\u001b[0m, in \u001b[0;36m<lambda>\u001b[0;34m(x)\u001b[0m\n\u001b[0;32m----> 1\u001b[0m sq\u001b[38;5;241m=\u001b[39m\u001b[38;5;28;01mlambda\u001b[39;00m x: \u001b[43mx\u001b[49m\u001b[38;5;241;43m*\u001b[39;49m\u001b[38;5;241;43m*\u001b[39;49m\u001b[38;5;241;43m2\u001b[39;49m \n\u001b[1;32m      2\u001b[0m sq(lst)\n",
      "\u001b[0;31mTypeError\u001b[0m: unsupported operand type(s) for ** or pow(): 'list' and 'int'"
     ]
    }
   ],
   "source": [
    "sq=lambda x: x**2 "
   ]
  },
  {
   "cell_type": "code",
   "execution_count": 173,
   "id": "0bca9c91-40e1-42cc-80ee-dfd3fa51196f",
   "metadata": {},
   "outputs": [
    {
     "data": {
      "text/plain": [
       "[0, 1, 2, 3]"
      ]
     },
     "execution_count": 173,
     "metadata": {},
     "output_type": "execute_result"
    }
   ],
   "source": [
    "numbers=[-2,-1,0,1,2,3]\n",
    "pos_num=[num for num in numbers if num>=0]\n",
    "pos_num"
   ]
  },
  {
   "cell_type": "code",
   "execution_count": 176,
   "id": "1e7f9489-1579-4eb1-8d31-3e047d6dbc4a",
   "metadata": {},
   "outputs": [],
   "source": [
    "words=['Apple','Banana','Cherry','Date']\n",
    "First_letter=[num[0] for num in words]"
   ]
  },
  {
   "cell_type": "code",
   "execution_count": 177,
   "id": "70f1dbc4-784e-4041-865d-e610755bc727",
   "metadata": {},
   "outputs": [
    {
     "data": {
      "text/plain": [
       "['A', 'B', 'C', 'D']"
      ]
     },
     "execution_count": 177,
     "metadata": {},
     "output_type": "execute_result"
    }
   ],
   "source": [
    "First_letter"
   ]
  },
  {
   "cell_type": "code",
   "execution_count": 3,
   "id": "e9ffec91-467d-427e-b9a6-024da79266f8",
   "metadata": {},
   "outputs": [],
   "source": [
    "lst_temp=[0,10,20,30,40,50]\n",
    "Fahrenheit_temp=[(9/5)*num+32 for num in lst_temp]"
   ]
  },
  {
   "cell_type": "code",
   "execution_count": 4,
   "id": "319a7226-24fe-4178-a83d-155f0621f702",
   "metadata": {},
   "outputs": [
    {
     "data": {
      "text/plain": [
       "[32.0, 50.0, 68.0, 86.0, 104.0, 122.0]"
      ]
     },
     "execution_count": 4,
     "metadata": {},
     "output_type": "execute_result"
    }
   ],
   "source": [
    "Fahrenheit_temp"
   ]
  },
  {
   "cell_type": "code",
   "execution_count": 9,
   "id": "3633b349-4dae-4ae4-9554-9a707c566c71",
   "metadata": {},
   "outputs": [
    {
     "data": {
      "text/plain": [
       "[1, 2, 3, 4, 5, 6, 7, 8, 9]"
      ]
     },
     "execution_count": 9,
     "metadata": {},
     "output_type": "execute_result"
    }
   ],
   "source": [
    "## Flatten a list of lists into a single list\n",
    "lists=[[1,2,3],[4,5,6],[7,8,9]]\n",
    "[num for sublist in lists for num in sublist]"
   ]
  },
  {
   "cell_type": "code",
   "execution_count": 18,
   "id": "67ad6447-943a-466e-8f0d-363adbb18b55",
   "metadata": {},
   "outputs": [
    {
     "name": "stdout",
     "output_type": "stream",
     "text": [
      "[1, 3, 5, 7]\n"
     ]
    }
   ],
   "source": [
    "## Create a list of only prime no. from a list\n",
    "numbers=[1,2,3,4,5,6,7]\n",
    "k=[]\n",
    "for i in numbers:\n",
    "    if(i%2!=0):\n",
    "         k.append(i)\n",
    "print(k)"
   ]
  },
  {
   "cell_type": "code",
   "execution_count": 19,
   "id": "7e067c95-1b2b-4b1b-add3-4d0378fadd6d",
   "metadata": {},
   "outputs": [
    {
     "data": {
      "text/plain": [
       "[1, ' ', 3, ' ', 5, ' ', 7]"
      ]
     },
     "execution_count": 19,
     "metadata": {},
     "output_type": "execute_result"
    }
   ],
   "source": [
    "[num if num%2!=0 else \" \" for num in numbers]"
   ]
  },
  {
   "cell_type": "code",
   "execution_count": 29,
   "id": "5474d182-e23a-4b98-a742-a8be481addc5",
   "metadata": {},
   "outputs": [],
   "source": [
    "## List of all possible combinations of 2 elements from a list\n",
    "\n",
    "numbers=[1,2,3,4,5]\n",
    "\n",
    "         "
   ]
  },
  {
   "cell_type": "code",
   "execution_count": null,
   "id": "6c8ee8f7-6105-4f96-8163-0b9c45a3a575",
   "metadata": {},
   "outputs": [],
   "source": []
  }
 ],
 "metadata": {
  "kernelspec": {
   "display_name": "Python 3 (ipykernel)",
   "language": "python",
   "name": "python3"
  },
  "language_info": {
   "codemirror_mode": {
    "name": "ipython",
    "version": 3
   },
   "file_extension": ".py",
   "mimetype": "text/x-python",
   "name": "python",
   "nbconvert_exporter": "python",
   "pygments_lexer": "ipython3",
   "version": "3.10.8"
  }
 },
 "nbformat": 4,
 "nbformat_minor": 5
}
