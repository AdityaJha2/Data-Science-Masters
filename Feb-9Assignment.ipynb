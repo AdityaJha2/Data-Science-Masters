{
 "cells": [
  {
   "cell_type": "code",
   "execution_count": 1,
   "id": "83ff623a-e856-499d-af87-6db5e379b628",
   "metadata": {},
   "outputs": [],
   "source": [
    "#Question1\n",
    "#Create a vehicle class with an init method having instance variables as name_of_vehicle, max_speed and average_of_vehicle.\n",
    "\n",
    "class Vehicle:\n",
    "    def __init__(self,name_of_vehicle, max_speed, average_of_vehicle):\n",
    "        self.name_of_vehicle=name_of_vehicle\n",
    "        self.max_speed=max_speed\n",
    "        self.average_of_vehicle=average_of_vehicle\n",
    "        "
   ]
  },
  {
   "cell_type": "code",
   "execution_count": 2,
   "id": "da735f2c-60bd-4444-a487-042c6b62126d",
   "metadata": {},
   "outputs": [],
   "source": [
    "#Question2\n",
    "'''Create a child class car from the vehicle class created in Que 1, which will inherit the vehicle class.\n",
    "Create a method named seating_capacity which takes capacity as an argument and returns the name of\n",
    "the vehicle and its seating capacity.'''\n",
    "\n",
    "class car(Vehicle):\n",
    "    def seating_capacity(self,capacity):\n",
    "        print(f\"The seating capacity of {self.name_of_vehicle} is {capacity} passengers\")"
   ]
  },
  {
   "cell_type": "code",
   "execution_count": 4,
   "id": "0da2c1cd-d9ae-499a-ae86-0ae60cbc9c64",
   "metadata": {},
   "outputs": [],
   "source": [
    "obj_car=car('Bmw',320,40)"
   ]
  },
  {
   "cell_type": "code",
   "execution_count": 5,
   "id": "ca01e8c9-359c-4fb3-aa24-616bc345b917",
   "metadata": {},
   "outputs": [
    {
     "name": "stdout",
     "output_type": "stream",
     "text": [
      "The seating capacity of Bmw is 4 passengers\n"
     ]
    }
   ],
   "source": [
    "obj_car.seating_capacity(4)"
   ]
  },
  {
   "cell_type": "code",
   "execution_count": 12,
   "id": "46249598-50cc-4891-9026-159c8f60cc91",
   "metadata": {},
   "outputs": [
    {
     "name": "stdout",
     "output_type": "stream",
     "text": [
      "Multiple Inheritance- When a class is derived from more than one base class it is called multiple Inheritance.\n",
      "The derived class inherits all the features of the base case.\n"
     ]
    }
   ],
   "source": [
    "#Question3\n",
    "'''What is multiple inheritance? Write a python code to demonstrate multiple inheritance.'''\n",
    "print('''Multiple Inheritance- When a class is derived from more than one base class it is called multiple Inheritance.\n",
    "The derived class inherits all the features of the base case.''')\n",
    "\n",
    "class Father:\n",
    "    def fname(self, fathername):\n",
    "        self.fathername=fathername\n",
    "        print('Father name-',self.fathername)\n",
    "        \n",
    "class Mother:\n",
    "    def mname(self,mothername):\n",
    "        self.mothername=mothername\n",
    "        print('Mother name-',self.mothername)\n",
    "        \n",
    "class child(Father, Mother):\n",
    "    pass\n",
    "  "
   ]
  },
  {
   "cell_type": "code",
   "execution_count": 10,
   "id": "fdb2058b-1e0b-45a5-80d2-cf7d824b1668",
   "metadata": {},
   "outputs": [],
   "source": [
    "obj_child=child()"
   ]
  },
  {
   "cell_type": "code",
   "execution_count": 11,
   "id": "919ecb23-d683-469a-afb5-c95c88d5eae6",
   "metadata": {},
   "outputs": [
    {
     "name": "stdout",
     "output_type": "stream",
     "text": [
      "Father name- Ajay\n",
      "Mother name- Arti\n"
     ]
    }
   ],
   "source": [
    "obj_child.fname('Ajay')\n",
    "obj_child.mname('Arti')"
   ]
  },
  {
   "cell_type": "code",
   "execution_count": 13,
   "id": "0b85e838-2932-44bb-8b1b-7656648758ab",
   "metadata": {},
   "outputs": [
    {
     "name": "stdout",
     "output_type": "stream",
     "text": [
      "Basically, the main purpose of using getters and setters in object-oriented programs is to ensure data encapsulation.\n",
      "Getters and Setters in python are often used when:\n",
      "We use getters & setters to add validation logic around getting and setting a value.\n",
      "To avoid direct access of a class field i.e. private variables cannot be accessed directly or modified by external user.\n"
     ]
    }
   ],
   "source": [
    "#Question4\n",
    "\n",
    "'''What are getter and setter in python? Create a class and create a getter and a setter method in this\n",
    "class.'''\n",
    "\n",
    "print('''Basically, the main purpose of using getters and setters in object-oriented programs is to ensure data encapsulation.\n",
    "Getters and Setters in python are often used when:\n",
    "We use getters & setters to add validation logic around getting and setting a value.\n",
    "To avoid direct access of a class field i.e. private variables cannot be accessed directly or modified by external user.''')"
   ]
  },
  {
   "cell_type": "code",
   "execution_count": 14,
   "id": "83af13fc-6b1a-4285-84ce-c94720930656",
   "metadata": {},
   "outputs": [],
   "source": [
    "class School:\n",
    "    def __init__(self, name, state):\n",
    "        self.__schoolname=name\n",
    "        self.__schoolstate=state\n",
    "        \n",
    "    def get_name(self):\n",
    "        return self.__schoolname\n",
    "\n",
    "    \n",
    "    def set_name(self,n):\n",
    "        self.__schoolname=n\n",
    "        \n",
    "        \n",
    "    def get_state(self):\n",
    "        return self.__schoolstate\n",
    "   \n",
    "        \n",
    "    def set_state(self,n):\n",
    "        self.__schoolstate=n\n",
    "        "
   ]
  },
  {
   "cell_type": "code",
   "execution_count": 17,
   "id": "7fbc2a8c-196e-4a10-8b2c-bd3ad74809c3",
   "metadata": {},
   "outputs": [],
   "source": [
    "obj1=School('Kv-Jnu','Delhi')"
   ]
  },
  {
   "cell_type": "code",
   "execution_count": 18,
   "id": "862bf494-1304-4cde-9ae6-cc6be174f781",
   "metadata": {},
   "outputs": [
    {
     "data": {
      "text/plain": [
       "'Kv-Jnu'"
      ]
     },
     "execution_count": 18,
     "metadata": {},
     "output_type": "execute_result"
    }
   ],
   "source": [
    "obj1.get_name()"
   ]
  },
  {
   "cell_type": "code",
   "execution_count": 19,
   "id": "8b41aa09-4a2c-4957-bdf9-c2cc4f0a3383",
   "metadata": {},
   "outputs": [
    {
     "data": {
      "text/plain": [
       "'Delhi'"
      ]
     },
     "execution_count": 19,
     "metadata": {},
     "output_type": "execute_result"
    }
   ],
   "source": [
    "obj1.get_state()"
   ]
  },
  {
   "cell_type": "code",
   "execution_count": 20,
   "id": "496b7d75-8a38-4977-bcb7-2c9ce465148a",
   "metadata": {},
   "outputs": [],
   "source": [
    "obj1.set_name('Amrita Public School')"
   ]
  },
  {
   "cell_type": "code",
   "execution_count": 21,
   "id": "727f7f57-e347-4b74-b0b6-2fde1f850446",
   "metadata": {},
   "outputs": [
    {
     "data": {
      "text/plain": [
       "'Amrita Public School'"
      ]
     },
     "execution_count": 21,
     "metadata": {},
     "output_type": "execute_result"
    }
   ],
   "source": [
    "obj1.get_name()"
   ]
  },
  {
   "cell_type": "code",
   "execution_count": 22,
   "id": "e5c2ad82-e08b-44f1-8daf-316a5d5ff12b",
   "metadata": {},
   "outputs": [],
   "source": [
    "obj1.set_state('UP')"
   ]
  },
  {
   "cell_type": "code",
   "execution_count": 23,
   "id": "65f5ea52-f97b-46c2-b0a3-ee158d9c26f8",
   "metadata": {},
   "outputs": [
    {
     "data": {
      "text/plain": [
       "'UP'"
      ]
     },
     "execution_count": 23,
     "metadata": {},
     "output_type": "execute_result"
    }
   ],
   "source": [
    "obj1.get_state()"
   ]
  },
  {
   "cell_type": "code",
   "execution_count": 25,
   "id": "f1566f91-dd82-4223-88b5-9d67617082eb",
   "metadata": {},
   "outputs": [
    {
     "name": "stdout",
     "output_type": "stream",
     "text": [
      "Method overriding is an ability of any object-oriented programming language that allows a subclass or child class to provide a specific implementation of a method that is already provided by one of its super-classes or parent classes. When a method in a subclass has the same name, same parameters or signature and same return type(or sub-type) as a method in its super-class,\n",
      "then the method in the subclass is said to override the method in the super-class.\n"
     ]
    }
   ],
   "source": [
    "#Question5\n",
    "'''What is method overriding in python? Write a python code to demonstrate method overriding.'''\n",
    "\n",
    "print('''Method overriding is an ability of any object-oriented programming language that allows a subclass or child class to provide a specific implementation of a method that is already provided by one of its super-classes or parent classes. When a method in a subclass has the same name, same parameters or signature and same return type(or sub-type) as a method in its super-class,\n",
    "then the method in the subclass is said to override the method in the super-class.''')\n"
   ]
  },
  {
   "cell_type": "code",
   "execution_count": 27,
   "id": "865b6591-8f13-4949-a04b-bc4feb2d3767",
   "metadata": {},
   "outputs": [
    {
     "name": "stdout",
     "output_type": "stream",
     "text": [
      "Inside Parent\n",
      "Inside Child\n"
     ]
    }
   ],
   "source": [
    "class Parent():\n",
    "    def __init__(self):\n",
    "        self.value = \"Inside Parent\"\n",
    "        \n",
    "    def show(self):\n",
    "        print(self.value)\n",
    "          \n",
    "class Child(Parent):\n",
    "\n",
    "    def __init__(self):\n",
    "        self.value = \"Inside Child\"\n",
    "          \n",
    "    def show(self):\n",
    "        print(self.value)\n",
    "          \n",
    "obj1 = Parent()\n",
    "obj2 = Child()\n",
    "  \n",
    "obj1.show()\n",
    "obj2.show()"
   ]
  },
  {
   "cell_type": "code",
   "execution_count": null,
   "id": "4b8ca781-3824-4ad7-bdfe-2c3d96edc8f6",
   "metadata": {},
   "outputs": [],
   "source": []
  }
 ],
 "metadata": {
  "kernelspec": {
   "display_name": "Python 3 (ipykernel)",
   "language": "python",
   "name": "python3"
  },
  "language_info": {
   "codemirror_mode": {
    "name": "ipython",
    "version": 3
   },
   "file_extension": ".py",
   "mimetype": "text/x-python",
   "name": "python",
   "nbconvert_exporter": "python",
   "pygments_lexer": "ipython3",
   "version": "3.10.8"
  }
 },
 "nbformat": 4,
 "nbformat_minor": 5
}
