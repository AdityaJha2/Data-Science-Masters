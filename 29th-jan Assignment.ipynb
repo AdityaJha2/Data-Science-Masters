{
 "cells": [
  {
   "cell_type": "code",
   "execution_count": 2,
   "id": "f15b7650-2709-473d-98df-b5f6b243b4e9",
   "metadata": {},
   "outputs": [
    {
     "data": {
      "text/plain": [
       "'Guido Van Rossum had created Python programming langauge.'"
      ]
     },
     "execution_count": 2,
     "metadata": {},
     "output_type": "execute_result"
    }
   ],
   "source": [
    "## Question1\n",
    "\n",
    "'''Guido Van Rossum had created Python programming langauge.'''"
   ]
  },
  {
   "cell_type": "code",
   "execution_count": 4,
   "id": "6cd4737c-2226-44d0-b706-f05fbfd03b8d",
   "metadata": {},
   "outputs": [
    {
     "data": {
      "text/plain": [
       "'Python supports interpreted programming language.'"
      ]
     },
     "execution_count": 4,
     "metadata": {},
     "output_type": "execute_result"
    }
   ],
   "source": [
    "## Question2\n",
    "\n",
    "'''Python supports interpreted programming language.'''"
   ]
  },
  {
   "cell_type": "code",
   "execution_count": 7,
   "id": "b21757d1-0729-4cc5-a7f2-7d4217a09bc2",
   "metadata": {},
   "outputs": [
    {
     "name": "stdout",
     "output_type": "stream",
     "text": [
      "54 52\n"
     ]
    }
   ],
   "source": [
    "## Question3\n",
    "\n",
    "'''Yes python is case-sensitive when dealing with identifiers.'''\n",
    "var1=54\n",
    "Var1=52\n",
    "print(var1,Var1)"
   ]
  },
  {
   "cell_type": "code",
   "execution_count": 11,
   "id": "3546c6e5-2f50-4206-9ea6-030b3b6709ef",
   "metadata": {},
   "outputs": [
    {
     "data": {
      "text/plain": [
       "'Correct extension of python file is: (.ipynb) which stands for interactive python notebook.'"
      ]
     },
     "execution_count": 11,
     "metadata": {},
     "output_type": "execute_result"
    }
   ],
   "source": [
    "## Question4\n",
    "'''Correct extension of python file is: (.ipynb) which stands for interactive python notebook.'''"
   ]
  },
  {
   "cell_type": "code",
   "execution_count": 12,
   "id": "34c13356-246e-41e7-80a7-3ba71a217f73",
   "metadata": {},
   "outputs": [
    {
     "data": {
      "text/plain": [
       "'Python code is interpreted.'"
      ]
     },
     "execution_count": 12,
     "metadata": {},
     "output_type": "execute_result"
    }
   ],
   "source": [
    "## Question5\n",
    "'''Python code is interpreted.'''\n"
   ]
  },
  {
   "cell_type": "code",
   "execution_count": 1,
   "id": "98ba1adb-3e9c-4356-acf7-be9b661073a2",
   "metadata": {},
   "outputs": [
    {
     "data": {
      "text/plain": [
       "'Identation is used to define a block of code in python.'"
      ]
     },
     "execution_count": 1,
     "metadata": {},
     "output_type": "execute_result"
    }
   ],
   "source": [
    "## Question6\n",
    "'''Identation is used to define a block of code in python.'''"
   ]
  },
  {
   "cell_type": "code",
   "execution_count": 2,
   "id": "82104d7d-863f-4e98-9efc-c23eb804da20",
   "metadata": {},
   "outputs": [
    {
     "data": {
      "text/plain": [
       "\"We can write single line comment by adding single '#' character\""
      ]
     },
     "execution_count": 2,
     "metadata": {},
     "output_type": "execute_result"
    }
   ],
   "source": [
    "## Question7\n",
    "'''We can write single line comment by adding single '#' character'''"
   ]
  },
  {
   "cell_type": "code",
   "execution_count": 9,
   "id": "6d88ffec-4103-4a8f-bad5-09638a34d9f9",
   "metadata": {},
   "outputs": [
    {
     "data": {
      "text/plain": [
       "'3.10.8 | packaged by conda-forge | (main, Nov 22 2022, 08:26:04) [GCC 10.4.0]'"
      ]
     },
     "execution_count": 9,
     "metadata": {},
     "output_type": "execute_result"
    }
   ],
   "source": [
    "##Quuestion8\n",
    "\n",
    "#First we need to import function sys and  then type sys.version\n",
    "import sys\n",
    "sys.version"
   ]
  },
  {
   "cell_type": "code",
   "execution_count": 26,
   "id": "b3a84b85-b9ab-4807-b72c-8307d2e98e63",
   "metadata": {},
   "outputs": [
    {
     "name": "stdout",
     "output_type": "stream",
     "text": [
      "25\n"
     ]
    }
   ],
   "source": [
    "##Question9\n",
    "'''lambda'''\n",
    "#Example\n",
    "num=5\n",
    "sq=lambda x: x**2\n",
    "print(sq(num))"
   ]
  },
  {
   "cell_type": "code",
   "execution_count": 33,
   "id": "e9bbcff8-85f5-4888-ab87-33e3e4c1515b",
   "metadata": {},
   "outputs": [
    {
     "name": "stdout",
     "output_type": "stream",
     "text": [
      "Pip stands for- preferred installer program\n"
     ]
    }
   ],
   "source": [
    "##Question10\n",
    "\n",
    "print(\"Pip stands for- preferred installer program\")"
   ]
  },
  {
   "cell_type": "code",
   "execution_count": 32,
   "id": "e78798bb-3f6c-46ef-8087-dfca9c4e8d84",
   "metadata": {},
   "outputs": [
    {
     "name": "stdout",
     "output_type": "stream",
     "text": [
      "Built-in functions in python are-\n",
      " 1.max()-returns the max element\n",
      " 2.min()-returns the minimum element\n",
      " 3.len()-returns the length of string,list etc\n",
      " 4.count()-returns the count of element\n",
      " 5.upper()-convert the given element into uppercase\n",
      " 5.lower()-convert the given element into lowercase.\n"
     ]
    }
   ],
   "source": [
    "##Question11\n",
    "\n",
    "print('''Built-in functions in python are-\n",
    " 1.max()-returns the max element\n",
    " 2.min()-returns the minimum element\n",
    " 3.len()-returns the length of string,list etc\n",
    " 4.count()-returns the count of element\n",
    " 5.upper()-convert the given element into uppercase\n",
    " 5.lower()-convert the given element into lowercase.''')\n",
    " "
   ]
  },
  {
   "cell_type": "code",
   "execution_count": 35,
   "id": "d4a91bf2-68ab-471e-a106-d3b3552aa72a",
   "metadata": {},
   "outputs": [
    {
     "name": "stdout",
     "output_type": "stream",
     "text": [
      "An identifier can have maximum length of 79 characters in python\n"
     ]
    }
   ],
   "source": [
    "##Question12\n",
    "print(\"An identifier can have maximum length of 79 characters in python\")\n",
    "\n"
   ]
  },
  {
   "cell_type": "code",
   "execution_count": 36,
   "id": "d6e835ac-b207-418d-9ec0-5dbf3910b3d8",
   "metadata": {},
   "outputs": [
    {
     "name": "stdout",
     "output_type": "stream",
     "text": [
      "Python is a high-level, interpreted, and general-purpose dynamic programming language that focuses on code readability.\n",
      " It generally has small programs when compared to Java and C.\n",
      " Python is a powerful, flexible, and easy-to-use language.\n",
      " In addition, the python community is very active.\n",
      " It is used in many organizations as it supports multiple programming paradigms.\n",
      " \n",
      " Some Advantages of python are-\n",
      " Extensive support libraries(NumPy for numerical calculations, Pandas for data analytics, etc.) \n",
      " Open source and large active community base \n",
      " Versatile, Easy to read, learn and write\n",
      " User-friendly data structures \n",
      " High-level language \n",
      " Dynamically typed language(No need to mention data type based on the value assigned, it takes data type) \n",
      " Object-Oriented and Procedural  Programming language\n",
      " Portable and Interactive\n",
      " Ideal for prototypes – provide more functionality with less coding.\n"
     ]
    }
   ],
   "source": [
    "##Question13\n",
    "\n",
    "print('''Python is a high-level, interpreted, and general-purpose dynamic programming language that focuses on code readability.\n",
    " It generally has small programs when compared to Java and C.\n",
    " Python is a powerful, flexible, and easy-to-use language.\n",
    " In addition, the python community is very active.\n",
    " It is used in many organizations as it supports multiple programming paradigms.\n",
    " \n",
    " Some Advantages of python are-\n",
    " Extensive support libraries(NumPy for numerical calculations, Pandas for data analytics, etc.) \n",
    " Open source and large active community base \n",
    " Versatile, Easy to read, learn and write\n",
    " User-friendly data structures \n",
    " High-level language \n",
    " Dynamically typed language(No need to mention data type based on the value assigned, it takes data type) \n",
    " Object-Oriented and Procedural  Programming language\n",
    " Portable and Interactive\n",
    " Ideal for prototypes – provide more functionality with less coding.''')"
   ]
  },
  {
   "cell_type": "code",
   "execution_count": 39,
   "id": "58dd0922-a348-43bd-9620-ab6bb12188c5",
   "metadata": {},
   "outputs": [
    {
     "name": "stdout",
     "output_type": "stream",
     "text": [
      "In Python memory allocation and deallocation method is automatic as the Python developers created a garbage collector \n",
      "for Python so that the user does not have to do manual garbage collection.\n",
      "Garbage collection is a process in which the interpreter frees up the memory when not in use to make it available for other objects.\n"
     ]
    }
   ],
   "source": [
    "##question14\n",
    "\n",
    "print('''In Python memory allocation and deallocation method is automatic as the Python developers created a garbage collector \n",
    "for Python so that the user does not have to do manual garbage collection.\n",
    "Garbage collection is a process in which the interpreter frees up the memory when not in use to make it available for other objects.''')"
   ]
  },
  {
   "cell_type": "code",
   "execution_count": 41,
   "id": "ff2bf489-3214-4c4b-b7ec-bce0ba6c0ba9",
   "metadata": {},
   "outputs": [
    {
     "name": "stdout",
     "output_type": "stream",
     "text": [
      " Go to the python.org website to download and install your preferred version of python.\n",
      " To add Python to the PATH in User variables, right-click on This PC, and select Properties.\n",
      " Once in the properties menu, click on the Advanced system settings option.\n",
      " In the next window, select the Advanced tab, and select Environment Variables.\n",
      " Within the User variables menu, locate a variable called Path.\n",
      " Then paste the path you copied earlier in the Variable value option using Ctrl + v and click Ok.\n",
      " Go back to your Python installation path folder and double-click on Scripts to open that directory.\n",
      " Next, copy its path from the path bar at the upper part of the windows (besides the search bar).\n",
      " Next, select the Path variable and click on Edit. \n",
      " Type a semi-colon after your Python executable path and paste the Scripts path you just copied after it. Then click Ok.\n"
     ]
    }
   ],
   "source": [
    "##question!5\n",
    "\n",
    "print(''' Go to the python.org website to download and install your preferred version of python.\n",
    " To add Python to the PATH in User variables, right-click on This PC, and select Properties.\n",
    " Once in the properties menu, click on the Advanced system settings option.\n",
    " In the next window, select the Advanced tab, and select Environment Variables.\n",
    " Within the User variables menu, locate a variable called Path.\n",
    " Then paste the path you copied earlier in the Variable value option using Ctrl + v and click Ok.\n",
    " Go back to your Python installation path folder and double-click on Scripts to open that directory.\n",
    " Next, copy its path from the path bar at the upper part of the windows (besides the search bar).\n",
    " Next, select the Path variable and click on Edit. \n",
    " Type a semi-colon after your Python executable path and paste the Scripts path you just copied after it. Then click Ok.''')"
   ]
  },
  {
   "cell_type": "code",
   "execution_count": 42,
   "id": "0153fe32-8bc4-4f1d-a387-1906b0c53da4",
   "metadata": {},
   "outputs": [
    {
     "name": "stdout",
     "output_type": "stream",
     "text": [
      "Yes,Identation is required in python\n"
     ]
    }
   ],
   "source": [
    "##Question16\n",
    "print(\"Yes,Identation is required in python\")\n"
   ]
  },
  {
   "cell_type": "code",
   "execution_count": null,
   "id": "755db7a1-71fa-4b52-ab1b-fbe1dfed424d",
   "metadata": {},
   "outputs": [],
   "source": []
  }
 ],
 "metadata": {
  "kernelspec": {
   "display_name": "Python 3 (ipykernel)",
   "language": "python",
   "name": "python3"
  },
  "language_info": {
   "codemirror_mode": {
    "name": "ipython",
    "version": 3
   },
   "file_extension": ".py",
   "mimetype": "text/x-python",
   "name": "python",
   "nbconvert_exporter": "python",
   "pygments_lexer": "ipython3",
   "version": "3.10.8"
  }
 },
 "nbformat": 4,
 "nbformat_minor": 5
}
